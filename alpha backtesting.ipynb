{
 "cells": [
  {
   "cell_type": "code",
   "execution_count": 1,
   "id": "35efd16b",
   "metadata": {},
   "outputs": [],
   "source": [
    "import yfinance as yf\n",
    "import pandas as pd\n",
    "import numpy as np\n",
    "\n",
    "from sklearn.feature_selection import mutual_info_regression\n",
    "from scipy.stats import spearmanr\n",
    "import matplotlib.pyplot as plt\n",
    "import seaborn as sns"
   ]
  },
  {
   "cell_type": "code",
   "execution_count": 2,
   "id": "45b590d3",
   "metadata": {},
   "outputs": [],
   "source": [
    "nasdaq_100_tickers = [\"AAPL\", \"MSFT\", \"AMZN\", \"GOOGL\", \"GOOG\", \"TSLA\", \"META\", \"NVDA\", \"PYPL\", \"NFLX\",\n",
    "    \"ASML\", \"ADBE\", \"INTC\", \"CMCSA\", \"CSCO\", \"PEP\", \"AVGO\", \"TMUS\", \"COST\",\n",
    "    \"TXN\", \"QCOM\", \"AMAT\", \"MU\", \"AMGN\", \"INTU\", \"ISRG\", \"CSX\", \"VRTX\",\n",
    "    \"JD\", \"GILD\", \"BIDU\", \"MRVL\", \"REGN\", \"MDLZ\", \"ADSK\", \"ATVI\", \"BIIB\", \"ILMN\",\n",
    "    \"LRCX\", \"ADP\", \"BKNG\", \"MELI\", \"KLAC\", \"NXPI\", \"MNST\", \"WDAY\", \"ROST\",\n",
    "    \"KDP\", \"EA\", \"ALGN\", \"ADI\", \"IDXX\", \"DXCM\", \"XEL\", \"CTAS\", \"EXC\", \"MAR\",\n",
    "    \"SNPS\", \"CDNS\", \"CPRT\", \"SGEN\", \"SPLK\", \"ORLY\", \"DLTR\", \"MTCH\",\n",
    "    \"MCHP\", \"INCY\", \"PCAR\", \"CTSH\", \"FAST\", \"VRSK\", \"CHKP\", \"ANSS\",\n",
    "    \"SWKS\", \"CDW\", \"TEAM\", \"WBA\", \"LULU\", \"PAYX\",\n",
    "    \"VRSN\", \"AEP\", \"ZBRA\", \"TCOM\", \"NTES\", \"BMRN\", \"ULTA\", \"EXPE\",\n",
    "    \"CSGP\", \"SIRI\", \"EBAY\", \"WDC\"\n",
    "    ]\n",
    "\n",
    "end_date = '2022-12-31'\n",
    "start_date = '2021-1-1'\n",
    "\n",
    "nasdaq_20_tickers=nasdaq_100_tickers[:20]"
   ]
  },
  {
   "cell_type": "markdown",
   "id": "edafc90c",
   "metadata": {},
   "source": [
    "## cross section"
   ]
  },
  {
   "cell_type": "code",
   "execution_count": 3,
   "id": "1c65f51c",
   "metadata": {},
   "outputs": [],
   "source": [
    "def rank(df):\n",
    "    \"\"\"Return the cross-sectional percentile rank\n",
    "\n",
    "     Args:\n",
    "         :param df: tickers in columns, sorted dates in rows.\n",
    "\n",
    "     Returns:\n",
    "         pd.DataFrame: the ranked values\n",
    "     \"\"\"\n",
    "    return df.rank(axis=1, pct=True)"
   ]
  },
  {
   "cell_type": "code",
   "execution_count": 4,
   "id": "0819ffc0",
   "metadata": {},
   "outputs": [],
   "source": [
    "def scale(df):\n",
    "    \"\"\"\n",
    "    Scaling time serie.\n",
    "    :param df: a pandas DataFrame.\n",
    "    :param k: scaling factor.\n",
    "    :return: a pandas DataFrame rescaled df such that sum(abs(df)) = k\n",
    "    \"\"\"\n",
    "    return df.div(df.abs().sum(axis=1), axis=0)"
   ]
  },
  {
   "cell_type": "markdown",
   "id": "23fee97e",
   "metadata": {},
   "source": [
    "## operators"
   ]
  },
  {
   "cell_type": "code",
   "execution_count": 5,
   "id": "1b79b4f5",
   "metadata": {},
   "outputs": [],
   "source": [
    "def log(df):\n",
    "    return np.log1p(df)"
   ]
  },
  {
   "cell_type": "code",
   "execution_count": 6,
   "id": "374b7501",
   "metadata": {},
   "outputs": [],
   "source": [
    "def sign(df):\n",
    "    return np.sign(df)"
   ]
  },
  {
   "cell_type": "code",
   "execution_count": 7,
   "id": "cfbb9fb4",
   "metadata": {},
   "outputs": [],
   "source": [
    "def power(df, exp):\n",
    "    return df.pow(exp)"
   ]
  },
  {
   "cell_type": "code",
   "execution_count": null,
   "id": "876ae595",
   "metadata": {},
   "outputs": [],
   "source": []
  },
  {
   "cell_type": "code",
   "execution_count": 8,
   "id": "abba4ec2",
   "metadata": {},
   "outputs": [],
   "source": [
    "def WMA(x, timeperiod=7):\n",
    "    weights = np.arange(1, timeperiod + 1)\n",
    "    return np.dot(x, weights) / weights.sum()\n",
    "    \n",
    "    "
   ]
  },
  {
   "cell_type": "markdown",
   "id": "b2e37a58",
   "metadata": {},
   "source": [
    "## pandas implementation"
   ]
  },
  {
   "cell_type": "code",
   "execution_count": 9,
   "id": "c151b5e7",
   "metadata": {},
   "outputs": [],
   "source": [
    "def ts_lag(df: pd.DataFrame, t: int = 1) -> pd.DataFrame:\n",
    "    \"\"\"Return the lagged values t periods ago.\n",
    "\n",
    "    Args:\n",
    "        :param df: tickers in columns, sorted dates in rows.\n",
    "        :param t: lag\n",
    "\n",
    "    Returns:\n",
    "        pd.DataFrame: the lagged values\n",
    "    \"\"\"\n",
    "    return df.shift(t)"
   ]
  },
  {
   "cell_type": "code",
   "execution_count": 10,
   "id": "c7ea1b46",
   "metadata": {},
   "outputs": [],
   "source": [
    "def ts_delta(df, period=1):\n",
    "    \"\"\"\n",
    "    Wrapper function to estimate difference.\n",
    "    :param df: a pandas DataFrame.\n",
    "    :param period: the difference grade.\n",
    "    :return: a pandas DataFrame with today’s value minus the value 'period' days ago.\n",
    "    \"\"\"\n",
    "    return df.diff(period)"
   ]
  },
  {
   "cell_type": "code",
   "execution_count": 11,
   "id": "df00524c",
   "metadata": {},
   "outputs": [],
   "source": [
    "def ts_corr(x, y, window=10):\n",
    "    \"\"\"\n",
    "    Wrapper function to estimate rolling correlations.\n",
    "    :param x, y: pandas DataFrames.\n",
    "    :param window: the rolling window.\n",
    "    :return: a pandas DataFrame with the time-series min over the past 'window' days.\n",
    "    \"\"\"\n",
    "    return x.rolling(window).corr(y)"
   ]
  },
  {
   "cell_type": "code",
   "execution_count": 12,
   "id": "e9e19383",
   "metadata": {},
   "outputs": [],
   "source": [
    "def ts_sum(df: pd.DataFrame, window: int = 10) -> pd.DataFrame:\n",
    "    \"\"\"Computes the rolling ts_sum for the given window size.\n",
    "\n",
    "    Args:\n",
    "        df (pd.DataFrame): tickers in columns, dates in rows.\n",
    "        window      (int): size of rolling window.\n",
    "\n",
    "    Returns:\n",
    "        pd.DataFrame: the ts_sum over the last 'window' days.\n",
    "    \"\"\"\n",
    "    return df.rolling(window).sum()"
   ]
  },
  {
   "cell_type": "code",
   "execution_count": 13,
   "id": "c20ce021",
   "metadata": {},
   "outputs": [],
   "source": [
    "def ts_mean(df, window=10):\n",
    "    \"\"\"Computes the rolling mean for the given window size.\n",
    "\n",
    "    Args:\n",
    "        df (pd.DataFrame): tickers in columns, dates in rows.\n",
    "        window      (int): size of rolling window.\n",
    "\n",
    "    Returns:\n",
    "        pd.DataFrame: the mean over the last 'window' days.\n",
    "    \"\"\"\n",
    "    return df.rolling(window).mean()"
   ]
  },
  {
   "cell_type": "code",
   "execution_count": 14,
   "id": "fdbc5cc6",
   "metadata": {},
   "outputs": [],
   "source": [
    "def ts_weighted_mean(df, period=10):\n",
    "    \"\"\"\n",
    "    Linear weighted moving average implementation.\n",
    "    :param df: a pandas DataFrame.\n",
    "    :param period: the LWMA period\n",
    "    :return: a pandas DataFrame with the LWMA.\n",
    "    \"\"\"\n",
    "    return (df.apply(lambda x: WMA(x, timeperiod=period)))"
   ]
  },
  {
   "cell_type": "code",
   "execution_count": 15,
   "id": "ff3e1585",
   "metadata": {},
   "outputs": [],
   "source": [
    "def ts_std(df, window=10):\n",
    "    \"\"\"\n",
    "    Wrapper function to estimate rolling standard deviation.\n",
    "    :param df: a pandas DataFrame.\n",
    "    :param window: the rolling window.\n",
    "    :return: a pandas DataFrame with the time-series min over the past 'window' days.\n",
    "    \"\"\"\n",
    "    return (df\n",
    "            .rolling(window)\n",
    "            .std())"
   ]
  },
  {
   "cell_type": "code",
   "execution_count": 16,
   "id": "846ba5b8",
   "metadata": {},
   "outputs": [],
   "source": [
    "def ts_rank(df, window=10):\n",
    "    \"\"\"\n",
    "    Wrapper function to estimate rolling rank.\n",
    "    :param df: a pandas DataFrame.\n",
    "    :param window: the rolling window.\n",
    "    :return: a pandas DataFrame with the time-series rank over the past window days.\n",
    "    \"\"\"\n",
    "    return (df\n",
    "            .rolling(window)\n",
    "            .apply(lambda x: x.rank().iloc[-1]))"
   ]
  },
  {
   "cell_type": "code",
   "execution_count": 17,
   "id": "4b4fe82f",
   "metadata": {},
   "outputs": [],
   "source": [
    "def ts_product(df, window=10):\n",
    "    \"\"\"\n",
    "    Wrapper function to estimate rolling ts_product.\n",
    "    :param df: a pandas DataFrame.\n",
    "    :param window: the rolling window.\n",
    "    :return: a pandas DataFrame with the time-series ts_product over the past 'window' days.\n",
    "    \"\"\"\n",
    "    return (df\n",
    "            .rolling(window)\n",
    "            .apply(np.prod))"
   ]
  },
  {
   "cell_type": "code",
   "execution_count": 18,
   "id": "d17fea09",
   "metadata": {},
   "outputs": [],
   "source": [
    "def ts_min(df, window=10):\n",
    "    \"\"\"\n",
    "    Wrapper function to estimate rolling min.\n",
    "    :param df: a pandas DataFrame.\n",
    "    :param window: the rolling window.\n",
    "    :return: a pandas DataFrame with the time-series min over the past 'window' days.\n",
    "    \"\"\"\n",
    "    return df.rolling(window).min()"
   ]
  },
  {
   "cell_type": "code",
   "execution_count": 19,
   "id": "798beaa0",
   "metadata": {},
   "outputs": [],
   "source": [
    "def ts_max(df, window=10):\n",
    "    \"\"\"\n",
    "    Wrapper function to estimate rolling min.\n",
    "    :param df: a pandas DataFrame.\n",
    "    :param window: the rolling window.\n",
    "    :return: a pandas DataFrame with the time-series max over the past 'window' days.\n",
    "    \"\"\"\n",
    "    return df.rolling(window).max()"
   ]
  },
  {
   "cell_type": "code",
   "execution_count": 20,
   "id": "bc9d7450",
   "metadata": {},
   "outputs": [],
   "source": [
    "def ts_argmax(df, window=10):\n",
    "    \"\"\"\n",
    "    Wrapper function to estimate which day ts_max(df, window) occurred on\n",
    "    :param df: a pandas DataFrame.\n",
    "    :param window: the rolling window.\n",
    "    :return: well.. that :)\n",
    "    \"\"\"\n",
    "    return df.rolling(window).apply(np.argmax).add(1)"
   ]
  },
  {
   "cell_type": "code",
   "execution_count": 21,
   "id": "16ab498a",
   "metadata": {},
   "outputs": [],
   "source": [
    "def ts_argmin(df, window=10):\n",
    "    \"\"\"\n",
    "    Wrapper function to estimate which day ts_min(df, window) occurred on\n",
    "    :param df: a pandas DataFrame.\n",
    "    :param window: the rolling window.\n",
    "    :return: well.. that :)\n",
    "    \"\"\"\n",
    "    return (df.rolling(window)\n",
    "            .apply(np.argmin)\n",
    "            .add(1))"
   ]
  },
  {
   "cell_type": "code",
   "execution_count": 22,
   "id": "f66ef8ca",
   "metadata": {},
   "outputs": [],
   "source": [
    "def ts_cov(x, y, window=10):\n",
    "    \"\"\"\n",
    "    Wrapper function to estimate rolling covariance.\n",
    "    :param df: a pandas DataFrame.\n",
    "    :param window: the rolling window.\n",
    "    :return: a pandas DataFrame with the time-series min over the past 'window' days.\n",
    "    \"\"\"\n",
    "    return x.rolling(window).cov(y)"
   ]
  },
  {
   "cell_type": "code",
   "execution_count": null,
   "id": "ea2e7205",
   "metadata": {},
   "outputs": [],
   "source": []
  },
  {
   "cell_type": "markdown",
   "id": "ccefb4f8",
   "metadata": {},
   "source": [
    "# evaluation"
   ]
  },
  {
   "cell_type": "code",
   "execution_count": 23,
   "id": "1cec2acf",
   "metadata": {},
   "outputs": [],
   "source": [
    "mi={}\n",
    "ic={}"
   ]
  },
  {
   "cell_type": "code",
   "execution_count": 24,
   "id": "83a142d2",
   "metadata": {},
   "outputs": [],
   "source": [
    "def get_mutual_info_score(returns, alpha, n=1000):\n",
    "    df = pd.DataFrame({'y': returns, 'alpha': alpha}).dropna().sample(n=n)\n",
    "    return mutual_info_regression(y=df.y, X=df[['alpha']])[0]"
   ]
  },
  {
   "cell_type": "code",
   "execution_count": null,
   "id": "de5b7ee6",
   "metadata": {},
   "outputs": [],
   "source": []
  },
  {
   "cell_type": "code",
   "execution_count": null,
   "id": "56ca0d92",
   "metadata": {},
   "outputs": [],
   "source": []
  },
  {
   "cell_type": "code",
   "execution_count": null,
   "id": "090bcef6",
   "metadata": {},
   "outputs": [],
   "source": []
  },
  {
   "cell_type": "markdown",
   "id": "172b487c",
   "metadata": {},
   "source": [
    "# data loading"
   ]
  },
  {
   "cell_type": "code",
   "execution_count": 25,
   "id": "1b0c7ede",
   "metadata": {},
   "outputs": [],
   "source": [
    "## \"AAPL\"\n",
    "ticker = \"AAPL\"\n",
    "AAPL_data = yf.download(ticker, start=start_date, end=end_date, progress=False)\n",
    "AAPL_data.index = AAPL_data.index.strftime('%Y/%m/%d')\n",
    "AAPL_data['returns']=AAPL_data['Close']-AAPL_data['Close'].shift(1)\n",
    "AAPL_data['ret_fwd']=AAPL_data['Close'].pct_change().dropna()\n",
    "#AAPL_data['returns'] = (AAPL_data['Close']-AAPL_data['Close'].shift(1)) / AAPL_data['Close'].shift(1)\n",
    "AAPL_data=AAPL_data.dropna()\n",
    "AAPL_data=pd.concat({'AAPL': AAPL_data}, names=['ticker'])"
   ]
  },
  {
   "cell_type": "code",
   "execution_count": 26,
   "id": "aa9d58e1",
   "metadata": {},
   "outputs": [
    {
     "data": {
      "text/html": [
       "<div>\n",
       "<style scoped>\n",
       "    .dataframe tbody tr th:only-of-type {\n",
       "        vertical-align: middle;\n",
       "    }\n",
       "\n",
       "    .dataframe tbody tr th {\n",
       "        vertical-align: top;\n",
       "    }\n",
       "\n",
       "    .dataframe thead th {\n",
       "        text-align: right;\n",
       "    }\n",
       "</style>\n",
       "<table border=\"1\" class=\"dataframe\">\n",
       "  <thead>\n",
       "    <tr style=\"text-align: right;\">\n",
       "      <th></th>\n",
       "      <th></th>\n",
       "      <th>Open</th>\n",
       "      <th>High</th>\n",
       "      <th>Low</th>\n",
       "      <th>Close</th>\n",
       "      <th>Adj Close</th>\n",
       "      <th>Volume</th>\n",
       "      <th>returns</th>\n",
       "      <th>ret_fwd</th>\n",
       "    </tr>\n",
       "    <tr>\n",
       "      <th>ticker</th>\n",
       "      <th>Date</th>\n",
       "      <th></th>\n",
       "      <th></th>\n",
       "      <th></th>\n",
       "      <th></th>\n",
       "      <th></th>\n",
       "      <th></th>\n",
       "      <th></th>\n",
       "      <th></th>\n",
       "    </tr>\n",
       "  </thead>\n",
       "  <tbody>\n",
       "    <tr>\n",
       "      <th rowspan=\"11\" valign=\"top\">AAPL</th>\n",
       "      <th>2021/01/05</th>\n",
       "      <td>128.889999</td>\n",
       "      <td>131.740005</td>\n",
       "      <td>128.429993</td>\n",
       "      <td>131.009995</td>\n",
       "      <td>128.736374</td>\n",
       "      <td>97664900</td>\n",
       "      <td>1.599991</td>\n",
       "      <td>0.012364</td>\n",
       "    </tr>\n",
       "    <tr>\n",
       "      <th>2021/01/06</th>\n",
       "      <td>127.720001</td>\n",
       "      <td>131.050003</td>\n",
       "      <td>126.379997</td>\n",
       "      <td>126.599998</td>\n",
       "      <td>124.402931</td>\n",
       "      <td>155088000</td>\n",
       "      <td>-4.409996</td>\n",
       "      <td>-0.033662</td>\n",
       "    </tr>\n",
       "    <tr>\n",
       "      <th>2021/01/07</th>\n",
       "      <td>128.360001</td>\n",
       "      <td>131.630005</td>\n",
       "      <td>127.860001</td>\n",
       "      <td>130.919998</td>\n",
       "      <td>128.647949</td>\n",
       "      <td>109578200</td>\n",
       "      <td>4.320000</td>\n",
       "      <td>0.034123</td>\n",
       "    </tr>\n",
       "    <tr>\n",
       "      <th>2021/01/08</th>\n",
       "      <td>132.429993</td>\n",
       "      <td>132.630005</td>\n",
       "      <td>130.229996</td>\n",
       "      <td>132.050003</td>\n",
       "      <td>129.758362</td>\n",
       "      <td>105158200</td>\n",
       "      <td>1.130005</td>\n",
       "      <td>0.008631</td>\n",
       "    </tr>\n",
       "    <tr>\n",
       "      <th>2021/01/11</th>\n",
       "      <td>129.190002</td>\n",
       "      <td>130.169998</td>\n",
       "      <td>128.500000</td>\n",
       "      <td>128.979996</td>\n",
       "      <td>126.741631</td>\n",
       "      <td>100384500</td>\n",
       "      <td>-3.070007</td>\n",
       "      <td>-0.023249</td>\n",
       "    </tr>\n",
       "    <tr>\n",
       "      <th>...</th>\n",
       "      <td>...</td>\n",
       "      <td>...</td>\n",
       "      <td>...</td>\n",
       "      <td>...</td>\n",
       "      <td>...</td>\n",
       "      <td>...</td>\n",
       "      <td>...</td>\n",
       "      <td>...</td>\n",
       "    </tr>\n",
       "    <tr>\n",
       "      <th>2022/12/23</th>\n",
       "      <td>130.919998</td>\n",
       "      <td>132.419998</td>\n",
       "      <td>129.639999</td>\n",
       "      <td>131.860001</td>\n",
       "      <td>131.127060</td>\n",
       "      <td>63814900</td>\n",
       "      <td>-0.369995</td>\n",
       "      <td>-0.002798</td>\n",
       "    </tr>\n",
       "    <tr>\n",
       "      <th>2022/12/27</th>\n",
       "      <td>131.380005</td>\n",
       "      <td>131.410004</td>\n",
       "      <td>128.720001</td>\n",
       "      <td>130.029999</td>\n",
       "      <td>129.307236</td>\n",
       "      <td>69007800</td>\n",
       "      <td>-1.830002</td>\n",
       "      <td>-0.013878</td>\n",
       "    </tr>\n",
       "    <tr>\n",
       "      <th>2022/12/28</th>\n",
       "      <td>129.669998</td>\n",
       "      <td>131.029999</td>\n",
       "      <td>125.870003</td>\n",
       "      <td>126.040001</td>\n",
       "      <td>125.339409</td>\n",
       "      <td>85438400</td>\n",
       "      <td>-3.989998</td>\n",
       "      <td>-0.030685</td>\n",
       "    </tr>\n",
       "    <tr>\n",
       "      <th>2022/12/29</th>\n",
       "      <td>127.989998</td>\n",
       "      <td>130.479996</td>\n",
       "      <td>127.730003</td>\n",
       "      <td>129.610001</td>\n",
       "      <td>128.889572</td>\n",
       "      <td>75703700</td>\n",
       "      <td>3.570000</td>\n",
       "      <td>0.028324</td>\n",
       "    </tr>\n",
       "    <tr>\n",
       "      <th>2022/12/30</th>\n",
       "      <td>128.410004</td>\n",
       "      <td>129.949997</td>\n",
       "      <td>127.430000</td>\n",
       "      <td>129.929993</td>\n",
       "      <td>129.207779</td>\n",
       "      <td>77034200</td>\n",
       "      <td>0.319992</td>\n",
       "      <td>0.002469</td>\n",
       "    </tr>\n",
       "  </tbody>\n",
       "</table>\n",
       "<p>502 rows × 8 columns</p>\n",
       "</div>"
      ],
      "text/plain": [
       "                         Open        High         Low       Close   Adj Close  \\\n",
       "ticker Date                                                                     \n",
       "AAPL   2021/01/05  128.889999  131.740005  128.429993  131.009995  128.736374   \n",
       "       2021/01/06  127.720001  131.050003  126.379997  126.599998  124.402931   \n",
       "       2021/01/07  128.360001  131.630005  127.860001  130.919998  128.647949   \n",
       "       2021/01/08  132.429993  132.630005  130.229996  132.050003  129.758362   \n",
       "       2021/01/11  129.190002  130.169998  128.500000  128.979996  126.741631   \n",
       "...                       ...         ...         ...         ...         ...   \n",
       "       2022/12/23  130.919998  132.419998  129.639999  131.860001  131.127060   \n",
       "       2022/12/27  131.380005  131.410004  128.720001  130.029999  129.307236   \n",
       "       2022/12/28  129.669998  131.029999  125.870003  126.040001  125.339409   \n",
       "       2022/12/29  127.989998  130.479996  127.730003  129.610001  128.889572   \n",
       "       2022/12/30  128.410004  129.949997  127.430000  129.929993  129.207779   \n",
       "\n",
       "                      Volume   returns   ret_fwd  \n",
       "ticker Date                                       \n",
       "AAPL   2021/01/05   97664900  1.599991  0.012364  \n",
       "       2021/01/06  155088000 -4.409996 -0.033662  \n",
       "       2021/01/07  109578200  4.320000  0.034123  \n",
       "       2021/01/08  105158200  1.130005  0.008631  \n",
       "       2021/01/11  100384500 -3.070007 -0.023249  \n",
       "...                      ...       ...       ...  \n",
       "       2022/12/23   63814900 -0.369995 -0.002798  \n",
       "       2022/12/27   69007800 -1.830002 -0.013878  \n",
       "       2022/12/28   85438400 -3.989998 -0.030685  \n",
       "       2022/12/29   75703700  3.570000  0.028324  \n",
       "       2022/12/30   77034200  0.319992  0.002469  \n",
       "\n",
       "[502 rows x 8 columns]"
      ]
     },
     "execution_count": 26,
     "metadata": {},
     "output_type": "execute_result"
    }
   ],
   "source": [
    "AAPL_data"
   ]
  },
  {
   "cell_type": "code",
   "execution_count": null,
   "id": "ac45bd2a",
   "metadata": {},
   "outputs": [],
   "source": []
  },
  {
   "cell_type": "code",
   "execution_count": 27,
   "id": "aad6e51d",
   "metadata": {},
   "outputs": [],
   "source": [
    "#data=pd.DataFrame()\n",
    "data=AAPL_data"
   ]
  },
  {
   "cell_type": "code",
   "execution_count": 28,
   "id": "10dc91a8",
   "metadata": {},
   "outputs": [],
   "source": [
    "for ticker in nasdaq_100_tickers[1:]:\n",
    "    df = yf.download(ticker, start=start_date, end=end_date, progress=False)\n",
    "    df.index = df.index.strftime('%Y/%m/%d')\n",
    "    df['ret_fwd'] = df['Close'].pct_change().dropna()\n",
    "    df['returns'] = df['Close']-df['Close'].shift(1)\n",
    "    df=df.dropna()\n",
    "    df=pd.concat({ticker: df}, names=['ticker'])\n",
    "    data=pd.concat([data, df], axis=0)"
   ]
  },
  {
   "cell_type": "code",
   "execution_count": 29,
   "id": "7b63b85e",
   "metadata": {},
   "outputs": [
    {
     "data": {
      "text/plain": [
       "ticker  Date      \n",
       "AAPL    2021/01/05    1.599991\n",
       "        2021/01/06   -4.409996\n",
       "        2021/01/07    4.320000\n",
       "        2021/01/08    1.130005\n",
       "        2021/01/11   -3.070007\n",
       "                        ...   \n",
       "WDC     2022/12/23   -0.049999\n",
       "        2022/12/27    0.580000\n",
       "        2022/12/28   -0.960001\n",
       "        2022/12/29    1.360001\n",
       "        2022/12/30   -0.020000\n",
       "Name: returns, Length: 45682, dtype: float64"
      ]
     },
     "execution_count": 29,
     "metadata": {},
     "output_type": "execute_result"
    }
   ],
   "source": [
    "data.returns"
   ]
  },
  {
   "cell_type": "code",
   "execution_count": 30,
   "id": "def8405c",
   "metadata": {},
   "outputs": [],
   "source": [
    "o = data.Open.unstack('ticker')\n",
    "h = data.High.unstack('ticker')\n",
    "l = data.Low.unstack('ticker')\n",
    "c = data.Close.unstack('ticker')\n",
    "v = data.Volume.unstack('ticker')\n",
    "vwap = o.add(h).add(l).add(c).div(4)\n",
    "adv20 = v.rolling(20).mean()\n",
    "r = data.returns.unstack('ticker')"
   ]
  },
  {
   "cell_type": "code",
   "execution_count": 31,
   "id": "58fece3c",
   "metadata": {},
   "outputs": [
    {
     "data": {
      "text/plain": [
       "ticker  Date      \n",
       "AAPL    2021/01/05    0.012364\n",
       "        2021/01/06   -0.033662\n",
       "        2021/01/07    0.034123\n",
       "        2021/01/08    0.008631\n",
       "        2021/01/11   -0.023249\n",
       "                        ...   \n",
       "WDC     2022/12/23   -0.001632\n",
       "        2022/12/27    0.018960\n",
       "        2022/12/28   -0.030799\n",
       "        2022/12/29    0.045018\n",
       "        2022/12/30   -0.000634\n",
       "Name: ret_fwd, Length: 45682, dtype: float64"
      ]
     },
     "execution_count": 31,
     "metadata": {},
     "output_type": "execute_result"
    }
   ],
   "source": [
    "ret_fwd=data.ret_fwd\n",
    "ret_fwd"
   ]
  },
  {
   "cell_type": "code",
   "execution_count": 32,
   "id": "8e774f19",
   "metadata": {},
   "outputs": [
    {
     "data": {
      "text/html": [
       "<div>\n",
       "<style scoped>\n",
       "    .dataframe tbody tr th:only-of-type {\n",
       "        vertical-align: middle;\n",
       "    }\n",
       "\n",
       "    .dataframe tbody tr th {\n",
       "        vertical-align: top;\n",
       "    }\n",
       "\n",
       "    .dataframe thead th {\n",
       "        text-align: right;\n",
       "    }\n",
       "</style>\n",
       "<table border=\"1\" class=\"dataframe\">\n",
       "  <thead>\n",
       "    <tr style=\"text-align: right;\">\n",
       "      <th></th>\n",
       "      <th></th>\n",
       "      <th>Open</th>\n",
       "      <th>High</th>\n",
       "      <th>Low</th>\n",
       "      <th>Close</th>\n",
       "      <th>Adj Close</th>\n",
       "      <th>Volume</th>\n",
       "      <th>returns</th>\n",
       "      <th>ret_fwd</th>\n",
       "    </tr>\n",
       "    <tr>\n",
       "      <th>ticker</th>\n",
       "      <th>Date</th>\n",
       "      <th></th>\n",
       "      <th></th>\n",
       "      <th></th>\n",
       "      <th></th>\n",
       "      <th></th>\n",
       "      <th></th>\n",
       "      <th></th>\n",
       "      <th></th>\n",
       "    </tr>\n",
       "  </thead>\n",
       "  <tbody>\n",
       "    <tr>\n",
       "      <th rowspan=\"5\" valign=\"top\">AAPL</th>\n",
       "      <th>2021/01/05</th>\n",
       "      <td>128.889999</td>\n",
       "      <td>131.740005</td>\n",
       "      <td>128.429993</td>\n",
       "      <td>131.009995</td>\n",
       "      <td>128.736374</td>\n",
       "      <td>97664900</td>\n",
       "      <td>1.599991</td>\n",
       "      <td>0.012364</td>\n",
       "    </tr>\n",
       "    <tr>\n",
       "      <th>2021/01/06</th>\n",
       "      <td>127.720001</td>\n",
       "      <td>131.050003</td>\n",
       "      <td>126.379997</td>\n",
       "      <td>126.599998</td>\n",
       "      <td>124.402931</td>\n",
       "      <td>155088000</td>\n",
       "      <td>-4.409996</td>\n",
       "      <td>-0.033662</td>\n",
       "    </tr>\n",
       "    <tr>\n",
       "      <th>2021/01/07</th>\n",
       "      <td>128.360001</td>\n",
       "      <td>131.630005</td>\n",
       "      <td>127.860001</td>\n",
       "      <td>130.919998</td>\n",
       "      <td>128.647949</td>\n",
       "      <td>109578200</td>\n",
       "      <td>4.320000</td>\n",
       "      <td>0.034123</td>\n",
       "    </tr>\n",
       "    <tr>\n",
       "      <th>2021/01/08</th>\n",
       "      <td>132.429993</td>\n",
       "      <td>132.630005</td>\n",
       "      <td>130.229996</td>\n",
       "      <td>132.050003</td>\n",
       "      <td>129.758362</td>\n",
       "      <td>105158200</td>\n",
       "      <td>1.130005</td>\n",
       "      <td>0.008631</td>\n",
       "    </tr>\n",
       "    <tr>\n",
       "      <th>2021/01/11</th>\n",
       "      <td>129.190002</td>\n",
       "      <td>130.169998</td>\n",
       "      <td>128.500000</td>\n",
       "      <td>128.979996</td>\n",
       "      <td>126.741631</td>\n",
       "      <td>100384500</td>\n",
       "      <td>-3.070007</td>\n",
       "      <td>-0.023249</td>\n",
       "    </tr>\n",
       "    <tr>\n",
       "      <th>...</th>\n",
       "      <th>...</th>\n",
       "      <td>...</td>\n",
       "      <td>...</td>\n",
       "      <td>...</td>\n",
       "      <td>...</td>\n",
       "      <td>...</td>\n",
       "      <td>...</td>\n",
       "      <td>...</td>\n",
       "      <td>...</td>\n",
       "    </tr>\n",
       "    <tr>\n",
       "      <th rowspan=\"5\" valign=\"top\">WDC</th>\n",
       "      <th>2022/12/23</th>\n",
       "      <td>30.629999</td>\n",
       "      <td>30.790001</td>\n",
       "      <td>30.230000</td>\n",
       "      <td>30.590000</td>\n",
       "      <td>30.590000</td>\n",
       "      <td>2558200</td>\n",
       "      <td>-0.049999</td>\n",
       "      <td>-0.001632</td>\n",
       "    </tr>\n",
       "    <tr>\n",
       "      <th>2022/12/27</th>\n",
       "      <td>30.410000</td>\n",
       "      <td>31.280001</td>\n",
       "      <td>29.790001</td>\n",
       "      <td>31.170000</td>\n",
       "      <td>31.170000</td>\n",
       "      <td>3411400</td>\n",
       "      <td>0.580000</td>\n",
       "      <td>0.018960</td>\n",
       "    </tr>\n",
       "    <tr>\n",
       "      <th>2022/12/28</th>\n",
       "      <td>31.120001</td>\n",
       "      <td>31.350000</td>\n",
       "      <td>30.170000</td>\n",
       "      <td>30.209999</td>\n",
       "      <td>30.209999</td>\n",
       "      <td>3000300</td>\n",
       "      <td>-0.960001</td>\n",
       "      <td>-0.030799</td>\n",
       "    </tr>\n",
       "    <tr>\n",
       "      <th>2022/12/29</th>\n",
       "      <td>30.559999</td>\n",
       "      <td>31.629999</td>\n",
       "      <td>30.430000</td>\n",
       "      <td>31.570000</td>\n",
       "      <td>31.570000</td>\n",
       "      <td>4329300</td>\n",
       "      <td>1.360001</td>\n",
       "      <td>0.045018</td>\n",
       "    </tr>\n",
       "    <tr>\n",
       "      <th>2022/12/30</th>\n",
       "      <td>31.110001</td>\n",
       "      <td>31.570000</td>\n",
       "      <td>30.860001</td>\n",
       "      <td>31.549999</td>\n",
       "      <td>31.549999</td>\n",
       "      <td>2631900</td>\n",
       "      <td>-0.020000</td>\n",
       "      <td>-0.000634</td>\n",
       "    </tr>\n",
       "  </tbody>\n",
       "</table>\n",
       "<p>45682 rows × 8 columns</p>\n",
       "</div>"
      ],
      "text/plain": [
       "                         Open        High         Low       Close   Adj Close  \\\n",
       "ticker Date                                                                     \n",
       "AAPL   2021/01/05  128.889999  131.740005  128.429993  131.009995  128.736374   \n",
       "       2021/01/06  127.720001  131.050003  126.379997  126.599998  124.402931   \n",
       "       2021/01/07  128.360001  131.630005  127.860001  130.919998  128.647949   \n",
       "       2021/01/08  132.429993  132.630005  130.229996  132.050003  129.758362   \n",
       "       2021/01/11  129.190002  130.169998  128.500000  128.979996  126.741631   \n",
       "...                       ...         ...         ...         ...         ...   \n",
       "WDC    2022/12/23   30.629999   30.790001   30.230000   30.590000   30.590000   \n",
       "       2022/12/27   30.410000   31.280001   29.790001   31.170000   31.170000   \n",
       "       2022/12/28   31.120001   31.350000   30.170000   30.209999   30.209999   \n",
       "       2022/12/29   30.559999   31.629999   30.430000   31.570000   31.570000   \n",
       "       2022/12/30   31.110001   31.570000   30.860001   31.549999   31.549999   \n",
       "\n",
       "                      Volume   returns   ret_fwd  \n",
       "ticker Date                                       \n",
       "AAPL   2021/01/05   97664900  1.599991  0.012364  \n",
       "       2021/01/06  155088000 -4.409996 -0.033662  \n",
       "       2021/01/07  109578200  4.320000  0.034123  \n",
       "       2021/01/08  105158200  1.130005  0.008631  \n",
       "       2021/01/11  100384500 -3.070007 -0.023249  \n",
       "...                      ...       ...       ...  \n",
       "WDC    2022/12/23    2558200 -0.049999 -0.001632  \n",
       "       2022/12/27    3411400  0.580000  0.018960  \n",
       "       2022/12/28    3000300 -0.960001 -0.030799  \n",
       "       2022/12/29    4329300  1.360001  0.045018  \n",
       "       2022/12/30    2631900 -0.020000 -0.000634  \n",
       "\n",
       "[45682 rows x 8 columns]"
      ]
     },
     "execution_count": 32,
     "metadata": {},
     "output_type": "execute_result"
    }
   ],
   "source": [
    "data"
   ]
  },
  {
   "cell_type": "markdown",
   "id": "ba4d1ba4",
   "metadata": {},
   "source": [
    "# alpha calculation"
   ]
  },
  {
   "cell_type": "markdown",
   "id": "2376fbf7",
   "metadata": {},
   "source": [
    "alpha 5"
   ]
  },
  {
   "cell_type": "code",
   "execution_count": 33,
   "id": "31f06f10",
   "metadata": {},
   "outputs": [],
   "source": [
    "def alpha005(o, vwap, c):\n",
    "    \"\"\"(rank((open - ts_mean(vwap, 10))) * (-1 * abs(rank((close - vwap)))))\"\"\"\n",
    "    return (rank(o.sub(ts_mean(vwap, 10)))\n",
    "            .mul(rank(c.sub(vwap)).mul(-1).abs())\n",
    "            .stack('ticker')\n",
    "            .swaplevel())"
   ]
  },
  {
   "cell_type": "code",
   "execution_count": 34,
   "id": "3da5ee0c",
   "metadata": {},
   "outputs": [
    {
     "data": {
      "text/plain": [
       "ticker  Date      \n",
       "AAPL    2021/01/19    0.103611\n",
       "ADBE    2021/01/19    0.003260\n",
       "ADI     2021/01/19    0.510083\n",
       "ADP     2021/01/19    0.048303\n",
       "ADSK    2021/01/19    0.066659\n",
       "                        ...   \n",
       "WBA     2022/12/30    0.086946\n",
       "WDAY    2022/12/30    0.126796\n",
       "WDC     2022/12/30    0.178964\n",
       "XEL     2022/12/30    0.025722\n",
       "ZBRA    2022/12/30    0.787948\n",
       "Length: 44863, dtype: float64"
      ]
     },
     "execution_count": 34,
     "metadata": {},
     "output_type": "execute_result"
    }
   ],
   "source": [
    "a5=alpha005(o, vwap, c)\n",
    "a5"
   ]
  },
  {
   "cell_type": "code",
   "execution_count": 35,
   "id": "7c2ca212",
   "metadata": {},
   "outputs": [
    {
     "data": {
      "text/plain": [
       "0.03470599599417845"
      ]
     },
     "execution_count": 35,
     "metadata": {},
     "output_type": "execute_result"
    }
   ],
   "source": [
    "mi[5] = get_mutual_info_score(ret_fwd, a5)\n",
    "mi[5]"
   ]
  },
  {
   "cell_type": "code",
   "execution_count": null,
   "id": "21a2711e",
   "metadata": {},
   "outputs": [],
   "source": []
  },
  {
   "cell_type": "code",
   "execution_count": 36,
   "id": "0d65d7c2",
   "metadata": {},
   "outputs": [],
   "source": [
    "def alpha007(c, v, adv20):\n",
    "    \"\"\"(adv20 < volume) \n",
    "        ? ((-ts_rank(abs(ts_delta(close, 7)), 60)) * sign(ts_delta(close, 7))) \n",
    "        : -1\n",
    "    \"\"\"\n",
    "    \n",
    "    delta7 = ts_delta(c, 7)\n",
    "    return (-ts_rank(abs(delta7), 60)\n",
    "            .mul(sign(delta7))\n",
    "            .where(adv20<v, -1)\n",
    "            .stack('ticker')\n",
    "            .swaplevel())"
   ]
  },
  {
   "cell_type": "code",
   "execution_count": 37,
   "id": "b2fd2150",
   "metadata": {},
   "outputs": [
    {
     "data": {
      "text/plain": [
       "ticker  Date      \n",
       "AAPL    2021/01/05     1.0\n",
       "ADBE    2021/01/05     1.0\n",
       "ADI     2021/01/05     1.0\n",
       "ADP     2021/01/05     1.0\n",
       "ADSK    2021/01/05     1.0\n",
       "                      ... \n",
       "WBA     2022/12/30    44.0\n",
       "WDAY    2022/12/30     1.0\n",
       "WDC     2022/12/30     1.0\n",
       "XEL     2022/12/30     1.0\n",
       "ZBRA    2022/12/30     1.0\n",
       "Length: 44099, dtype: float64"
      ]
     },
     "execution_count": 37,
     "metadata": {},
     "output_type": "execute_result"
    }
   ],
   "source": [
    "a7=alpha007(c, v, adv20)\n",
    "a7"
   ]
  },
  {
   "cell_type": "code",
   "execution_count": 38,
   "id": "4bff2e75",
   "metadata": {},
   "outputs": [
    {
     "data": {
      "text/plain": [
       "0.0639019429983474"
      ]
     },
     "execution_count": 38,
     "metadata": {},
     "output_type": "execute_result"
    }
   ],
   "source": [
    "mi[7] = get_mutual_info_score(ret_fwd, a7)\n",
    "mi[7]"
   ]
  },
  {
   "cell_type": "markdown",
   "id": "493948a5",
   "metadata": {},
   "source": [
    "alpha 8"
   ]
  },
  {
   "cell_type": "code",
   "execution_count": 39,
   "id": "6f03c17c",
   "metadata": {},
   "outputs": [],
   "source": [
    "def alpha008(o, r):\n",
    "    \"\"\"-rank(((ts_sum(open, 5) * ts_sum(returns, 5)) - \n",
    "        ts_lag((ts_sum(open, 5) * ts_sum(returns, 5)),10)))\n",
    "    \"\"\"\n",
    "    return (-(rank(((ts_sum(o, 5) * ts_sum(r, 5)) -\n",
    "                       ts_lag((ts_sum(o, 5) * ts_sum(r, 5)), 10))))\n",
    "           .stack('ticker')\n",
    "            .swaplevel())"
   ]
  },
  {
   "cell_type": "code",
   "execution_count": 40,
   "id": "15f227d8",
   "metadata": {},
   "outputs": [
    {
     "data": {
      "text/plain": [
       "ticker  Date      \n",
       "AAPL    2021/01/26   -0.901099\n",
       "ADBE    2021/01/26   -0.989011\n",
       "ADI     2021/01/26   -0.241758\n",
       "ADP     2021/01/26   -0.879121\n",
       "ADSK    2021/01/26   -0.076923\n",
       "                        ...   \n",
       "WBA     2022/12/30   -0.175824\n",
       "WDAY    2022/12/30   -0.032967\n",
       "WDC     2022/12/30   -0.351648\n",
       "XEL     2022/12/30   -0.098901\n",
       "ZBRA    2022/12/30   -0.824176\n",
       "Length: 44408, dtype: float64"
      ]
     },
     "execution_count": 40,
     "metadata": {},
     "output_type": "execute_result"
    }
   ],
   "source": [
    "a8=alpha008(o, r)\n",
    "a8"
   ]
  },
  {
   "cell_type": "code",
   "execution_count": 41,
   "id": "8e4f20f7",
   "metadata": {
    "scrolled": true
   },
   "outputs": [
    {
     "data": {
      "text/plain": [
       "0.009167486035333017"
      ]
     },
     "execution_count": 41,
     "metadata": {},
     "output_type": "execute_result"
    }
   ],
   "source": [
    "mi[8] = get_mutual_info_score(ret_fwd, a8)\n",
    "mi[8]"
   ]
  },
  {
   "cell_type": "code",
   "execution_count": null,
   "id": "5334045c",
   "metadata": {},
   "outputs": [],
   "source": []
  },
  {
   "cell_type": "markdown",
   "id": "b7594315",
   "metadata": {},
   "source": [
    "alpha 10"
   ]
  },
  {
   "cell_type": "code",
   "execution_count": 42,
   "id": "75d7875e",
   "metadata": {},
   "outputs": [],
   "source": [
    "def alpha010(c):\n",
    "    \"\"\"rank(((0 < ts_min(ts_delta(close, 1), 4)) \n",
    "        ? ts_delta(close, 1) \n",
    "        : ((ts_max(ts_delta(close, 1), 4) < 0)\n",
    "            ? ts_delta(close, 1) \n",
    "            : (-1 * ts_delta(close, 1)))))\n",
    "    \"\"\"\n",
    "    close_diff = ts_delta(c, 1)\n",
    "    alpha = close_diff.where(ts_min(close_diff, 4) > 0,\n",
    "                             close_diff.where(ts_min(close_diff, 4) > 0,\n",
    "                                              -close_diff))\n",
    "\n",
    "    return (rank(alpha)\n",
    "            .stack('ticker')\n",
    "            .swaplevel())"
   ]
  },
  {
   "cell_type": "code",
   "execution_count": 43,
   "id": "2fa9f8d5",
   "metadata": {},
   "outputs": [
    {
     "data": {
      "text/plain": [
       "0.2584408043659434"
      ]
     },
     "execution_count": 43,
     "metadata": {},
     "output_type": "execute_result"
    }
   ],
   "source": [
    "a10=alpha010(c)\n",
    "mi[10] = get_mutual_info_score(ret_fwd, a10)\n",
    "mi[10]"
   ]
  },
  {
   "cell_type": "code",
   "execution_count": null,
   "id": "47ad7e19",
   "metadata": {},
   "outputs": [],
   "source": []
  },
  {
   "cell_type": "markdown",
   "id": "5e746441",
   "metadata": {},
   "source": [
    "alpha 11"
   ]
  },
  {
   "cell_type": "code",
   "execution_count": 44,
   "id": "a295195a",
   "metadata": {},
   "outputs": [],
   "source": [
    "def alpha011(c, vwap, v):\n",
    "    \"\"\"(rank(ts_max((vwap - close), 3)) + \n",
    "        rank(ts_min(vwap - close), 3)) * \n",
    "        rank(ts_delta(volume, 3))\n",
    "        \"\"\"\n",
    "    return (rank(ts_max(vwap.sub(c), 3))\n",
    "            .add(rank(ts_min(vwap.sub(c), 3)))\n",
    "            .mul(rank(ts_delta(v, 3)))\n",
    "            .stack('ticker')\n",
    "            .swaplevel())"
   ]
  },
  {
   "cell_type": "code",
   "execution_count": 45,
   "id": "ce5e4fbe",
   "metadata": {},
   "outputs": [
    {
     "data": {
      "text/plain": [
       "0.0031749410487362795"
      ]
     },
     "execution_count": 45,
     "metadata": {},
     "output_type": "execute_result"
    }
   ],
   "source": [
    "a11=alpha011(c, vwap, v)\n",
    "mi[11] = get_mutual_info_score(ret_fwd, a11)\n",
    "mi[11]"
   ]
  },
  {
   "cell_type": "code",
   "execution_count": null,
   "id": "d8e49f5d",
   "metadata": {},
   "outputs": [],
   "source": []
  },
  {
   "cell_type": "markdown",
   "id": "bbdc034f",
   "metadata": {},
   "source": [
    "alpha 12"
   ]
  },
  {
   "cell_type": "code",
   "execution_count": 46,
   "id": "f72f5f7b",
   "metadata": {},
   "outputs": [],
   "source": [
    "def alpha012(v, c):\n",
    "    \"\"\"(sign(ts_delta(volume, 1)) * \n",
    "            (-1 * ts_delta(close, 1)))\n",
    "        \"\"\"\n",
    "    return (sign(ts_delta(v, 1)).mul(-ts_delta(c, 1))\n",
    "            .stack('ticker')\n",
    "            .swaplevel())"
   ]
  },
  {
   "cell_type": "code",
   "execution_count": 47,
   "id": "906002f1",
   "metadata": {},
   "outputs": [
    {
     "data": {
      "text/plain": [
       "0.5240765798984515"
      ]
     },
     "execution_count": 47,
     "metadata": {},
     "output_type": "execute_result"
    }
   ],
   "source": [
    "a12=alpha012(v, c)\n",
    "mi[12] = get_mutual_info_score(ret_fwd, a12)\n",
    "mi[12]"
   ]
  },
  {
   "cell_type": "code",
   "execution_count": null,
   "id": "87841fe7",
   "metadata": {},
   "outputs": [],
   "source": []
  },
  {
   "cell_type": "markdown",
   "id": "5d35cc93",
   "metadata": {},
   "source": [
    "alpha 13"
   ]
  },
  {
   "cell_type": "code",
   "execution_count": 48,
   "id": "97a6719c",
   "metadata": {},
   "outputs": [],
   "source": [
    "def alpha013(c, v):\n",
    "    \"\"\"-rank(ts_cov(rank(close), rank(volume), 5))\"\"\"\n",
    "    return (-rank(ts_cov(rank(c), rank(v), 5))\n",
    "            .stack('ticker')\n",
    "            .swaplevel())"
   ]
  },
  {
   "cell_type": "code",
   "execution_count": 49,
   "id": "bd0828a7",
   "metadata": {},
   "outputs": [
    {
     "data": {
      "text/plain": [
       "0.012460904294289588"
      ]
     },
     "execution_count": 49,
     "metadata": {},
     "output_type": "execute_result"
    }
   ],
   "source": [
    "a13=alpha013(c, v)\n",
    "mi[13] = get_mutual_info_score(ret_fwd, a13)\n",
    "mi[13]"
   ]
  },
  {
   "cell_type": "code",
   "execution_count": null,
   "id": "1413abcc",
   "metadata": {},
   "outputs": [],
   "source": []
  },
  {
   "cell_type": "markdown",
   "id": "9942347e",
   "metadata": {},
   "source": [
    "alpha 14"
   ]
  },
  {
   "cell_type": "code",
   "execution_count": 50,
   "id": "0dcb6e0b",
   "metadata": {},
   "outputs": [],
   "source": [
    "def alpha014(o, v, r):\n",
    "    \"\"\"\n",
    "    (-rank(ts_delta(returns, 3))) * ts_corr(open, volume, 10))\n",
    "    \"\"\"\n",
    "\n",
    "    alpha = -rank(ts_delta(r, 3)).mul(ts_corr(o, v, 10)\n",
    "                                      .replace([-np.inf,\n",
    "                                                np.inf],\n",
    "                                               np.nan))\n",
    "    return (alpha\n",
    "            .stack('ticker')\n",
    "            .swaplevel())"
   ]
  },
  {
   "cell_type": "code",
   "execution_count": 51,
   "id": "14df2115",
   "metadata": {},
   "outputs": [
    {
     "data": {
      "text/plain": [
       "0.06410431588960464"
      ]
     },
     "execution_count": 51,
     "metadata": {},
     "output_type": "execute_result"
    }
   ],
   "source": [
    "a14=alpha014(o, v, r)\n",
    "mi[14] = get_mutual_info_score(ret_fwd, a14)\n",
    "mi[14]"
   ]
  },
  {
   "cell_type": "code",
   "execution_count": null,
   "id": "80011d6f",
   "metadata": {},
   "outputs": [],
   "source": []
  },
  {
   "cell_type": "markdown",
   "id": "d13c2837",
   "metadata": {},
   "source": [
    "alpha 16"
   ]
  },
  {
   "cell_type": "code",
   "execution_count": 52,
   "id": "a680ffc6",
   "metadata": {},
   "outputs": [],
   "source": [
    "def alpha016(h, v):\n",
    "    \"\"\"(-1 * rank(ts_cov(rank(high), rank(volume), 5)))\"\"\"\n",
    "    return (-rank(ts_cov(rank(h), rank(v), 5))\n",
    "            .stack('ticker')\n",
    "            .swaplevel())"
   ]
  },
  {
   "cell_type": "code",
   "execution_count": 53,
   "id": "2ffa0ce2",
   "metadata": {},
   "outputs": [
    {
     "data": {
      "text/plain": [
       "0"
      ]
     },
     "execution_count": 53,
     "metadata": {},
     "output_type": "execute_result"
    }
   ],
   "source": [
    "a16=alpha016(h,v)\n",
    "mi[16] = get_mutual_info_score(ret_fwd, a16)\n",
    "mi[16]"
   ]
  },
  {
   "cell_type": "code",
   "execution_count": null,
   "id": "8e2472dc",
   "metadata": {},
   "outputs": [],
   "source": []
  },
  {
   "cell_type": "markdown",
   "id": "25416f09",
   "metadata": {},
   "source": [
    "alpha 17"
   ]
  },
  {
   "cell_type": "code",
   "execution_count": 54,
   "id": "f9f548dc",
   "metadata": {},
   "outputs": [],
   "source": [
    "def alpha017(c, v):\n",
    "    \"\"\"(((-1 * rank(ts_rank(close, 10))) * rank(ts_delta(ts_delta(close, 1), 1))) *rank(ts_rank((volume / adv20), 5)))\n",
    "        \"\"\"\n",
    "    adv20 = ts_mean(v, 20)\n",
    "    return (-rank(ts_rank(c, 10))\n",
    "            .mul(rank(ts_delta(ts_delta(c, 1), 1)))\n",
    "            .mul(rank(ts_rank(v.div(adv20), 5)))\n",
    "            .stack('ticker')\n",
    "            .swaplevel())"
   ]
  },
  {
   "cell_type": "code",
   "execution_count": 55,
   "id": "29815db9",
   "metadata": {},
   "outputs": [
    {
     "data": {
      "text/plain": [
       "0.1770630244602196"
      ]
     },
     "execution_count": 55,
     "metadata": {},
     "output_type": "execute_result"
    }
   ],
   "source": [
    "a17=alpha017(c,v)\n",
    "mi[17] = get_mutual_info_score(ret_fwd, a17)\n",
    "mi[17]"
   ]
  },
  {
   "cell_type": "code",
   "execution_count": null,
   "id": "061f7dcd",
   "metadata": {},
   "outputs": [],
   "source": []
  },
  {
   "cell_type": "code",
   "execution_count": null,
   "id": "5cba7962",
   "metadata": {},
   "outputs": [],
   "source": []
  },
  {
   "cell_type": "markdown",
   "id": "bab9f437",
   "metadata": {},
   "source": [
    "alpha 18"
   ]
  },
  {
   "cell_type": "code",
   "execution_count": 56,
   "id": "69d30de7",
   "metadata": {},
   "outputs": [],
   "source": [
    "def alpha018(o, c):\n",
    "    \"\"\"-rank((ts_std(abs((close - open)), 5) + (close - open)) +\n",
    "            ts_corr(close, open,10))\n",
    "    \"\"\"\n",
    "    return (-rank(ts_std(c.sub(o).abs(), 5)\n",
    "                  .add(c.sub(o))\n",
    "                  .add(ts_corr(c, o, 10)\n",
    "                       .replace([-np.inf,\n",
    "                                 np.inf],\n",
    "                                np.nan)))\n",
    "            .stack('ticker')\n",
    "            .swaplevel())"
   ]
  },
  {
   "cell_type": "code",
   "execution_count": 57,
   "id": "c202bc4e",
   "metadata": {},
   "outputs": [
    {
     "data": {
      "text/plain": [
       "0.11760722508500843"
      ]
     },
     "execution_count": 57,
     "metadata": {},
     "output_type": "execute_result"
    }
   ],
   "source": [
    "a18=alpha018(o, c)\n",
    "mi[18] = get_mutual_info_score(ret_fwd, a18)\n",
    "mi[18]"
   ]
  },
  {
   "cell_type": "code",
   "execution_count": null,
   "id": "13c78842",
   "metadata": {},
   "outputs": [],
   "source": []
  },
  {
   "cell_type": "code",
   "execution_count": null,
   "id": "55da2344",
   "metadata": {},
   "outputs": [],
   "source": []
  },
  {
   "cell_type": "code",
   "execution_count": null,
   "id": "fe576896",
   "metadata": {},
   "outputs": [],
   "source": []
  },
  {
   "cell_type": "markdown",
   "id": "22a95948",
   "metadata": {},
   "source": [
    "alpha 20"
   ]
  },
  {
   "cell_type": "code",
   "execution_count": 58,
   "id": "a07fcb25",
   "metadata": {},
   "outputs": [],
   "source": [
    "def alpha020(o, h, l, c):\n",
    "    \"\"\"-rank(open - ts_lag(high, 1)) * \n",
    "        rank(open - ts_lag(close, 1)) * \n",
    "        rank(open -ts_lag(low, 1))\"\"\"\n",
    "    return (rank(o - ts_lag(h, 1))\n",
    "            .mul(rank(o - ts_lag(c, 1)))\n",
    "            .mul(rank(o - ts_lag(l, 1)))\n",
    "            .mul(-1)\n",
    "            .stack('ticker')\n",
    "            .swaplevel())"
   ]
  },
  {
   "cell_type": "code",
   "execution_count": 59,
   "id": "dedd7d6d",
   "metadata": {},
   "outputs": [
    {
     "data": {
      "text/plain": [
       "0.06035516875436597"
      ]
     },
     "execution_count": 59,
     "metadata": {},
     "output_type": "execute_result"
    }
   ],
   "source": [
    "a20=alpha020(o, h, l, c)\n",
    "mi[20] = get_mutual_info_score(ret_fwd, a20)\n",
    "mi[20]"
   ]
  },
  {
   "cell_type": "code",
   "execution_count": null,
   "id": "06e15d92",
   "metadata": {},
   "outputs": [],
   "source": []
  },
  {
   "cell_type": "code",
   "execution_count": null,
   "id": "01933c1f",
   "metadata": {},
   "outputs": [],
   "source": []
  },
  {
   "cell_type": "markdown",
   "id": "b4e3b138",
   "metadata": {},
   "source": [
    "alpha 28"
   ]
  },
  {
   "cell_type": "code",
   "execution_count": 60,
   "id": "88da3b71",
   "metadata": {},
   "outputs": [],
   "source": [
    "def alpha028(h, l, c, v, adv20):\n",
    "    \"\"\"scale(((ts_corr(adv20, low, 5) + (high + low) / 2) - close))\"\"\"\n",
    "    return (scale(ts_corr(adv20, l, 5)\n",
    "                  .replace([-np.inf, np.inf], 0)\n",
    "                  .add(h.add(l).div(2).sub(c)))\n",
    "            .stack('ticker')\n",
    "            .swaplevel())"
   ]
  },
  {
   "cell_type": "code",
   "execution_count": 61,
   "id": "bfec2c96",
   "metadata": {},
   "outputs": [
    {
     "data": {
      "text/plain": [
       "0.20467719527084238"
      ]
     },
     "execution_count": 61,
     "metadata": {},
     "output_type": "execute_result"
    }
   ],
   "source": [
    "a28=alpha028(h, l, c, v, adv20)\n",
    "mi[28] = get_mutual_info_score(ret_fwd, a28)\n",
    "mi[28]"
   ]
  },
  {
   "cell_type": "code",
   "execution_count": null,
   "id": "19476e0c",
   "metadata": {},
   "outputs": [],
   "source": []
  },
  {
   "cell_type": "markdown",
   "id": "7599744a",
   "metadata": {},
   "source": [
    "alpha 30"
   ]
  },
  {
   "cell_type": "code",
   "execution_count": 109,
   "id": "f34984b1",
   "metadata": {},
   "outputs": [],
   "source": [
    "def alpha030(c, v):\n",
    "    \"\"\"(((1.0 - rank(((sign((close - ts_lag(close, 1))) +\n",
    "            sign((ts_lag(close, 1) - ts_lag(close, 2)))) +\n",
    "            sign((ts_lag(close, 2) - ts_lag(close, 3)))))) *\n",
    "            ts_sum(volume, 5)) / ts_sum(volume, 20))\"\"\"\n",
    "    close_diff = ts_delta(c, 1)\n",
    "    return (rank(sign(close_diff)\n",
    "                 .add(sign(ts_lag(close_diff, 1)))\n",
    "                 .add(sign(ts_lag(close_diff, 2))))\n",
    "            .mul(-1).add(1)\n",
    "            .mul(ts_sum(v, 5))\n",
    "            .div(ts_sum(v, 20))\n",
    "            .stack('ticker')\n",
    "            .swaplevel())"
   ]
  },
  {
   "cell_type": "code",
   "execution_count": 111,
   "id": "c857415f",
   "metadata": {},
   "outputs": [],
   "source": [
    "a30=alpha030(c, r)\n",
    "a30.to_frame()\n"
   ]
  },
  {
   "cell_type": "code",
   "execution_count": 117,
   "id": "c1ab8701",
   "metadata": {},
   "outputs": [],
   "source": [
    "a30.to_frame().replace([np.inf, -np.inf], np.nan, inplace=True)"
   ]
  },
  {
   "cell_type": "code",
   "execution_count": 121,
   "id": "8527c541",
   "metadata": {},
   "outputs": [
    {
     "data": {
      "text/plain": [
       "0.02378694836705053"
      ]
     },
     "execution_count": 121,
     "metadata": {},
     "output_type": "execute_result"
    }
   ],
   "source": [
    "mi[30] = get_mutual_info_score(ret_fwd, a30)\n",
    "mi[30]"
   ]
  },
  {
   "cell_type": "markdown",
   "id": "643c9cc0",
   "metadata": {},
   "source": [
    "alpha 34"
   ]
  },
  {
   "cell_type": "code",
   "execution_count": 64,
   "id": "13a3cd7c",
   "metadata": {},
   "outputs": [],
   "source": [
    "def alpha034(c, r):\n",
    "    \"\"\"rank(((1 - rank((ts_std(returns, 2) / ts_std(returns, 5)))) + (1 - rank(ts_delta(close, 1)))))\"\"\"\n",
    "\n",
    "    return (rank(rank(ts_std(r, 2).div(ts_std(r, 5))\n",
    "                      .replace([-np.inf, np.inf],\n",
    "                               np.nan))\n",
    "                 .mul(-1)\n",
    "                 .sub(rank(ts_delta(c, 1)))\n",
    "                 .add(2))\n",
    "            .stack('ticker')\n",
    "            .swaplevel())"
   ]
  },
  {
   "cell_type": "code",
   "execution_count": 65,
   "id": "e95801dc",
   "metadata": {},
   "outputs": [
    {
     "data": {
      "text/plain": [
       "0.11601847807418686"
      ]
     },
     "execution_count": 65,
     "metadata": {},
     "output_type": "execute_result"
    }
   ],
   "source": [
    "a34=alpha034(c, r)\n",
    "mi[34] = get_mutual_info_score(ret_fwd, a34)\n",
    "mi[34]"
   ]
  },
  {
   "cell_type": "code",
   "execution_count": 120,
   "id": "4f0a79aa",
   "metadata": {},
   "outputs": [
    {
     "data": {
      "text/plain": [
       "ticker  Date      \n",
       "AAPL    2021/01/11    0.846154\n",
       "ADBE    2021/01/11    0.879121\n",
       "ADI     2021/01/11    0.560440\n",
       "ADP     2021/01/11    0.280220\n",
       "ADSK    2021/01/11    0.659341\n",
       "                        ...   \n",
       "WBA     2022/12/30    0.967033\n",
       "WDAY    2022/12/30    0.285714\n",
       "WDC     2022/12/30    0.362637\n",
       "XEL     2022/12/30    0.868132\n",
       "ZBRA    2022/12/30    0.483516\n",
       "Length: 45318, dtype: float64"
      ]
     },
     "execution_count": 120,
     "metadata": {},
     "output_type": "execute_result"
    }
   ],
   "source": [
    "a34"
   ]
  },
  {
   "cell_type": "code",
   "execution_count": null,
   "id": "89d8d893",
   "metadata": {},
   "outputs": [],
   "source": []
  },
  {
   "cell_type": "markdown",
   "id": "ee7e6dde",
   "metadata": {},
   "source": [
    "alpha 38"
   ]
  },
  {
   "cell_type": "code",
   "execution_count": 66,
   "id": "29f364aa",
   "metadata": {},
   "outputs": [],
   "source": [
    "def alpha038(o, c):\n",
    "    \"\"\"\"-1 * rank(ts_rank(close, 10)) * rank(close / open)\"\"\"\n",
    "    return (rank(ts_rank(o, 10))\n",
    "            .mul(rank(c.div(o).replace([-np.inf, np.inf], np.nan)))\n",
    "            .mul(-1)\n",
    "            .stack('ticker')\n",
    "            .swaplevel())"
   ]
  },
  {
   "cell_type": "code",
   "execution_count": 67,
   "id": "9fa30f13",
   "metadata": {},
   "outputs": [
    {
     "data": {
      "text/plain": [
       "0.1650316619184431"
      ]
     },
     "execution_count": 67,
     "metadata": {},
     "output_type": "execute_result"
    }
   ],
   "source": [
    "a38=alpha038(o, c)\n",
    "mi[38] = get_mutual_info_score(ret_fwd, a38)\n",
    "mi[38]"
   ]
  },
  {
   "cell_type": "code",
   "execution_count": null,
   "id": "8d350da9",
   "metadata": {},
   "outputs": [],
   "source": []
  },
  {
   "cell_type": "markdown",
   "id": "e04ac46e",
   "metadata": {},
   "source": [
    "alpha 42"
   ]
  },
  {
   "cell_type": "code",
   "execution_count": 68,
   "id": "3a9d5914",
   "metadata": {},
   "outputs": [],
   "source": [
    "def alpha042(c, vwap):\n",
    "    \"\"\"rank(vwap - close) / rank(vwap + close)\"\"\"\n",
    "    return (rank(vwap.sub(c))\n",
    "            .div(rank(vwap.add(c)))\n",
    "            .stack('ticker')\n",
    "            .swaplevel())"
   ]
  },
  {
   "cell_type": "code",
   "execution_count": 69,
   "id": "2ad678dc",
   "metadata": {},
   "outputs": [
    {
     "data": {
      "text/plain": [
       "0.166279541534192"
      ]
     },
     "execution_count": 69,
     "metadata": {},
     "output_type": "execute_result"
    }
   ],
   "source": [
    "a42=alpha042(c, vwap)\n",
    "mi[42] = get_mutual_info_score(ret_fwd, a42)\n",
    "mi[42]"
   ]
  },
  {
   "cell_type": "code",
   "execution_count": null,
   "id": "24f01bef",
   "metadata": {},
   "outputs": [],
   "source": []
  },
  {
   "cell_type": "markdown",
   "id": "069d2962",
   "metadata": {},
   "source": [
    "alpha 43"
   ]
  },
  {
   "cell_type": "code",
   "execution_count": 70,
   "id": "795b397a",
   "metadata": {},
   "outputs": [],
   "source": [
    "def alpha043(c, adv20):\n",
    "    \"\"\"(ts_rank((volume / adv20), 20) * ts_rank((-1 * ts_delta(close, 7)), 8))\"\"\"\n",
    "\n",
    "    return (ts_rank(v.div(adv20), 20)\n",
    "            .mul(ts_rank(ts_delta(c, 7).mul(-1), 8))\n",
    "            .stack('ticker')\n",
    "            .swaplevel())"
   ]
  },
  {
   "cell_type": "code",
   "execution_count": 71,
   "id": "1f345607",
   "metadata": {},
   "outputs": [
    {
     "data": {
      "text/plain": [
       "0.09188695863941065"
      ]
     },
     "execution_count": 71,
     "metadata": {},
     "output_type": "execute_result"
    }
   ],
   "source": [
    "a43=alpha043(c, adv20)\n",
    "mi[43] = get_mutual_info_score(ret_fwd, a43)\n",
    "mi[43]"
   ]
  },
  {
   "cell_type": "code",
   "execution_count": null,
   "id": "eb912759",
   "metadata": {},
   "outputs": [],
   "source": []
  },
  {
   "cell_type": "code",
   "execution_count": null,
   "id": "b9fd3089",
   "metadata": {},
   "outputs": [],
   "source": []
  },
  {
   "cell_type": "markdown",
   "id": "20dc479e",
   "metadata": {},
   "source": [
    "alpha 45"
   ]
  },
  {
   "cell_type": "code",
   "execution_count": 72,
   "id": "a9d94af3",
   "metadata": {},
   "outputs": [],
   "source": [
    "def alpha045(c, v):\n",
    "    \"\"\"-(rank((ts_mean(ts_lag(close, 5), 20)) * \n",
    "        ts_corr(close, volume, 2)) *\n",
    "        rank(ts_corr(ts_sum(close, 5), ts_sum(close, 20), 2)))\"\"\"\n",
    "\n",
    "    return (rank(ts_mean(ts_lag(c, 5), 20))\n",
    "            .mul(ts_corr(c, v, 2)\n",
    "                 .replace([-np.inf, np.inf], np.nan))\n",
    "            .mul(rank(ts_corr(ts_sum(c, 5),\n",
    "                              ts_sum(c, 20), 2)))\n",
    "            .mul(-1)\n",
    "            .stack('ticker')\n",
    "            .swaplevel())"
   ]
  },
  {
   "cell_type": "code",
   "execution_count": 73,
   "id": "c0b46c6a",
   "metadata": {},
   "outputs": [
    {
     "data": {
      "text/plain": [
       "0.0325486111603972"
      ]
     },
     "execution_count": 73,
     "metadata": {},
     "output_type": "execute_result"
    }
   ],
   "source": [
    "a45=alpha045(c, v)\n",
    "mi[45] = get_mutual_info_score(ret_fwd, a45)\n",
    "mi[45]"
   ]
  },
  {
   "cell_type": "code",
   "execution_count": null,
   "id": "fc40d839",
   "metadata": {},
   "outputs": [],
   "source": []
  },
  {
   "cell_type": "markdown",
   "id": "244ea32d",
   "metadata": {},
   "source": [
    "alpha 46"
   ]
  },
  {
   "cell_type": "code",
   "execution_count": 74,
   "id": "f4c94598",
   "metadata": {},
   "outputs": [],
   "source": [
    "def alpha046(c):\n",
    "    \"\"\"0.25 < ts_lag(ts_delta(close, 10), 10) / 10 - ts_delta(close, 10) / 10\n",
    "            ? -1\n",
    "            : ((ts_lag(ts_delta(close, 10), 10) / 10 - ts_delta(close, 10) / 10 < 0) \n",
    "                ? 1 \n",
    "                : -ts_delta(close, 1))\n",
    "    \"\"\"\n",
    "\n",
    "    cond = ts_lag(ts_delta(c, 10), 10).div(10).sub(ts_delta(c, 10).div(10))\n",
    "    alpha = pd.DataFrame(-np.ones_like(cond),\n",
    "                         index=c.index,\n",
    "                         columns=c.columns)\n",
    "    alpha[cond.isnull()] = np.nan\n",
    "    return (cond.where(cond > 0.25,\n",
    "                       -alpha.where(cond < 0,\n",
    "                       -ts_delta(c, 1)))\n",
    "            .stack('ticker')\n",
    "            .swaplevel())"
   ]
  },
  {
   "cell_type": "code",
   "execution_count": 75,
   "id": "384f1b31",
   "metadata": {},
   "outputs": [
    {
     "data": {
      "text/plain": [
       "0.10024619866920492"
      ]
     },
     "execution_count": 75,
     "metadata": {},
     "output_type": "execute_result"
    }
   ],
   "source": [
    "a46=alpha046(c)\n",
    "mi[46] = get_mutual_info_score(ret_fwd, a46)\n",
    "mi[46]"
   ]
  },
  {
   "cell_type": "code",
   "execution_count": null,
   "id": "d49eccaa",
   "metadata": {},
   "outputs": [],
   "source": []
  },
  {
   "cell_type": "markdown",
   "id": "14b1e420",
   "metadata": {},
   "source": [
    "alpha 47"
   ]
  },
  {
   "cell_type": "code",
   "execution_count": 76,
   "id": "c75bee26",
   "metadata": {},
   "outputs": [],
   "source": [
    "def alpha047(h, c, v, vwap, adv20):\n",
    "    \"\"\"((((rank((1 / close)) * volume) / adv20) * ((high * rank((high - close))) / \n",
    "        (ts_sum(high, 5) /5))) - rank((vwap - ts_lag(vwap, 5))))\"\"\"\n",
    "\n",
    "    return (rank(c.pow(-1)).mul(v).div(adv20)\n",
    "            .mul(h.mul(rank(h.sub(c))\n",
    "                       .div(ts_mean(h, 5)))\n",
    "                 .sub(rank(ts_delta(vwap, 5))))\n",
    "            .stack('ticker')\n",
    "            .swaplevel())"
   ]
  },
  {
   "cell_type": "code",
   "execution_count": 77,
   "id": "e14eeed9",
   "metadata": {},
   "outputs": [
    {
     "data": {
      "text/plain": [
       "0.05670923524581051"
      ]
     },
     "execution_count": 77,
     "metadata": {},
     "output_type": "execute_result"
    }
   ],
   "source": [
    "a47=alpha047(h, c, v, vwap, adv20)\n",
    "mi[47] = get_mutual_info_score(ret_fwd, a47)\n",
    "mi[47]"
   ]
  },
  {
   "cell_type": "code",
   "execution_count": null,
   "id": "b19a1d2b",
   "metadata": {},
   "outputs": [],
   "source": []
  },
  {
   "cell_type": "markdown",
   "id": "83521afc",
   "metadata": {},
   "source": [
    "alpha 49"
   ]
  },
  {
   "cell_type": "code",
   "execution_count": 78,
   "id": "f129e036",
   "metadata": {},
   "outputs": [],
   "source": [
    "def alpha049(c):\n",
    "    \"\"\"ts_delta(ts_lag(close, 10), 10).div(10).sub(ts_delta(close, 10).div(10)) < -0.1 * c\n",
    "        ? 1 \n",
    "        : -ts_delta(close, 1)\"\"\"\n",
    "    cond = (ts_delta(ts_lag(c, 10), 10).div(10)\n",
    "            .sub(ts_delta(c, 10).div(10)) >= -0.1 * c)\n",
    "    return (-ts_delta(c, 1)\n",
    "            .where(cond, 1)\n",
    "            .stack('ticker')\n",
    "            .swaplevel())"
   ]
  },
  {
   "cell_type": "code",
   "execution_count": 79,
   "id": "5dfe46ed",
   "metadata": {},
   "outputs": [
    {
     "data": {
      "text/plain": [
       "1.1517052396845058"
      ]
     },
     "execution_count": 79,
     "metadata": {},
     "output_type": "execute_result"
    }
   ],
   "source": [
    "a49=alpha049(c)\n",
    "mi[49] = get_mutual_info_score(ret_fwd, a49)\n",
    "mi[49]"
   ]
  },
  {
   "cell_type": "code",
   "execution_count": null,
   "id": "3f55b6fa",
   "metadata": {},
   "outputs": [],
   "source": []
  },
  {
   "cell_type": "markdown",
   "id": "7ff19815",
   "metadata": {},
   "source": [
    "alpha 51"
   ]
  },
  {
   "cell_type": "code",
   "execution_count": 80,
   "id": "bc3ff3c0",
   "metadata": {},
   "outputs": [],
   "source": [
    "def alpha051(c):\n",
    "    \"\"\"ts_delta(ts_lag(close, 10), 10).div(10).sub(ts_delta(close, 10).div(10)) < -0.05 * c\n",
    "        ? 1 \n",
    "        : -ts_delta(close, 1)\"\"\"\n",
    "    cond = (ts_delta(ts_lag(c, 10), 10).div(10)\n",
    "            .sub(ts_delta(c, 10).div(10)) >= -0.05 * c)\n",
    "    return (-ts_delta(c, 1)\n",
    "            .where(cond, 1)\n",
    "            .stack('ticker')\n",
    "            .swaplevel())"
   ]
  },
  {
   "cell_type": "code",
   "execution_count": 81,
   "id": "e57e3f5c",
   "metadata": {},
   "outputs": [
    {
     "data": {
      "text/plain": [
       "1.1582372731217716"
      ]
     },
     "execution_count": 81,
     "metadata": {},
     "output_type": "execute_result"
    }
   ],
   "source": [
    "a51=alpha051(c)\n",
    "mi[51] = get_mutual_info_score(ret_fwd, a51)\n",
    "mi[51]"
   ]
  },
  {
   "cell_type": "code",
   "execution_count": null,
   "id": "a5a6e10f",
   "metadata": {},
   "outputs": [],
   "source": []
  },
  {
   "cell_type": "code",
   "execution_count": null,
   "id": "3e2030b9",
   "metadata": {},
   "outputs": [],
   "source": []
  },
  {
   "cell_type": "markdown",
   "id": "f2d025d9",
   "metadata": {},
   "source": [
    "alpha 55"
   ]
  },
  {
   "cell_type": "code",
   "execution_count": 82,
   "id": "1e51e4ac",
   "metadata": {},
   "outputs": [],
   "source": [
    "def alpha055(h, l, c):\n",
    "    \"\"\"(-1 * ts_corr(rank(((close - ts_min(low, 12)) / \n",
    "                            (ts_max(high, 12) - ts_min(low,12)))), \n",
    "                    rank(volume), 6))\"\"\"\n",
    "\n",
    "    return (ts_corr(rank(c.sub(ts_min(l, 12))\n",
    "                         .div(ts_max(h, 12).sub(ts_min(l, 12))\n",
    "                              .replace(0, 1e-6))),\n",
    "                    rank(v), 6)\n",
    "            .replace([-np.inf, np.inf], np.nan)\n",
    "            .mul(-1)\n",
    "            .stack('ticker')\n",
    "            .swaplevel())"
   ]
  },
  {
   "cell_type": "code",
   "execution_count": 83,
   "id": "cea00c56",
   "metadata": {},
   "outputs": [
    {
     "data": {
      "text/plain": [
       "0"
      ]
     },
     "execution_count": 83,
     "metadata": {},
     "output_type": "execute_result"
    }
   ],
   "source": [
    "a55=alpha055(h, l, c)\n",
    "mi[55] = get_mutual_info_score(ret_fwd, a55)\n",
    "mi[55]"
   ]
  },
  {
   "cell_type": "code",
   "execution_count": null,
   "id": "a12e6dcc",
   "metadata": {},
   "outputs": [],
   "source": []
  },
  {
   "cell_type": "markdown",
   "id": "dbba9189",
   "metadata": {},
   "source": [
    "alpha 60"
   ]
  },
  {
   "cell_type": "code",
   "execution_count": 84,
   "id": "505e6173",
   "metadata": {},
   "outputs": [],
   "source": [
    "def alpha060(l, h, c, v):\n",
    "    \"\"\"-((2 * scale(rank(((((close - low) - (high - close)) / (high - low)) * volume)))) -scale(rank(ts_argmax(close, 10))))\"\"\"\n",
    "    return (scale(rank(c.mul(2).sub(l).sub(h)\n",
    "                       .div(h.sub(l).replace(0, 1e-5))\n",
    "                       .mul(v))).mul(2)\n",
    "            .sub(scale(rank(ts_argmax(c, 10)))).mul(-1)\n",
    "            .stack('ticker')\n",
    "            .swaplevel())"
   ]
  },
  {
   "cell_type": "code",
   "execution_count": 85,
   "id": "8c6a989e",
   "metadata": {},
   "outputs": [
    {
     "data": {
      "text/plain": [
       "0.04841824447185328"
      ]
     },
     "execution_count": 85,
     "metadata": {},
     "output_type": "execute_result"
    }
   ],
   "source": [
    "a60=alpha060(l, h, c, v)\n",
    "mi[60] = get_mutual_info_score(ret_fwd, a60)\n",
    "mi[60]"
   ]
  },
  {
   "cell_type": "code",
   "execution_count": null,
   "id": "d12536fb",
   "metadata": {},
   "outputs": [],
   "source": []
  },
  {
   "cell_type": "code",
   "execution_count": null,
   "id": "47b95a62",
   "metadata": {},
   "outputs": [],
   "source": []
  },
  {
   "cell_type": "markdown",
   "id": "f71c999b",
   "metadata": {},
   "source": [
    "alpha 83"
   ]
  },
  {
   "cell_type": "code",
   "execution_count": 86,
   "id": "7ad5fca5",
   "metadata": {},
   "outputs": [],
   "source": [
    "def alpha083(h, l, c):\n",
    "    \"\"\"(rank(ts_lag((high - low) / ts_mean(close, 5), 2)) * rank(rank(volume)) / \n",
    "            (((high - low) / ts_mean(close, 5) / (vwap - close)))\n",
    "    \"\"\"\n",
    "    s = h.sub(l).div(ts_mean(c, 5))\n",
    "\n",
    "    return (rank(rank(ts_lag(s, 2))\n",
    "                 .mul(rank(rank(v)))\n",
    "                 .div(s).div(vwap.sub(c).add(1e-3)))\n",
    "            .stack('ticker')\n",
    "            .swaplevel()\n",
    "            .replace((np.inf, -np.inf), np.nan))"
   ]
  },
  {
   "cell_type": "code",
   "execution_count": 87,
   "id": "d06c9c08",
   "metadata": {},
   "outputs": [
    {
     "data": {
      "text/plain": [
       "0.12365479484626452"
      ]
     },
     "execution_count": 87,
     "metadata": {},
     "output_type": "execute_result"
    }
   ],
   "source": [
    "a83=alpha083(h, l, c)\n",
    "mi[83] = get_mutual_info_score(ret_fwd, a83)\n",
    "mi[83]"
   ]
  },
  {
   "cell_type": "code",
   "execution_count": null,
   "id": "e90c51c9",
   "metadata": {},
   "outputs": [],
   "source": []
  },
  {
   "cell_type": "markdown",
   "id": "7e42d69f",
   "metadata": {},
   "source": [
    "alpha 101"
   ]
  },
  {
   "cell_type": "code",
   "execution_count": 88,
   "id": "0cc059fe",
   "metadata": {},
   "outputs": [],
   "source": [
    "def alpha101(o, h, l, c):\n",
    "    \"\"\"((close - open) / ((high - low) + .001))\"\"\"\n",
    "    return (c.sub(o).div(h.sub(l).add(1e-3))\n",
    "            .stack('ticker')\n",
    "            .swaplevel())"
   ]
  },
  {
   "cell_type": "code",
   "execution_count": 89,
   "id": "effa3449",
   "metadata": {},
   "outputs": [
    {
     "data": {
      "text/plain": [
       "0.5282340491870343"
      ]
     },
     "execution_count": 89,
     "metadata": {},
     "output_type": "execute_result"
    }
   ],
   "source": [
    "a101=alpha101(o, h, l, c)\n",
    "mi[101] = get_mutual_info_score(ret_fwd, a101)\n",
    "mi[101]"
   ]
  },
  {
   "cell_type": "code",
   "execution_count": null,
   "id": "9e6a03a8",
   "metadata": {},
   "outputs": [],
   "source": []
  },
  {
   "cell_type": "code",
   "execution_count": null,
   "id": "737db1ff",
   "metadata": {},
   "outputs": [],
   "source": []
  },
  {
   "cell_type": "markdown",
   "id": "a961c7da",
   "metadata": {},
   "source": [
    "# alpha selection"
   ]
  },
  {
   "cell_type": "code",
   "execution_count": 122,
   "id": "6a88ce73",
   "metadata": {},
   "outputs": [
    {
     "data": {
      "text/plain": [
       "{5: 0.03470599599417845,\n",
       " 7: 0.0639019429983474,\n",
       " 8: 0.009167486035333017,\n",
       " 10: 0.2584408043659434,\n",
       " 11: 0.0031749410487362795,\n",
       " 12: 0.5240765798984515,\n",
       " 13: 0.012460904294289588,\n",
       " 14: 0.06410431588960464,\n",
       " 16: 0,\n",
       " 17: 0.1770630244602196,\n",
       " 18: 0.11760722508500843,\n",
       " 20: 0.06035516875436597,\n",
       " 28: 0.20467719527084238,\n",
       " 34: 0.11601847807418686,\n",
       " 38: 0.1650316619184431,\n",
       " 42: 0.166279541534192,\n",
       " 43: 0.09188695863941065,\n",
       " 45: 0.0325486111603972,\n",
       " 46: 0.10024619866920492,\n",
       " 47: 0.05670923524581051,\n",
       " 49: 1.1517052396845058,\n",
       " 51: 1.1582372731217716,\n",
       " 55: 0,\n",
       " 60: 0.04841824447185328,\n",
       " 83: 0.12365479484626452,\n",
       " 101: 0.5282340491870343,\n",
       " 30: 0.02378694836705053}"
      ]
     },
     "execution_count": 122,
     "metadata": {},
     "output_type": "execute_result"
    }
   ],
   "source": [
    "mi"
   ]
  },
  {
   "cell_type": "code",
   "execution_count": 123,
   "id": "5c9b7f8a",
   "metadata": {},
   "outputs": [
    {
     "data": {
      "text/plain": [
       "{51: 1.1582372731217716,\n",
       " 49: 1.1517052396845058,\n",
       " 101: 0.5282340491870343,\n",
       " 12: 0.5240765798984515,\n",
       " 10: 0.2584408043659434,\n",
       " 28: 0.20467719527084238,\n",
       " 17: 0.1770630244602196,\n",
       " 42: 0.166279541534192,\n",
       " 38: 0.1650316619184431,\n",
       " 83: 0.12365479484626452,\n",
       " 18: 0.11760722508500843,\n",
       " 34: 0.11601847807418686,\n",
       " 46: 0.10024619866920492,\n",
       " 43: 0.09188695863941065,\n",
       " 14: 0.06410431588960464,\n",
       " 7: 0.0639019429983474,\n",
       " 20: 0.06035516875436597,\n",
       " 47: 0.05670923524581051,\n",
       " 60: 0.04841824447185328,\n",
       " 5: 0.03470599599417845,\n",
       " 45: 0.0325486111603972,\n",
       " 30: 0.02378694836705053,\n",
       " 13: 0.012460904294289588,\n",
       " 8: 0.009167486035333017,\n",
       " 11: 0.0031749410487362795,\n",
       " 16: 0,\n",
       " 55: 0}"
      ]
     },
     "execution_count": 123,
     "metadata": {},
     "output_type": "execute_result"
    }
   ],
   "source": [
    "sorted_mi = dict(sorted(mi.items(), reverse=True, key=lambda item: item[1]))\n",
    "sorted_mi"
   ]
  },
  {
   "cell_type": "code",
   "execution_count": 124,
   "id": "b86176f2",
   "metadata": {},
   "outputs": [],
   "source": [
    "lst=[]\n",
    "df_lst=[]\n",
    "for i in sorted_mi.keys():\n",
    "    lst.append('a'+str(i))\n",
    "    df_lst.append(locals()['a'+str(i)])"
   ]
  },
  {
   "cell_type": "code",
   "execution_count": 125,
   "id": "63c5dbe1",
   "metadata": {},
   "outputs": [
    {
     "data": {
      "text/plain": [
       "[ticker  Date      \n",
       " AAPL    2021/01/05   -1.000000\n",
       " ADBE    2021/01/05   -1.000000\n",
       " ADI     2021/01/05   -1.000000\n",
       " ADP     2021/01/05   -1.000000\n",
       " ADSK    2021/01/05   -1.000000\n",
       "                         ...   \n",
       " WBA     2022/12/30    0.110001\n",
       " WDAY    2022/12/30    0.459991\n",
       " WDC     2022/12/30    0.020000\n",
       " XEL     2022/12/30    0.959999\n",
       " ZBRA    2022/12/30    1.119995\n",
       " Length: 45682, dtype: float64,\n",
       " ticker  Date      \n",
       " AAPL    2021/01/05   -1.000000\n",
       " ADBE    2021/01/05   -1.000000\n",
       " ADI     2021/01/05   -1.000000\n",
       " ADP     2021/01/05   -1.000000\n",
       " ADSK    2021/01/05   -1.000000\n",
       "                         ...   \n",
       " WBA     2022/12/30    0.110001\n",
       " WDAY    2022/12/30    0.459991\n",
       " WDC     2022/12/30    0.020000\n",
       " XEL     2022/12/30    0.959999\n",
       " ZBRA    2022/12/30    1.119995\n",
       " Length: 45682, dtype: float64,\n",
       " ticker  Date      \n",
       " AAPL    2021/01/05    0.640286\n",
       " ADBE    2021/01/05   -0.027613\n",
       " ADI     2021/01/05    0.809969\n",
       " ADP     2021/01/05   -0.067587\n",
       " ADSK    2021/01/05    0.646460\n",
       "                         ...   \n",
       " WBA     2022/12/30    0.291968\n",
       " WDAY    2022/12/30    0.974134\n",
       " WDC     2022/12/30    0.618846\n",
       " XEL     2022/12/30   -0.506087\n",
       " ZBRA    2022/12/30    0.440152\n",
       " Length: 45682, dtype: float64,\n",
       " ticker  Date      \n",
       " AAPL    2021/01/06     4.409996\n",
       " ADBE    2021/01/06    19.380005\n",
       " ADI     2021/01/06    -0.669998\n",
       " ADP     2021/01/06     0.590012\n",
       " ADSK    2021/01/06     1.169983\n",
       "                         ...    \n",
       " WBA     2022/12/30     0.110001\n",
       " WDAY    2022/12/30    -0.459991\n",
       " WDC     2022/12/30    -0.020000\n",
       " XEL     2022/12/30     0.959999\n",
       " ZBRA    2022/12/30    -1.119995\n",
       " Length: 45591, dtype: float64,\n",
       " ticker  Date      \n",
       " AAPL    2021/01/06    0.758242\n",
       " ADBE    2021/01/06    0.978022\n",
       " ADI     2021/01/06    0.373626\n",
       " ADP     2021/01/06    0.560440\n",
       " ADSK    2021/01/06    0.296703\n",
       "                         ...   \n",
       " WBA     2022/12/30    0.483516\n",
       " WDAY    2022/12/30    0.681319\n",
       " WDC     2022/12/30    0.439560\n",
       " XEL     2022/12/30    0.752747\n",
       " ZBRA    2022/12/30    0.802198\n",
       " Length: 45591, dtype: float64,\n",
       " ticker  Date      \n",
       " AAPL    2021/02/08   -0.009699\n",
       " ADBE    2021/02/08   -0.006785\n",
       " ADI     2021/02/08   -0.015214\n",
       " ADP     2021/02/08   -0.002552\n",
       " ADSK    2021/02/08    0.014138\n",
       "                         ...   \n",
       " WBA     2022/12/30    0.002595\n",
       " WDAY    2022/12/30   -0.014395\n",
       " WDC     2022/12/30   -0.007457\n",
       " XEL     2022/12/30    0.002151\n",
       " ZBRA    2022/12/30   -0.020725\n",
       " Length: 43589, dtype: float64,\n",
       " ticker  Date      \n",
       " AAPL    2021/02/08   -0.018434\n",
       " ADBE    2021/02/08   -0.099672\n",
       " ADI     2021/02/08   -0.253381\n",
       " ADP     2021/02/08   -0.151877\n",
       " ADSK    2021/02/08   -0.026325\n",
       "                         ...   \n",
       " WBA     2022/12/30   -0.017145\n",
       " WDAY    2022/12/30   -0.070942\n",
       " WDC     2022/12/30   -0.064036\n",
       " XEL     2022/12/30   -0.250116\n",
       " ZBRA    2022/12/30   -0.040726\n",
       " Length: 43589, dtype: float64,\n",
       " ticker  Date      \n",
       " AAPL    2021/01/05     0.875000\n",
       " ADBE    2021/01/05     0.345238\n",
       " ADI     2021/01/05     0.595745\n",
       " ADP     2021/01/05     1.400000\n",
       " ADSK    2021/01/05     0.273973\n",
       "                         ...    \n",
       " WBA     2022/12/30     7.400000\n",
       " WDAY    2022/12/30     0.372881\n",
       " WDC     2022/12/30    13.200000\n",
       " XEL     2022/12/30     3.869565\n",
       " ZBRA    2022/12/30     0.242857\n",
       " Length: 45682, dtype: float64,\n",
       " ticker  Date      \n",
       " AAPL    2021/01/19   -0.067383\n",
       " ADBE    2021/01/19   -0.011955\n",
       " ADI     2021/01/19   -0.433643\n",
       " ADP     2021/01/19   -0.030552\n",
       " ADSK    2021/01/19   -0.063096\n",
       "                         ...   \n",
       " WBA     2022/12/30   -0.008695\n",
       " WDAY    2022/12/30   -0.433281\n",
       " WDC     2022/12/30   -0.440949\n",
       " XEL     2022/12/30   -0.008996\n",
       " ZBRA    2022/12/30   -0.499457\n",
       " Length: 44863, dtype: float64,\n",
       " ticker  Date      \n",
       " AAPL    2021/01/13    0.538462\n",
       " ADBE    2021/01/13    0.868132\n",
       " ADI     2021/01/13    0.835165\n",
       " ADP     2021/01/13    0.461538\n",
       " ADSK    2021/01/13    0.615385\n",
       "                         ...   \n",
       " WBA     2022/12/30    0.032967\n",
       " WDAY    2022/12/30    0.802198\n",
       " WDC     2022/12/30    0.131868\n",
       " XEL     2022/12/30    0.912088\n",
       " ZBRA    2022/12/30    0.857143\n",
       " Length: 45136, dtype: float64,\n",
       " ticker  Date      \n",
       " AAPL    2021/01/19   -0.395604\n",
       " ADBE    2021/01/19   -0.098901\n",
       " ADI     2021/01/19   -0.659341\n",
       " ADP     2021/01/19   -0.527473\n",
       " ADSK    2021/01/19   -0.087912\n",
       "                         ...   \n",
       " WBA     2022/12/30   -0.208791\n",
       " WDAY    2022/12/30   -0.835165\n",
       " WDC     2022/12/30   -0.252747\n",
       " XEL     2022/12/30   -0.021978\n",
       " ZBRA    2022/12/30   -0.813187\n",
       " Length: 44863, dtype: float64,\n",
       " ticker  Date      \n",
       " AAPL    2021/01/11    0.846154\n",
       " ADBE    2021/01/11    0.879121\n",
       " ADI     2021/01/11    0.560440\n",
       " ADP     2021/01/11    0.280220\n",
       " ADSK    2021/01/11    0.659341\n",
       "                         ...   \n",
       " WBA     2022/12/30    0.967033\n",
       " WDAY    2022/12/30    0.285714\n",
       " WDC     2022/12/30    0.362637\n",
       " XEL     2022/12/30    0.868132\n",
       " ZBRA    2022/12/30    0.483516\n",
       " Length: 45318, dtype: float64,\n",
       " ticker  Date      \n",
       " AAPL    2021/01/06    -4.409996\n",
       " ADBE    2021/01/06   -19.380005\n",
       " ADI     2021/01/06     0.669998\n",
       " ADP     2021/01/06    -0.590012\n",
       " ADSK    2021/01/06     1.169983\n",
       "                         ...    \n",
       " WBA     2022/12/30    -0.110001\n",
       " WDAY    2022/12/30     1.403000\n",
       " WDC     2022/12/30     1.000000\n",
       " XEL     2022/12/30    -0.959999\n",
       " ZBRA    2022/12/30     1.000000\n",
       " Length: 45591, dtype: float64,\n",
       " ticker  Date      \n",
       " AAPL    2021/03/02    28.0\n",
       " ADBE    2021/03/02    12.0\n",
       " ADI     2021/03/02    96.0\n",
       " ADP     2021/03/02    72.0\n",
       " ADSK    2021/03/02    96.0\n",
       "                       ... \n",
       " WBA     2022/12/30    72.0\n",
       " WDAY    2022/12/30    16.0\n",
       " WDC     2022/12/30     4.0\n",
       " XEL     2022/12/30    24.0\n",
       " ZBRA    2022/12/30    10.0\n",
       " Length: 42224, dtype: float64,\n",
       " ticker  Date      \n",
       " AAPL    2021/01/19    0.042228\n",
       " ADBE    2021/01/19    0.082198\n",
       " ADI     2021/01/19   -0.232042\n",
       " ADP     2021/01/19    0.459509\n",
       " ADSK    2021/01/19    0.702170\n",
       "                         ...   \n",
       " WBA     2022/12/30   -0.163646\n",
       " WDAY    2022/12/30   -0.407041\n",
       " WDC     2022/12/30   -0.113341\n",
       " XEL     2022/12/30    0.029749\n",
       " ZBRA    2022/12/30    0.007361\n",
       " Length: 44863, dtype: float64,\n",
       " ticker  Date      \n",
       " AAPL    2021/01/05     1.0\n",
       " ADBE    2021/01/05     1.0\n",
       " ADI     2021/01/05     1.0\n",
       " ADP     2021/01/05     1.0\n",
       " ADSK    2021/01/05     1.0\n",
       "                       ... \n",
       " WBA     2022/12/30    44.0\n",
       " WDAY    2022/12/30     1.0\n",
       " WDC     2022/12/30     1.0\n",
       " XEL     2022/12/30     1.0\n",
       " ZBRA    2022/12/30     1.0\n",
       " Length: 44099, dtype: float64,\n",
       " ticker  Date      \n",
       " AAPL    2021/01/06   -0.028610\n",
       " ADBE    2021/01/06   -0.000096\n",
       " ADI     2021/01/06   -0.369955\n",
       " ADP     2021/01/06   -0.024364\n",
       " ADSK    2021/01/06   -0.001518\n",
       "                         ...   \n",
       " WBA     2022/12/30   -0.062877\n",
       " WDAY    2022/12/30   -0.022334\n",
       " WDC     2022/12/30   -0.298515\n",
       " XEL     2022/12/30   -0.122974\n",
       " ZBRA    2022/12/30   -0.053410\n",
       " Length: 45591, dtype: float64,\n",
       " ticker  Date      \n",
       " AAPL    2021/02/02    0.164961\n",
       " ADBE    2021/02/02   -0.003573\n",
       " ADI     2021/02/02    0.191534\n",
       " ADP     2021/02/02   -0.142722\n",
       " ADSK    2021/02/02    0.058946\n",
       "                         ...   \n",
       " WBA     2022/12/30   -0.250252\n",
       " WDAY    2022/12/30   -0.059762\n",
       " WDC     2022/12/30   -0.325069\n",
       " XEL     2022/12/30    0.091656\n",
       " ZBRA    2022/12/30   -0.072800\n",
       " Length: 43953, dtype: float64,\n",
       " ticker  Date      \n",
       " AAPL    2021/01/19   -0.012781\n",
       " ADBE    2021/01/19   -0.004419\n",
       " ADI     2021/01/19   -0.013975\n",
       " ADP     2021/01/19   -0.019470\n",
       " ADSK    2021/01/19    0.006331\n",
       "                         ...   \n",
       " WBA     2022/12/30   -0.026398\n",
       " WDAY    2022/12/30   -0.016961\n",
       " WDC     2022/12/30   -0.023053\n",
       " XEL     2022/12/30    0.013856\n",
       " ZBRA    2022/12/30    0.012542\n",
       " Length: 44863, dtype: float64,\n",
       " ticker  Date      \n",
       " AAPL    2021/01/19    0.103611\n",
       " ADBE    2021/01/19    0.003260\n",
       " ADI     2021/01/19    0.510083\n",
       " ADP     2021/01/19    0.048303\n",
       " ADSK    2021/01/19    0.066659\n",
       "                         ...   \n",
       " WBA     2022/12/30    0.086946\n",
       " WDAY    2022/12/30    0.126796\n",
       " WDC     2022/12/30    0.178964\n",
       " XEL     2022/12/30    0.025722\n",
       " ZBRA    2022/12/30    0.787948\n",
       " Length: 44863, dtype: float64,\n",
       " ticker  Date      \n",
       " AAPL    2021/02/09    0.292114\n",
       " ADBE    2021/02/09    0.861973\n",
       " ADI     2021/02/09   -0.156503\n",
       " ADP     2021/02/09   -0.370487\n",
       " ADSK    2021/02/09   -0.035261\n",
       "                         ...   \n",
       " WBA     2022/12/30    0.089120\n",
       " WDAY    2022/12/30   -0.345369\n",
       " WDC     2022/12/30   -0.010868\n",
       " XEL     2022/12/30    0.067745\n",
       " ZBRA    2022/12/30   -0.355030\n",
       " Length: 43315, dtype: float64,\n",
       " ticker  Date      \n",
       " AAPL    2021/02/02   -0.635541\n",
       " ADBE    2021/02/02   -9.157644\n",
       " ADI     2021/02/02   -0.464236\n",
       " ADP     2021/02/02   -2.881295\n",
       " ADSK    2021/02/02   -0.556689\n",
       "                         ...   \n",
       " WBA     2022/12/30    0.270413\n",
       " WDAY    2022/12/30   -0.558244\n",
       " WDC     2022/12/30   -0.148019\n",
       " XEL     2022/12/30   -0.697802\n",
       " ZBRA    2022/12/30   -0.500439\n",
       " Length: 43953, dtype: float64,\n",
       " ticker  Date      \n",
       " AAPL    2021/01/11   -0.631868\n",
       " ADBE    2021/01/11   -0.197802\n",
       " ADI     2021/01/11   -0.978022\n",
       " ADP     2021/01/11   -0.065934\n",
       " ADSK    2021/01/11   -0.362637\n",
       "                         ...   \n",
       " WBA     2022/12/30   -0.554945\n",
       " WDAY    2022/12/30   -0.956044\n",
       " WDC     2022/12/30   -0.686813\n",
       " XEL     2022/12/30   -0.010989\n",
       " ZBRA    2022/12/30   -0.318681\n",
       " Length: 45318, dtype: float64,\n",
       " ticker  Date      \n",
       " AAPL    2021/01/26   -0.901099\n",
       " ADBE    2021/01/26   -0.989011\n",
       " ADI     2021/01/26   -0.241758\n",
       " ADP     2021/01/26   -0.879121\n",
       " ADSK    2021/01/26   -0.076923\n",
       "                         ...   \n",
       " WBA     2022/12/30   -0.175824\n",
       " WDAY    2022/12/30   -0.032967\n",
       " WDC     2022/12/30   -0.351648\n",
       " XEL     2022/12/30   -0.098901\n",
       " ZBRA    2022/12/30   -0.824176\n",
       " Length: 44408, dtype: float64,\n",
       " ticker  Date      \n",
       " AAPL    2021/01/08    1.188262\n",
       " ADBE    2021/01/08    0.665620\n",
       " ADI     2021/01/08    0.753170\n",
       " ADP     2021/01/08    0.605724\n",
       " ADSK    2021/01/08    0.025359\n",
       "                         ...   \n",
       " WBA     2022/12/30    1.046613\n",
       " WDAY    2022/12/30    0.480014\n",
       " WDC     2022/12/30    0.144910\n",
       " XEL     2022/12/30    0.616773\n",
       " ZBRA    2022/12/30    0.461538\n",
       " Length: 45409, dtype: float64,\n",
       " ticker  Date      \n",
       " AAPL    2021/01/11   -0.604396\n",
       " ADBE    2021/01/11   -0.582418\n",
       " ADI     2021/01/11   -0.989011\n",
       " ADP     2021/01/11   -0.087912\n",
       " ADSK    2021/01/11   -0.351648\n",
       "                         ...   \n",
       " WBA     2022/12/30   -0.428571\n",
       " WDAY    2022/12/30   -0.989011\n",
       " WDC     2022/12/30   -0.714286\n",
       " XEL     2022/12/30   -0.093407\n",
       " ZBRA    2022/12/30   -0.307692\n",
       " Length: 45318, dtype: float64,\n",
       " ticker  Date      \n",
       " AAPL    2021/01/28    0.492753\n",
       " ADBE    2021/01/28    0.575628\n",
       " ADI     2021/01/28    0.590024\n",
       " ADP     2021/01/28   -0.014005\n",
       " ADSK    2021/01/28   -0.246667\n",
       "                         ...   \n",
       " WBA     2022/12/30    0.728844\n",
       " WDAY    2022/12/30   -0.172964\n",
       " WDC     2022/12/30    0.433732\n",
       " XEL     2022/12/30    0.027887\n",
       " ZBRA    2022/12/30   -0.338290\n",
       " Length: 44135, dtype: float64]"
      ]
     },
     "execution_count": 125,
     "metadata": {},
     "output_type": "execute_result"
    }
   ],
   "source": [
    "df_lst"
   ]
  },
  {
   "cell_type": "code",
   "execution_count": 126,
   "id": "7873a7a7",
   "metadata": {},
   "outputs": [],
   "source": [
    "result = pd.concat(df_lst, axis=1, keys = lst)"
   ]
  },
  {
   "cell_type": "code",
   "execution_count": 127,
   "id": "80d7b595",
   "metadata": {},
   "outputs": [
    {
     "data": {
      "text/html": [
       "<div>\n",
       "<style scoped>\n",
       "    .dataframe tbody tr th:only-of-type {\n",
       "        vertical-align: middle;\n",
       "    }\n",
       "\n",
       "    .dataframe tbody tr th {\n",
       "        vertical-align: top;\n",
       "    }\n",
       "\n",
       "    .dataframe thead th {\n",
       "        text-align: right;\n",
       "    }\n",
       "</style>\n",
       "<table border=\"1\" class=\"dataframe\">\n",
       "  <thead>\n",
       "    <tr style=\"text-align: right;\">\n",
       "      <th></th>\n",
       "      <th></th>\n",
       "      <th>a51</th>\n",
       "      <th>a49</th>\n",
       "      <th>a101</th>\n",
       "      <th>a12</th>\n",
       "      <th>a10</th>\n",
       "      <th>a28</th>\n",
       "      <th>a17</th>\n",
       "      <th>a42</th>\n",
       "      <th>a38</th>\n",
       "      <th>a83</th>\n",
       "      <th>...</th>\n",
       "      <th>a47</th>\n",
       "      <th>a60</th>\n",
       "      <th>a5</th>\n",
       "      <th>a45</th>\n",
       "      <th>a30</th>\n",
       "      <th>a13</th>\n",
       "      <th>a8</th>\n",
       "      <th>a11</th>\n",
       "      <th>a16</th>\n",
       "      <th>a55</th>\n",
       "    </tr>\n",
       "    <tr>\n",
       "      <th>ticker</th>\n",
       "      <th>Date</th>\n",
       "      <th></th>\n",
       "      <th></th>\n",
       "      <th></th>\n",
       "      <th></th>\n",
       "      <th></th>\n",
       "      <th></th>\n",
       "      <th></th>\n",
       "      <th></th>\n",
       "      <th></th>\n",
       "      <th></th>\n",
       "      <th></th>\n",
       "      <th></th>\n",
       "      <th></th>\n",
       "      <th></th>\n",
       "      <th></th>\n",
       "      <th></th>\n",
       "      <th></th>\n",
       "      <th></th>\n",
       "      <th></th>\n",
       "      <th></th>\n",
       "      <th></th>\n",
       "    </tr>\n",
       "  </thead>\n",
       "  <tbody>\n",
       "    <tr>\n",
       "      <th rowspan=\"5\" valign=\"top\">AAPL</th>\n",
       "      <th>2021/01/05</th>\n",
       "      <td>-1.000000</td>\n",
       "      <td>-1.000000</td>\n",
       "      <td>0.640286</td>\n",
       "      <td>NaN</td>\n",
       "      <td>NaN</td>\n",
       "      <td>NaN</td>\n",
       "      <td>NaN</td>\n",
       "      <td>0.875000</td>\n",
       "      <td>NaN</td>\n",
       "      <td>NaN</td>\n",
       "      <td>...</td>\n",
       "      <td>NaN</td>\n",
       "      <td>NaN</td>\n",
       "      <td>NaN</td>\n",
       "      <td>NaN</td>\n",
       "      <td>NaN</td>\n",
       "      <td>NaN</td>\n",
       "      <td>NaN</td>\n",
       "      <td>NaN</td>\n",
       "      <td>NaN</td>\n",
       "      <td>NaN</td>\n",
       "    </tr>\n",
       "    <tr>\n",
       "      <th>2021/01/06</th>\n",
       "      <td>-1.000000</td>\n",
       "      <td>-1.000000</td>\n",
       "      <td>-0.239778</td>\n",
       "      <td>4.409996</td>\n",
       "      <td>0.758242</td>\n",
       "      <td>NaN</td>\n",
       "      <td>NaN</td>\n",
       "      <td>2.000000</td>\n",
       "      <td>NaN</td>\n",
       "      <td>NaN</td>\n",
       "      <td>...</td>\n",
       "      <td>NaN</td>\n",
       "      <td>NaN</td>\n",
       "      <td>NaN</td>\n",
       "      <td>NaN</td>\n",
       "      <td>NaN</td>\n",
       "      <td>NaN</td>\n",
       "      <td>NaN</td>\n",
       "      <td>NaN</td>\n",
       "      <td>NaN</td>\n",
       "      <td>NaN</td>\n",
       "    </tr>\n",
       "    <tr>\n",
       "      <th>2021/01/07</th>\n",
       "      <td>-1.000000</td>\n",
       "      <td>-1.000000</td>\n",
       "      <td>0.678864</td>\n",
       "      <td>4.320000</td>\n",
       "      <td>0.373626</td>\n",
       "      <td>NaN</td>\n",
       "      <td>NaN</td>\n",
       "      <td>0.948718</td>\n",
       "      <td>NaN</td>\n",
       "      <td>NaN</td>\n",
       "      <td>...</td>\n",
       "      <td>NaN</td>\n",
       "      <td>NaN</td>\n",
       "      <td>NaN</td>\n",
       "      <td>NaN</td>\n",
       "      <td>NaN</td>\n",
       "      <td>NaN</td>\n",
       "      <td>NaN</td>\n",
       "      <td>NaN</td>\n",
       "      <td>NaN</td>\n",
       "      <td>NaN</td>\n",
       "    </tr>\n",
       "    <tr>\n",
       "      <th>2021/01/08</th>\n",
       "      <td>-1.000000</td>\n",
       "      <td>-1.000000</td>\n",
       "      <td>-0.158262</td>\n",
       "      <td>1.130005</td>\n",
       "      <td>0.500000</td>\n",
       "      <td>NaN</td>\n",
       "      <td>NaN</td>\n",
       "      <td>1.358974</td>\n",
       "      <td>NaN</td>\n",
       "      <td>NaN</td>\n",
       "      <td>...</td>\n",
       "      <td>NaN</td>\n",
       "      <td>NaN</td>\n",
       "      <td>NaN</td>\n",
       "      <td>NaN</td>\n",
       "      <td>NaN</td>\n",
       "      <td>NaN</td>\n",
       "      <td>NaN</td>\n",
       "      <td>1.188262</td>\n",
       "      <td>NaN</td>\n",
       "      <td>NaN</td>\n",
       "    </tr>\n",
       "    <tr>\n",
       "      <th>2021/01/11</th>\n",
       "      <td>-1.000000</td>\n",
       "      <td>-1.000000</td>\n",
       "      <td>-0.125677</td>\n",
       "      <td>-3.070007</td>\n",
       "      <td>0.758242</td>\n",
       "      <td>NaN</td>\n",
       "      <td>NaN</td>\n",
       "      <td>1.421053</td>\n",
       "      <td>NaN</td>\n",
       "      <td>NaN</td>\n",
       "      <td>...</td>\n",
       "      <td>NaN</td>\n",
       "      <td>NaN</td>\n",
       "      <td>NaN</td>\n",
       "      <td>NaN</td>\n",
       "      <td>NaN</td>\n",
       "      <td>-0.631868</td>\n",
       "      <td>NaN</td>\n",
       "      <td>0.009419</td>\n",
       "      <td>-0.604396</td>\n",
       "      <td>NaN</td>\n",
       "    </tr>\n",
       "    <tr>\n",
       "      <th>...</th>\n",
       "      <th>...</th>\n",
       "      <td>...</td>\n",
       "      <td>...</td>\n",
       "      <td>...</td>\n",
       "      <td>...</td>\n",
       "      <td>...</td>\n",
       "      <td>...</td>\n",
       "      <td>...</td>\n",
       "      <td>...</td>\n",
       "      <td>...</td>\n",
       "      <td>...</td>\n",
       "      <td>...</td>\n",
       "      <td>...</td>\n",
       "      <td>...</td>\n",
       "      <td>...</td>\n",
       "      <td>...</td>\n",
       "      <td>...</td>\n",
       "      <td>...</td>\n",
       "      <td>...</td>\n",
       "      <td>...</td>\n",
       "      <td>...</td>\n",
       "      <td>...</td>\n",
       "    </tr>\n",
       "    <tr>\n",
       "      <th rowspan=\"5\" valign=\"top\">ZBRA</th>\n",
       "      <th>2022/12/23</th>\n",
       "      <td>-0.710007</td>\n",
       "      <td>-0.710007</td>\n",
       "      <td>0.310431</td>\n",
       "      <td>0.710007</td>\n",
       "      <td>0.263736</td>\n",
       "      <td>-0.006871</td>\n",
       "      <td>-0.196186</td>\n",
       "      <td>0.414286</td>\n",
       "      <td>-0.289639</td>\n",
       "      <td>0.769231</td>\n",
       "      <td>...</td>\n",
       "      <td>0.014688</td>\n",
       "      <td>0.001672</td>\n",
       "      <td>0.220626</td>\n",
       "      <td>0.693153</td>\n",
       "      <td>0.009258</td>\n",
       "      <td>-0.824176</td>\n",
       "      <td>-0.912088</td>\n",
       "      <td>0.262046</td>\n",
       "      <td>-0.406593</td>\n",
       "      <td>-0.402229</td>\n",
       "    </tr>\n",
       "    <tr>\n",
       "      <th>2022/12/27</th>\n",
       "      <td>-2.779999</td>\n",
       "      <td>-2.779999</td>\n",
       "      <td>0.245864</td>\n",
       "      <td>-2.779999</td>\n",
       "      <td>0.065934</td>\n",
       "      <td>-0.007423</td>\n",
       "      <td>-0.359094</td>\n",
       "      <td>0.142857</td>\n",
       "      <td>-0.701727</td>\n",
       "      <td>0.362637</td>\n",
       "      <td>...</td>\n",
       "      <td>-0.019076</td>\n",
       "      <td>-0.016603</td>\n",
       "      <td>0.386185</td>\n",
       "      <td>-0.109890</td>\n",
       "      <td>-0.046731</td>\n",
       "      <td>-0.494505</td>\n",
       "      <td>-0.945055</td>\n",
       "      <td>0.113996</td>\n",
       "      <td>-0.412088</td>\n",
       "      <td>-0.396350</td>\n",
       "    </tr>\n",
       "    <tr>\n",
       "      <th>2022/12/28</th>\n",
       "      <td>4.160004</td>\n",
       "      <td>4.160004</td>\n",
       "      <td>-0.471441</td>\n",
       "      <td>-4.160004</td>\n",
       "      <td>0.857143</td>\n",
       "      <td>0.017860</td>\n",
       "      <td>-0.022559</td>\n",
       "      <td>1.157143</td>\n",
       "      <td>-0.218814</td>\n",
       "      <td>0.142857</td>\n",
       "      <td>...</td>\n",
       "      <td>-0.004370</td>\n",
       "      <td>-0.029742</td>\n",
       "      <td>0.099626</td>\n",
       "      <td>-0.752325</td>\n",
       "      <td>0.001790</td>\n",
       "      <td>-0.428571</td>\n",
       "      <td>-0.274725</td>\n",
       "      <td>0.912933</td>\n",
       "      <td>-0.351648</td>\n",
       "      <td>0.324595</td>\n",
       "    </tr>\n",
       "    <tr>\n",
       "      <th>2022/12/29</th>\n",
       "      <td>-10.690002</td>\n",
       "      <td>-10.690002</td>\n",
       "      <td>0.881671</td>\n",
       "      <td>-10.690002</td>\n",
       "      <td>0.109890</td>\n",
       "      <td>-0.034240</td>\n",
       "      <td>-0.776495</td>\n",
       "      <td>0.100000</td>\n",
       "      <td>-0.851950</td>\n",
       "      <td>0.835165</td>\n",
       "      <td>...</td>\n",
       "      <td>-0.085570</td>\n",
       "      <td>0.006211</td>\n",
       "      <td>0.831421</td>\n",
       "      <td>-0.059172</td>\n",
       "      <td>-0.098022</td>\n",
       "      <td>-0.340659</td>\n",
       "      <td>-0.406593</td>\n",
       "      <td>0.375317</td>\n",
       "      <td>-0.208791</td>\n",
       "      <td>-0.274630</td>\n",
       "    </tr>\n",
       "    <tr>\n",
       "      <th>2022/12/30</th>\n",
       "      <td>1.119995</td>\n",
       "      <td>1.119995</td>\n",
       "      <td>0.440152</td>\n",
       "      <td>-1.119995</td>\n",
       "      <td>0.802198</td>\n",
       "      <td>-0.020725</td>\n",
       "      <td>-0.040726</td>\n",
       "      <td>0.242857</td>\n",
       "      <td>-0.499457</td>\n",
       "      <td>0.857143</td>\n",
       "      <td>...</td>\n",
       "      <td>-0.072800</td>\n",
       "      <td>0.012542</td>\n",
       "      <td>0.787948</td>\n",
       "      <td>-0.355030</td>\n",
       "      <td>-0.500439</td>\n",
       "      <td>-0.318681</td>\n",
       "      <td>-0.824176</td>\n",
       "      <td>0.461538</td>\n",
       "      <td>-0.307692</td>\n",
       "      <td>-0.338290</td>\n",
       "    </tr>\n",
       "  </tbody>\n",
       "</table>\n",
       "<p>45682 rows × 27 columns</p>\n",
       "</div>"
      ],
      "text/plain": [
       "                         a51        a49      a101        a12       a10  \\\n",
       "ticker Date                                                              \n",
       "AAPL   2021/01/05  -1.000000  -1.000000  0.640286        NaN       NaN   \n",
       "       2021/01/06  -1.000000  -1.000000 -0.239778   4.409996  0.758242   \n",
       "       2021/01/07  -1.000000  -1.000000  0.678864   4.320000  0.373626   \n",
       "       2021/01/08  -1.000000  -1.000000 -0.158262   1.130005  0.500000   \n",
       "       2021/01/11  -1.000000  -1.000000 -0.125677  -3.070007  0.758242   \n",
       "...                      ...        ...       ...        ...       ...   \n",
       "ZBRA   2022/12/23  -0.710007  -0.710007  0.310431   0.710007  0.263736   \n",
       "       2022/12/27  -2.779999  -2.779999  0.245864  -2.779999  0.065934   \n",
       "       2022/12/28   4.160004   4.160004 -0.471441  -4.160004  0.857143   \n",
       "       2022/12/29 -10.690002 -10.690002  0.881671 -10.690002  0.109890   \n",
       "       2022/12/30   1.119995   1.119995  0.440152  -1.119995  0.802198   \n",
       "\n",
       "                        a28       a17       a42       a38       a83  ...  \\\n",
       "ticker Date                                                          ...   \n",
       "AAPL   2021/01/05       NaN       NaN  0.875000       NaN       NaN  ...   \n",
       "       2021/01/06       NaN       NaN  2.000000       NaN       NaN  ...   \n",
       "       2021/01/07       NaN       NaN  0.948718       NaN       NaN  ...   \n",
       "       2021/01/08       NaN       NaN  1.358974       NaN       NaN  ...   \n",
       "       2021/01/11       NaN       NaN  1.421053       NaN       NaN  ...   \n",
       "...                     ...       ...       ...       ...       ...  ...   \n",
       "ZBRA   2022/12/23 -0.006871 -0.196186  0.414286 -0.289639  0.769231  ...   \n",
       "       2022/12/27 -0.007423 -0.359094  0.142857 -0.701727  0.362637  ...   \n",
       "       2022/12/28  0.017860 -0.022559  1.157143 -0.218814  0.142857  ...   \n",
       "       2022/12/29 -0.034240 -0.776495  0.100000 -0.851950  0.835165  ...   \n",
       "       2022/12/30 -0.020725 -0.040726  0.242857 -0.499457  0.857143  ...   \n",
       "\n",
       "                        a47       a60        a5       a45       a30       a13  \\\n",
       "ticker Date                                                                     \n",
       "AAPL   2021/01/05       NaN       NaN       NaN       NaN       NaN       NaN   \n",
       "       2021/01/06       NaN       NaN       NaN       NaN       NaN       NaN   \n",
       "       2021/01/07       NaN       NaN       NaN       NaN       NaN       NaN   \n",
       "       2021/01/08       NaN       NaN       NaN       NaN       NaN       NaN   \n",
       "       2021/01/11       NaN       NaN       NaN       NaN       NaN -0.631868   \n",
       "...                     ...       ...       ...       ...       ...       ...   \n",
       "ZBRA   2022/12/23  0.014688  0.001672  0.220626  0.693153  0.009258 -0.824176   \n",
       "       2022/12/27 -0.019076 -0.016603  0.386185 -0.109890 -0.046731 -0.494505   \n",
       "       2022/12/28 -0.004370 -0.029742  0.099626 -0.752325  0.001790 -0.428571   \n",
       "       2022/12/29 -0.085570  0.006211  0.831421 -0.059172 -0.098022 -0.340659   \n",
       "       2022/12/30 -0.072800  0.012542  0.787948 -0.355030 -0.500439 -0.318681   \n",
       "\n",
       "                         a8       a11       a16       a55  \n",
       "ticker Date                                                \n",
       "AAPL   2021/01/05       NaN       NaN       NaN       NaN  \n",
       "       2021/01/06       NaN       NaN       NaN       NaN  \n",
       "       2021/01/07       NaN       NaN       NaN       NaN  \n",
       "       2021/01/08       NaN  1.188262       NaN       NaN  \n",
       "       2021/01/11       NaN  0.009419 -0.604396       NaN  \n",
       "...                     ...       ...       ...       ...  \n",
       "ZBRA   2022/12/23 -0.912088  0.262046 -0.406593 -0.402229  \n",
       "       2022/12/27 -0.945055  0.113996 -0.412088 -0.396350  \n",
       "       2022/12/28 -0.274725  0.912933 -0.351648  0.324595  \n",
       "       2022/12/29 -0.406593  0.375317 -0.208791 -0.274630  \n",
       "       2022/12/30 -0.824176  0.461538 -0.307692 -0.338290  \n",
       "\n",
       "[45682 rows x 27 columns]"
      ]
     },
     "execution_count": 127,
     "metadata": {},
     "output_type": "execute_result"
    }
   ],
   "source": [
    "result"
   ]
  },
  {
   "cell_type": "code",
   "execution_count": 128,
   "id": "ab8d20a7",
   "metadata": {},
   "outputs": [],
   "source": [
    "result = result[result.index.get_level_values('Date') >='2021/02/01']"
   ]
  },
  {
   "cell_type": "code",
   "execution_count": 129,
   "id": "c5a54a1f",
   "metadata": {},
   "outputs": [
    {
     "data": {
      "text/html": [
       "<div>\n",
       "<style scoped>\n",
       "    .dataframe tbody tr th:only-of-type {\n",
       "        vertical-align: middle;\n",
       "    }\n",
       "\n",
       "    .dataframe tbody tr th {\n",
       "        vertical-align: top;\n",
       "    }\n",
       "\n",
       "    .dataframe thead th {\n",
       "        text-align: right;\n",
       "    }\n",
       "</style>\n",
       "<table border=\"1\" class=\"dataframe\">\n",
       "  <thead>\n",
       "    <tr style=\"text-align: right;\">\n",
       "      <th></th>\n",
       "      <th></th>\n",
       "      <th>a51</th>\n",
       "      <th>a49</th>\n",
       "      <th>a101</th>\n",
       "      <th>a12</th>\n",
       "      <th>a10</th>\n",
       "      <th>a28</th>\n",
       "      <th>a17</th>\n",
       "      <th>a42</th>\n",
       "      <th>a38</th>\n",
       "      <th>a83</th>\n",
       "      <th>...</th>\n",
       "      <th>a47</th>\n",
       "      <th>a60</th>\n",
       "      <th>a5</th>\n",
       "      <th>a45</th>\n",
       "      <th>a30</th>\n",
       "      <th>a13</th>\n",
       "      <th>a8</th>\n",
       "      <th>a11</th>\n",
       "      <th>a16</th>\n",
       "      <th>a55</th>\n",
       "    </tr>\n",
       "    <tr>\n",
       "      <th>ticker</th>\n",
       "      <th>Date</th>\n",
       "      <th></th>\n",
       "      <th></th>\n",
       "      <th></th>\n",
       "      <th></th>\n",
       "      <th></th>\n",
       "      <th></th>\n",
       "      <th></th>\n",
       "      <th></th>\n",
       "      <th></th>\n",
       "      <th></th>\n",
       "      <th></th>\n",
       "      <th></th>\n",
       "      <th></th>\n",
       "      <th></th>\n",
       "      <th></th>\n",
       "      <th></th>\n",
       "      <th></th>\n",
       "      <th></th>\n",
       "      <th></th>\n",
       "      <th></th>\n",
       "      <th></th>\n",
       "    </tr>\n",
       "  </thead>\n",
       "  <tbody>\n",
       "    <tr>\n",
       "      <th rowspan=\"5\" valign=\"top\">AAPL</th>\n",
       "      <th>2021/02/01</th>\n",
       "      <td>-1.000000</td>\n",
       "      <td>-1.000000</td>\n",
       "      <td>0.087620</td>\n",
       "      <td>2.179993</td>\n",
       "      <td>0.593407</td>\n",
       "      <td>NaN</td>\n",
       "      <td>NaN</td>\n",
       "      <td>1.279070</td>\n",
       "      <td>-0.114479</td>\n",
       "      <td>0.153846</td>\n",
       "      <td>...</td>\n",
       "      <td>NaN</td>\n",
       "      <td>-0.026039</td>\n",
       "      <td>0.192127</td>\n",
       "      <td>NaN</td>\n",
       "      <td>NaN</td>\n",
       "      <td>-0.296703</td>\n",
       "      <td>-0.208791</td>\n",
       "      <td>0.061345</td>\n",
       "      <td>-0.252747</td>\n",
       "      <td>0.466738</td>\n",
       "    </tr>\n",
       "    <tr>\n",
       "      <th>2021/02/02</th>\n",
       "      <td>-1.000000</td>\n",
       "      <td>-1.000000</td>\n",
       "      <td>-0.435033</td>\n",
       "      <td>0.850006</td>\n",
       "      <td>0.670330</td>\n",
       "      <td>NaN</td>\n",
       "      <td>NaN</td>\n",
       "      <td>1.928571</td>\n",
       "      <td>-0.048243</td>\n",
       "      <td>0.967033</td>\n",
       "      <td>...</td>\n",
       "      <td>0.164961</td>\n",
       "      <td>0.012303</td>\n",
       "      <td>0.033209</td>\n",
       "      <td>NaN</td>\n",
       "      <td>-0.635541</td>\n",
       "      <td>-0.626374</td>\n",
       "      <td>-0.186813</td>\n",
       "      <td>0.015699</td>\n",
       "      <td>-0.620879</td>\n",
       "      <td>-0.096671</td>\n",
       "    </tr>\n",
       "    <tr>\n",
       "      <th>2021/02/03</th>\n",
       "      <td>1.050003</td>\n",
       "      <td>1.050003</td>\n",
       "      <td>-0.842198</td>\n",
       "      <td>1.050003</td>\n",
       "      <td>0.494505</td>\n",
       "      <td>NaN</td>\n",
       "      <td>NaN</td>\n",
       "      <td>1.225000</td>\n",
       "      <td>-0.084169</td>\n",
       "      <td>0.901099</td>\n",
       "      <td>...</td>\n",
       "      <td>0.136848</td>\n",
       "      <td>0.011108</td>\n",
       "      <td>0.051926</td>\n",
       "      <td>NaN</td>\n",
       "      <td>-1.263845</td>\n",
       "      <td>-0.813187</td>\n",
       "      <td>-0.175824</td>\n",
       "      <td>0.013404</td>\n",
       "      <td>-0.840659</td>\n",
       "      <td>-0.271075</td>\n",
       "    </tr>\n",
       "    <tr>\n",
       "      <th>2021/02/04</th>\n",
       "      <td>-3.449997</td>\n",
       "      <td>-3.449997</td>\n",
       "      <td>0.387761</td>\n",
       "      <td>3.449997</td>\n",
       "      <td>0.285714</td>\n",
       "      <td>NaN</td>\n",
       "      <td>NaN</td>\n",
       "      <td>0.809524</td>\n",
       "      <td>-0.197802</td>\n",
       "      <td>0.582418</td>\n",
       "      <td>...</td>\n",
       "      <td>-0.041331</td>\n",
       "      <td>-0.034042</td>\n",
       "      <td>0.147084</td>\n",
       "      <td>NaN</td>\n",
       "      <td>0.012221</td>\n",
       "      <td>-0.813187</td>\n",
       "      <td>-0.208791</td>\n",
       "      <td>0.023910</td>\n",
       "      <td>-0.758242</td>\n",
       "      <td>-0.487398</td>\n",
       "    </tr>\n",
       "    <tr>\n",
       "      <th>2021/02/05</th>\n",
       "      <td>0.630005</td>\n",
       "      <td>0.630005</td>\n",
       "      <td>-0.377971</td>\n",
       "      <td>-0.630005</td>\n",
       "      <td>0.681319</td>\n",
       "      <td>NaN</td>\n",
       "      <td>NaN</td>\n",
       "      <td>1.071429</td>\n",
       "      <td>-0.101497</td>\n",
       "      <td>0.934066</td>\n",
       "      <td>...</td>\n",
       "      <td>-0.041274</td>\n",
       "      <td>-0.036550</td>\n",
       "      <td>0.085135</td>\n",
       "      <td>NaN</td>\n",
       "      <td>0.596115</td>\n",
       "      <td>-0.780220</td>\n",
       "      <td>-0.142857</td>\n",
       "      <td>0.070161</td>\n",
       "      <td>-0.681319</td>\n",
       "      <td>-0.318052</td>\n",
       "    </tr>\n",
       "    <tr>\n",
       "      <th>...</th>\n",
       "      <th>...</th>\n",
       "      <td>...</td>\n",
       "      <td>...</td>\n",
       "      <td>...</td>\n",
       "      <td>...</td>\n",
       "      <td>...</td>\n",
       "      <td>...</td>\n",
       "      <td>...</td>\n",
       "      <td>...</td>\n",
       "      <td>...</td>\n",
       "      <td>...</td>\n",
       "      <td>...</td>\n",
       "      <td>...</td>\n",
       "      <td>...</td>\n",
       "      <td>...</td>\n",
       "      <td>...</td>\n",
       "      <td>...</td>\n",
       "      <td>...</td>\n",
       "      <td>...</td>\n",
       "      <td>...</td>\n",
       "      <td>...</td>\n",
       "      <td>...</td>\n",
       "    </tr>\n",
       "    <tr>\n",
       "      <th rowspan=\"5\" valign=\"top\">ZBRA</th>\n",
       "      <th>2022/12/23</th>\n",
       "      <td>-0.710007</td>\n",
       "      <td>-0.710007</td>\n",
       "      <td>0.310431</td>\n",
       "      <td>0.710007</td>\n",
       "      <td>0.263736</td>\n",
       "      <td>-0.006871</td>\n",
       "      <td>-0.196186</td>\n",
       "      <td>0.414286</td>\n",
       "      <td>-0.289639</td>\n",
       "      <td>0.769231</td>\n",
       "      <td>...</td>\n",
       "      <td>0.014688</td>\n",
       "      <td>0.001672</td>\n",
       "      <td>0.220626</td>\n",
       "      <td>0.693153</td>\n",
       "      <td>0.009258</td>\n",
       "      <td>-0.824176</td>\n",
       "      <td>-0.912088</td>\n",
       "      <td>0.262046</td>\n",
       "      <td>-0.406593</td>\n",
       "      <td>-0.402229</td>\n",
       "    </tr>\n",
       "    <tr>\n",
       "      <th>2022/12/27</th>\n",
       "      <td>-2.779999</td>\n",
       "      <td>-2.779999</td>\n",
       "      <td>0.245864</td>\n",
       "      <td>-2.779999</td>\n",
       "      <td>0.065934</td>\n",
       "      <td>-0.007423</td>\n",
       "      <td>-0.359094</td>\n",
       "      <td>0.142857</td>\n",
       "      <td>-0.701727</td>\n",
       "      <td>0.362637</td>\n",
       "      <td>...</td>\n",
       "      <td>-0.019076</td>\n",
       "      <td>-0.016603</td>\n",
       "      <td>0.386185</td>\n",
       "      <td>-0.109890</td>\n",
       "      <td>-0.046731</td>\n",
       "      <td>-0.494505</td>\n",
       "      <td>-0.945055</td>\n",
       "      <td>0.113996</td>\n",
       "      <td>-0.412088</td>\n",
       "      <td>-0.396350</td>\n",
       "    </tr>\n",
       "    <tr>\n",
       "      <th>2022/12/28</th>\n",
       "      <td>4.160004</td>\n",
       "      <td>4.160004</td>\n",
       "      <td>-0.471441</td>\n",
       "      <td>-4.160004</td>\n",
       "      <td>0.857143</td>\n",
       "      <td>0.017860</td>\n",
       "      <td>-0.022559</td>\n",
       "      <td>1.157143</td>\n",
       "      <td>-0.218814</td>\n",
       "      <td>0.142857</td>\n",
       "      <td>...</td>\n",
       "      <td>-0.004370</td>\n",
       "      <td>-0.029742</td>\n",
       "      <td>0.099626</td>\n",
       "      <td>-0.752325</td>\n",
       "      <td>0.001790</td>\n",
       "      <td>-0.428571</td>\n",
       "      <td>-0.274725</td>\n",
       "      <td>0.912933</td>\n",
       "      <td>-0.351648</td>\n",
       "      <td>0.324595</td>\n",
       "    </tr>\n",
       "    <tr>\n",
       "      <th>2022/12/29</th>\n",
       "      <td>-10.690002</td>\n",
       "      <td>-10.690002</td>\n",
       "      <td>0.881671</td>\n",
       "      <td>-10.690002</td>\n",
       "      <td>0.109890</td>\n",
       "      <td>-0.034240</td>\n",
       "      <td>-0.776495</td>\n",
       "      <td>0.100000</td>\n",
       "      <td>-0.851950</td>\n",
       "      <td>0.835165</td>\n",
       "      <td>...</td>\n",
       "      <td>-0.085570</td>\n",
       "      <td>0.006211</td>\n",
       "      <td>0.831421</td>\n",
       "      <td>-0.059172</td>\n",
       "      <td>-0.098022</td>\n",
       "      <td>-0.340659</td>\n",
       "      <td>-0.406593</td>\n",
       "      <td>0.375317</td>\n",
       "      <td>-0.208791</td>\n",
       "      <td>-0.274630</td>\n",
       "    </tr>\n",
       "    <tr>\n",
       "      <th>2022/12/30</th>\n",
       "      <td>1.119995</td>\n",
       "      <td>1.119995</td>\n",
       "      <td>0.440152</td>\n",
       "      <td>-1.119995</td>\n",
       "      <td>0.802198</td>\n",
       "      <td>-0.020725</td>\n",
       "      <td>-0.040726</td>\n",
       "      <td>0.242857</td>\n",
       "      <td>-0.499457</td>\n",
       "      <td>0.857143</td>\n",
       "      <td>...</td>\n",
       "      <td>-0.072800</td>\n",
       "      <td>0.012542</td>\n",
       "      <td>0.787948</td>\n",
       "      <td>-0.355030</td>\n",
       "      <td>-0.500439</td>\n",
       "      <td>-0.318681</td>\n",
       "      <td>-0.824176</td>\n",
       "      <td>0.461538</td>\n",
       "      <td>-0.307692</td>\n",
       "      <td>-0.338290</td>\n",
       "    </tr>\n",
       "  </tbody>\n",
       "</table>\n",
       "<p>44044 rows × 27 columns</p>\n",
       "</div>"
      ],
      "text/plain": [
       "                         a51        a49      a101        a12       a10  \\\n",
       "ticker Date                                                              \n",
       "AAPL   2021/02/01  -1.000000  -1.000000  0.087620   2.179993  0.593407   \n",
       "       2021/02/02  -1.000000  -1.000000 -0.435033   0.850006  0.670330   \n",
       "       2021/02/03   1.050003   1.050003 -0.842198   1.050003  0.494505   \n",
       "       2021/02/04  -3.449997  -3.449997  0.387761   3.449997  0.285714   \n",
       "       2021/02/05   0.630005   0.630005 -0.377971  -0.630005  0.681319   \n",
       "...                      ...        ...       ...        ...       ...   \n",
       "ZBRA   2022/12/23  -0.710007  -0.710007  0.310431   0.710007  0.263736   \n",
       "       2022/12/27  -2.779999  -2.779999  0.245864  -2.779999  0.065934   \n",
       "       2022/12/28   4.160004   4.160004 -0.471441  -4.160004  0.857143   \n",
       "       2022/12/29 -10.690002 -10.690002  0.881671 -10.690002  0.109890   \n",
       "       2022/12/30   1.119995   1.119995  0.440152  -1.119995  0.802198   \n",
       "\n",
       "                        a28       a17       a42       a38       a83  ...  \\\n",
       "ticker Date                                                          ...   \n",
       "AAPL   2021/02/01       NaN       NaN  1.279070 -0.114479  0.153846  ...   \n",
       "       2021/02/02       NaN       NaN  1.928571 -0.048243  0.967033  ...   \n",
       "       2021/02/03       NaN       NaN  1.225000 -0.084169  0.901099  ...   \n",
       "       2021/02/04       NaN       NaN  0.809524 -0.197802  0.582418  ...   \n",
       "       2021/02/05       NaN       NaN  1.071429 -0.101497  0.934066  ...   \n",
       "...                     ...       ...       ...       ...       ...  ...   \n",
       "ZBRA   2022/12/23 -0.006871 -0.196186  0.414286 -0.289639  0.769231  ...   \n",
       "       2022/12/27 -0.007423 -0.359094  0.142857 -0.701727  0.362637  ...   \n",
       "       2022/12/28  0.017860 -0.022559  1.157143 -0.218814  0.142857  ...   \n",
       "       2022/12/29 -0.034240 -0.776495  0.100000 -0.851950  0.835165  ...   \n",
       "       2022/12/30 -0.020725 -0.040726  0.242857 -0.499457  0.857143  ...   \n",
       "\n",
       "                        a47       a60        a5       a45       a30       a13  \\\n",
       "ticker Date                                                                     \n",
       "AAPL   2021/02/01       NaN -0.026039  0.192127       NaN       NaN -0.296703   \n",
       "       2021/02/02  0.164961  0.012303  0.033209       NaN -0.635541 -0.626374   \n",
       "       2021/02/03  0.136848  0.011108  0.051926       NaN -1.263845 -0.813187   \n",
       "       2021/02/04 -0.041331 -0.034042  0.147084       NaN  0.012221 -0.813187   \n",
       "       2021/02/05 -0.041274 -0.036550  0.085135       NaN  0.596115 -0.780220   \n",
       "...                     ...       ...       ...       ...       ...       ...   \n",
       "ZBRA   2022/12/23  0.014688  0.001672  0.220626  0.693153  0.009258 -0.824176   \n",
       "       2022/12/27 -0.019076 -0.016603  0.386185 -0.109890 -0.046731 -0.494505   \n",
       "       2022/12/28 -0.004370 -0.029742  0.099626 -0.752325  0.001790 -0.428571   \n",
       "       2022/12/29 -0.085570  0.006211  0.831421 -0.059172 -0.098022 -0.340659   \n",
       "       2022/12/30 -0.072800  0.012542  0.787948 -0.355030 -0.500439 -0.318681   \n",
       "\n",
       "                         a8       a11       a16       a55  \n",
       "ticker Date                                                \n",
       "AAPL   2021/02/01 -0.208791  0.061345 -0.252747  0.466738  \n",
       "       2021/02/02 -0.186813  0.015699 -0.620879 -0.096671  \n",
       "       2021/02/03 -0.175824  0.013404 -0.840659 -0.271075  \n",
       "       2021/02/04 -0.208791  0.023910 -0.758242 -0.487398  \n",
       "       2021/02/05 -0.142857  0.070161 -0.681319 -0.318052  \n",
       "...                     ...       ...       ...       ...  \n",
       "ZBRA   2022/12/23 -0.912088  0.262046 -0.406593 -0.402229  \n",
       "       2022/12/27 -0.945055  0.113996 -0.412088 -0.396350  \n",
       "       2022/12/28 -0.274725  0.912933 -0.351648  0.324595  \n",
       "       2022/12/29 -0.406593  0.375317 -0.208791 -0.274630  \n",
       "       2022/12/30 -0.824176  0.461538 -0.307692 -0.338290  \n",
       "\n",
       "[44044 rows x 27 columns]"
      ]
     },
     "execution_count": 129,
     "metadata": {},
     "output_type": "execute_result"
    }
   ],
   "source": [
    "result"
   ]
  },
  {
   "cell_type": "code",
   "execution_count": 130,
   "id": "e4865ad2",
   "metadata": {},
   "outputs": [
    {
     "data": {
      "text/plain": [
       "455"
      ]
     },
     "execution_count": 130,
     "metadata": {},
     "output_type": "execute_result"
    }
   ],
   "source": [
    "result['a28'].isna().sum()"
   ]
  },
  {
   "cell_type": "code",
   "execution_count": 131,
   "id": "02810da0",
   "metadata": {},
   "outputs": [],
   "source": [
    "alpha=result.groupby('ticker').transform(lambda x: x.fillna(x.mean()))"
   ]
  },
  {
   "cell_type": "code",
   "execution_count": 132,
   "id": "12070562",
   "metadata": {},
   "outputs": [
    {
     "data": {
      "text/html": [
       "<div>\n",
       "<style scoped>\n",
       "    .dataframe tbody tr th:only-of-type {\n",
       "        vertical-align: middle;\n",
       "    }\n",
       "\n",
       "    .dataframe tbody tr th {\n",
       "        vertical-align: top;\n",
       "    }\n",
       "\n",
       "    .dataframe thead th {\n",
       "        text-align: right;\n",
       "    }\n",
       "</style>\n",
       "<table border=\"1\" class=\"dataframe\">\n",
       "  <thead>\n",
       "    <tr style=\"text-align: right;\">\n",
       "      <th></th>\n",
       "      <th></th>\n",
       "      <th>a51</th>\n",
       "      <th>a49</th>\n",
       "      <th>a101</th>\n",
       "      <th>a12</th>\n",
       "      <th>a10</th>\n",
       "      <th>a28</th>\n",
       "      <th>a17</th>\n",
       "      <th>a42</th>\n",
       "      <th>a38</th>\n",
       "      <th>a83</th>\n",
       "      <th>...</th>\n",
       "      <th>a47</th>\n",
       "      <th>a60</th>\n",
       "      <th>a5</th>\n",
       "      <th>a45</th>\n",
       "      <th>a30</th>\n",
       "      <th>a13</th>\n",
       "      <th>a8</th>\n",
       "      <th>a11</th>\n",
       "      <th>a16</th>\n",
       "      <th>a55</th>\n",
       "    </tr>\n",
       "    <tr>\n",
       "      <th>ticker</th>\n",
       "      <th>Date</th>\n",
       "      <th></th>\n",
       "      <th></th>\n",
       "      <th></th>\n",
       "      <th></th>\n",
       "      <th></th>\n",
       "      <th></th>\n",
       "      <th></th>\n",
       "      <th></th>\n",
       "      <th></th>\n",
       "      <th></th>\n",
       "      <th></th>\n",
       "      <th></th>\n",
       "      <th></th>\n",
       "      <th></th>\n",
       "      <th></th>\n",
       "      <th></th>\n",
       "      <th></th>\n",
       "      <th></th>\n",
       "      <th></th>\n",
       "      <th></th>\n",
       "      <th></th>\n",
       "    </tr>\n",
       "  </thead>\n",
       "  <tbody>\n",
       "    <tr>\n",
       "      <th rowspan=\"5\" valign=\"top\">AAPL</th>\n",
       "      <th>2021/02/01</th>\n",
       "      <td>-0.350905</td>\n",
       "      <td>-0.350905</td>\n",
       "      <td>0.094158</td>\n",
       "      <td>0.652992</td>\n",
       "      <td>0.391199</td>\n",
       "      <td>-2.951353e-17</td>\n",
       "      <td>-5.856407e-16</td>\n",
       "      <td>0.689784</td>\n",
       "      <td>0.742978</td>\n",
       "      <td>-1.150895</td>\n",
       "      <td>...</td>\n",
       "      <td>2.520799e-16</td>\n",
       "      <td>-0.681790</td>\n",
       "      <td>-0.418277</td>\n",
       "      <td>-7.683592e-17</td>\n",
       "      <td>-2.200849e-17</td>\n",
       "      <td>1.247913</td>\n",
       "      <td>1.367771</td>\n",
       "      <td>-0.822079</td>\n",
       "      <td>1.223905</td>\n",
       "      <td>1.062330</td>\n",
       "    </tr>\n",
       "    <tr>\n",
       "      <th>2021/02/02</th>\n",
       "      <td>-0.350905</td>\n",
       "      <td>-0.350905</td>\n",
       "      <td>-0.848727</td>\n",
       "      <td>0.186552</td>\n",
       "      <td>0.758392</td>\n",
       "      <td>-2.951353e-17</td>\n",
       "      <td>-5.856407e-16</td>\n",
       "      <td>2.295837</td>\n",
       "      <td>1.076694</td>\n",
       "      <td>1.554392</td>\n",
       "      <td>...</td>\n",
       "      <td>1.200280e+00</td>\n",
       "      <td>1.165857</td>\n",
       "      <td>-1.446931</td>\n",
       "      <td>-7.683592e-17</td>\n",
       "      <td>-1.824217e-01</td>\n",
       "      <td>-0.548785</td>\n",
       "      <td>1.470114</td>\n",
       "      <td>-0.914457</td>\n",
       "      <td>-0.744590</td>\n",
       "      <td>-0.196074</td>\n",
       "    </tr>\n",
       "    <tr>\n",
       "      <th>2021/02/03</th>\n",
       "      <td>0.363932</td>\n",
       "      <td>0.363932</td>\n",
       "      <td>-1.583264</td>\n",
       "      <td>0.256693</td>\n",
       "      <td>-0.080906</td>\n",
       "      <td>-2.951353e-17</td>\n",
       "      <td>-5.856407e-16</td>\n",
       "      <td>0.556083</td>\n",
       "      <td>0.895690</td>\n",
       "      <td>1.335044</td>\n",
       "      <td>...</td>\n",
       "      <td>1.030061e+00</td>\n",
       "      <td>1.108298</td>\n",
       "      <td>-1.325775</td>\n",
       "      <td>-7.683592e-17</td>\n",
       "      <td>-3.484907e-01</td>\n",
       "      <td>-1.566913</td>\n",
       "      <td>1.521285</td>\n",
       "      <td>-0.919100</td>\n",
       "      <td>-1.919810</td>\n",
       "      <td>-0.585615</td>\n",
       "    </tr>\n",
       "    <tr>\n",
       "      <th>2021/02/04</th>\n",
       "      <td>-1.205221</td>\n",
       "      <td>-1.205221</td>\n",
       "      <td>0.635622</td>\n",
       "      <td>1.098395</td>\n",
       "      <td>-1.077572</td>\n",
       "      <td>-2.951353e-17</td>\n",
       "      <td>-5.856407e-16</td>\n",
       "      <td>-0.471284</td>\n",
       "      <td>0.323171</td>\n",
       "      <td>0.274864</td>\n",
       "      <td>...</td>\n",
       "      <td>-4.876862e-02</td>\n",
       "      <td>-1.067436</td>\n",
       "      <td>-0.709833</td>\n",
       "      <td>-7.683592e-17</td>\n",
       "      <td>-1.120961e-02</td>\n",
       "      <td>-1.566913</td>\n",
       "      <td>1.367771</td>\n",
       "      <td>-0.897839</td>\n",
       "      <td>-1.479102</td>\n",
       "      <td>-1.068783</td>\n",
       "    </tr>\n",
       "    <tr>\n",
       "      <th>2021/02/05</th>\n",
       "      <td>0.217479</td>\n",
       "      <td>0.217479</td>\n",
       "      <td>-0.745784</td>\n",
       "      <td>-0.332502</td>\n",
       "      <td>0.810848</td>\n",
       "      <td>-2.951353e-17</td>\n",
       "      <td>-5.856407e-16</td>\n",
       "      <td>0.176340</td>\n",
       "      <td>0.808383</td>\n",
       "      <td>1.444718</td>\n",
       "      <td>...</td>\n",
       "      <td>-4.842722e-02</td>\n",
       "      <td>-1.188310</td>\n",
       "      <td>-1.110820</td>\n",
       "      <td>-7.683592e-17</td>\n",
       "      <td>1.431212e-01</td>\n",
       "      <td>-1.387244</td>\n",
       "      <td>1.674798</td>\n",
       "      <td>-0.804239</td>\n",
       "      <td>-1.067775</td>\n",
       "      <td>-0.690540</td>\n",
       "    </tr>\n",
       "    <tr>\n",
       "      <th>...</th>\n",
       "      <th>...</th>\n",
       "      <td>...</td>\n",
       "      <td>...</td>\n",
       "      <td>...</td>\n",
       "      <td>...</td>\n",
       "      <td>...</td>\n",
       "      <td>...</td>\n",
       "      <td>...</td>\n",
       "      <td>...</td>\n",
       "      <td>...</td>\n",
       "      <td>...</td>\n",
       "      <td>...</td>\n",
       "      <td>...</td>\n",
       "      <td>...</td>\n",
       "      <td>...</td>\n",
       "      <td>...</td>\n",
       "      <td>...</td>\n",
       "      <td>...</td>\n",
       "      <td>...</td>\n",
       "      <td>...</td>\n",
       "      <td>...</td>\n",
       "      <td>...</td>\n",
       "    </tr>\n",
       "    <tr>\n",
       "      <th rowspan=\"5\" valign=\"top\">ZBRA</th>\n",
       "      <th>2022/12/23</th>\n",
       "      <td>-0.105258</td>\n",
       "      <td>-0.105258</td>\n",
       "      <td>0.574980</td>\n",
       "      <td>0.038514</td>\n",
       "      <td>-0.779260</td>\n",
       "      <td>-2.445667e-01</td>\n",
       "      <td>-4.517829e-01</td>\n",
       "      <td>-0.433624</td>\n",
       "      <td>-0.304386</td>\n",
       "      <td>1.013050</td>\n",
       "      <td>...</td>\n",
       "      <td>-4.449050e-01</td>\n",
       "      <td>1.004733</td>\n",
       "      <td>-0.091802</td>\n",
       "      <td>1.237499e+00</td>\n",
       "      <td>-1.159585e-02</td>\n",
       "      <td>-1.594089</td>\n",
       "      <td>-1.045035</td>\n",
       "      <td>-0.843067</td>\n",
       "      <td>0.334676</td>\n",
       "      <td>-1.094533</td>\n",
       "    </tr>\n",
       "    <tr>\n",
       "      <th>2022/12/27</th>\n",
       "      <td>-0.320287</td>\n",
       "      <td>-0.320287</td>\n",
       "      <td>0.458986</td>\n",
       "      <td>-0.323464</td>\n",
       "      <td>-1.321158</td>\n",
       "      <td>-2.682931e-01</td>\n",
       "      <td>-1.469818e+00</td>\n",
       "      <td>-1.064582</td>\n",
       "      <td>-2.419566</td>\n",
       "      <td>-0.559839</td>\n",
       "      <td>...</td>\n",
       "      <td>-8.429269e-01</td>\n",
       "      <td>-0.477891</td>\n",
       "      <td>0.450819</td>\n",
       "      <td>-2.267877e-01</td>\n",
       "      <td>-3.139533e-02</td>\n",
       "      <td>0.158878</td>\n",
       "      <td>-1.130043</td>\n",
       "      <td>-1.318860</td>\n",
       "      <td>0.306303</td>\n",
       "      <td>-1.081007</td>\n",
       "    </tr>\n",
       "    <tr>\n",
       "      <th>2022/12/28</th>\n",
       "      <td>0.400635</td>\n",
       "      <td>0.400635</td>\n",
       "      <td>-0.829647</td>\n",
       "      <td>-0.466596</td>\n",
       "      <td>0.846437</td>\n",
       "      <td>8.191404e-01</td>\n",
       "      <td>6.332360e-01</td>\n",
       "      <td>1.293208</td>\n",
       "      <td>0.059146</td>\n",
       "      <td>-1.410049</td>\n",
       "      <td>...</td>\n",
       "      <td>-6.695655e-01</td>\n",
       "      <td>-1.543829</td>\n",
       "      <td>-0.488378</td>\n",
       "      <td>-1.398217e+00</td>\n",
       "      <td>-1.423671e-02</td>\n",
       "      <td>0.509471</td>\n",
       "      <td>0.598451</td>\n",
       "      <td>1.248713</td>\n",
       "      <td>0.618409</td>\n",
       "      <td>0.577730</td>\n",
       "    </tr>\n",
       "    <tr>\n",
       "      <th>2022/12/29</th>\n",
       "      <td>-1.141971</td>\n",
       "      <td>-1.141971</td>\n",
       "      <td>1.601207</td>\n",
       "      <td>-1.143878</td>\n",
       "      <td>-1.200736</td>\n",
       "      <td>-1.421697e+00</td>\n",
       "      <td>-4.078221e+00</td>\n",
       "      <td>-1.164207</td>\n",
       "      <td>-3.190638</td>\n",
       "      <td>1.268113</td>\n",
       "      <td>...</td>\n",
       "      <td>-1.626787e+00</td>\n",
       "      <td>1.372967</td>\n",
       "      <td>1.910078</td>\n",
       "      <td>-1.343065e-01</td>\n",
       "      <td>-4.953364e-02</td>\n",
       "      <td>0.976929</td>\n",
       "      <td>0.258419</td>\n",
       "      <td>-0.479043</td>\n",
       "      <td>1.356115</td>\n",
       "      <td>-0.800956</td>\n",
       "    </tr>\n",
       "    <tr>\n",
       "      <th>2022/12/30</th>\n",
       "      <td>0.084841</td>\n",
       "      <td>0.084841</td>\n",
       "      <td>0.808022</td>\n",
       "      <td>-0.151291</td>\n",
       "      <td>0.695910</td>\n",
       "      <td>-8.404127e-01</td>\n",
       "      <td>5.197087e-01</td>\n",
       "      <td>-0.832124</td>\n",
       "      <td>-1.381346</td>\n",
       "      <td>1.353134</td>\n",
       "      <td>...</td>\n",
       "      <td>-1.476254e+00</td>\n",
       "      <td>1.886555</td>\n",
       "      <td>1.767595</td>\n",
       "      <td>-6.737804e-01</td>\n",
       "      <td>-1.918415e-01</td>\n",
       "      <td>1.093793</td>\n",
       "      <td>-0.818347</td>\n",
       "      <td>-0.201950</td>\n",
       "      <td>0.845396</td>\n",
       "      <td>-0.947423</td>\n",
       "    </tr>\n",
       "  </tbody>\n",
       "</table>\n",
       "<p>44044 rows × 27 columns</p>\n",
       "</div>"
      ],
      "text/plain": [
       "                        a51       a49      a101       a12       a10  \\\n",
       "ticker Date                                                           \n",
       "AAPL   2021/02/01 -0.350905 -0.350905  0.094158  0.652992  0.391199   \n",
       "       2021/02/02 -0.350905 -0.350905 -0.848727  0.186552  0.758392   \n",
       "       2021/02/03  0.363932  0.363932 -1.583264  0.256693 -0.080906   \n",
       "       2021/02/04 -1.205221 -1.205221  0.635622  1.098395 -1.077572   \n",
       "       2021/02/05  0.217479  0.217479 -0.745784 -0.332502  0.810848   \n",
       "...                     ...       ...       ...       ...       ...   \n",
       "ZBRA   2022/12/23 -0.105258 -0.105258  0.574980  0.038514 -0.779260   \n",
       "       2022/12/27 -0.320287 -0.320287  0.458986 -0.323464 -1.321158   \n",
       "       2022/12/28  0.400635  0.400635 -0.829647 -0.466596  0.846437   \n",
       "       2022/12/29 -1.141971 -1.141971  1.601207 -1.143878 -1.200736   \n",
       "       2022/12/30  0.084841  0.084841  0.808022 -0.151291  0.695910   \n",
       "\n",
       "                            a28           a17       a42       a38       a83  \\\n",
       "ticker Date                                                                   \n",
       "AAPL   2021/02/01 -2.951353e-17 -5.856407e-16  0.689784  0.742978 -1.150895   \n",
       "       2021/02/02 -2.951353e-17 -5.856407e-16  2.295837  1.076694  1.554392   \n",
       "       2021/02/03 -2.951353e-17 -5.856407e-16  0.556083  0.895690  1.335044   \n",
       "       2021/02/04 -2.951353e-17 -5.856407e-16 -0.471284  0.323171  0.274864   \n",
       "       2021/02/05 -2.951353e-17 -5.856407e-16  0.176340  0.808383  1.444718   \n",
       "...                         ...           ...       ...       ...       ...   \n",
       "ZBRA   2022/12/23 -2.445667e-01 -4.517829e-01 -0.433624 -0.304386  1.013050   \n",
       "       2022/12/27 -2.682931e-01 -1.469818e+00 -1.064582 -2.419566 -0.559839   \n",
       "       2022/12/28  8.191404e-01  6.332360e-01  1.293208  0.059146 -1.410049   \n",
       "       2022/12/29 -1.421697e+00 -4.078221e+00 -1.164207 -3.190638  1.268113   \n",
       "       2022/12/30 -8.404127e-01  5.197087e-01 -0.832124 -1.381346  1.353134   \n",
       "\n",
       "                   ...           a47       a60        a5           a45  \\\n",
       "ticker Date        ...                                                   \n",
       "AAPL   2021/02/01  ...  2.520799e-16 -0.681790 -0.418277 -7.683592e-17   \n",
       "       2021/02/02  ...  1.200280e+00  1.165857 -1.446931 -7.683592e-17   \n",
       "       2021/02/03  ...  1.030061e+00  1.108298 -1.325775 -7.683592e-17   \n",
       "       2021/02/04  ... -4.876862e-02 -1.067436 -0.709833 -7.683592e-17   \n",
       "       2021/02/05  ... -4.842722e-02 -1.188310 -1.110820 -7.683592e-17   \n",
       "...                ...           ...       ...       ...           ...   \n",
       "ZBRA   2022/12/23  ... -4.449050e-01  1.004733 -0.091802  1.237499e+00   \n",
       "       2022/12/27  ... -8.429269e-01 -0.477891  0.450819 -2.267877e-01   \n",
       "       2022/12/28  ... -6.695655e-01 -1.543829 -0.488378 -1.398217e+00   \n",
       "       2022/12/29  ... -1.626787e+00  1.372967  1.910078 -1.343065e-01   \n",
       "       2022/12/30  ... -1.476254e+00  1.886555  1.767595 -6.737804e-01   \n",
       "\n",
       "                            a30       a13        a8       a11       a16  \\\n",
       "ticker Date                                                               \n",
       "AAPL   2021/02/01 -2.200849e-17  1.247913  1.367771 -0.822079  1.223905   \n",
       "       2021/02/02 -1.824217e-01 -0.548785  1.470114 -0.914457 -0.744590   \n",
       "       2021/02/03 -3.484907e-01 -1.566913  1.521285 -0.919100 -1.919810   \n",
       "       2021/02/04 -1.120961e-02 -1.566913  1.367771 -0.897839 -1.479102   \n",
       "       2021/02/05  1.431212e-01 -1.387244  1.674798 -0.804239 -1.067775   \n",
       "...                         ...       ...       ...       ...       ...   \n",
       "ZBRA   2022/12/23 -1.159585e-02 -1.594089 -1.045035 -0.843067  0.334676   \n",
       "       2022/12/27 -3.139533e-02  0.158878 -1.130043 -1.318860  0.306303   \n",
       "       2022/12/28 -1.423671e-02  0.509471  0.598451  1.248713  0.618409   \n",
       "       2022/12/29 -4.953364e-02  0.976929  0.258419 -0.479043  1.356115   \n",
       "       2022/12/30 -1.918415e-01  1.093793 -0.818347 -0.201950  0.845396   \n",
       "\n",
       "                        a55  \n",
       "ticker Date                  \n",
       "AAPL   2021/02/01  1.062330  \n",
       "       2021/02/02 -0.196074  \n",
       "       2021/02/03 -0.585615  \n",
       "       2021/02/04 -1.068783  \n",
       "       2021/02/05 -0.690540  \n",
       "...                     ...  \n",
       "ZBRA   2022/12/23 -1.094533  \n",
       "       2022/12/27 -1.081007  \n",
       "       2022/12/28  0.577730  \n",
       "       2022/12/29 -0.800956  \n",
       "       2022/12/30 -0.947423  \n",
       "\n",
       "[44044 rows x 27 columns]"
      ]
     },
     "execution_count": 132,
     "metadata": {},
     "output_type": "execute_result"
    }
   ],
   "source": [
    "from sklearn.preprocessing import scale\n",
    "alpha_nor=alpha.groupby('ticker').transform(lambda x: scale(x))\n",
    "alpha_nor"
   ]
  },
  {
   "cell_type": "code",
   "execution_count": null,
   "id": "ca10bccc",
   "metadata": {},
   "outputs": [],
   "source": []
  },
  {
   "cell_type": "code",
   "execution_count": null,
   "id": "6c6bea9e",
   "metadata": {},
   "outputs": [],
   "source": []
  },
  {
   "cell_type": "code",
   "execution_count": 133,
   "id": "86acf851",
   "metadata": {},
   "outputs": [],
   "source": [
    "alpha_nor.to_csv('backtesting alpha.csv')"
   ]
  },
  {
   "cell_type": "code",
   "execution_count": null,
   "id": "26a9a6dc",
   "metadata": {},
   "outputs": [],
   "source": []
  }
 ],
 "metadata": {
  "kernelspec": {
   "display_name": "Python 3 (ipykernel)",
   "language": "python",
   "name": "python3"
  },
  "language_info": {
   "codemirror_mode": {
    "name": "ipython",
    "version": 3
   },
   "file_extension": ".py",
   "mimetype": "text/x-python",
   "name": "python",
   "nbconvert_exporter": "python",
   "pygments_lexer": "ipython3",
   "version": "3.9.7"
  }
 },
 "nbformat": 4,
 "nbformat_minor": 5
}
