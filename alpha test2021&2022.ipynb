{
 "cells": [
  {
   "cell_type": "code",
   "execution_count": 1,
   "id": "35efd16b",
   "metadata": {},
   "outputs": [],
   "source": [
    "import yfinance as yf\n",
    "import pandas as pd\n",
    "import numpy as np\n",
    "\n",
    "from sklearn.feature_selection import mutual_info_regression\n",
    "from scipy.stats import spearmanr\n",
    "import matplotlib.pyplot as plt\n",
    "import seaborn as sns"
   ]
  },
  {
   "cell_type": "code",
   "execution_count": 2,
   "id": "b6c40c72",
   "metadata": {},
   "outputs": [],
   "source": [
    "nasdaq_100_tickers = [\"AAPL\", \"MSFT\", \"AMZN\", \"GOOGL\", \"GOOG\", \"TSLA\", \"META\", \"NVDA\", \"PYPL\", \"NFLX\",\n",
    "    \"ASML\", \"ADBE\", \"INTC\", \"CMCSA\", \"CSCO\", \"PEP\", \"AVGO\", \"TMUS\", \"COST\",\n",
    "    \"TXN\", \"QCOM\", \"AMAT\", \"MU\", \"AMGN\", \"INTU\", \"ISRG\", \"CSX\", \"VRTX\",\n",
    "    \"JD\", \"GILD\", \"BIDU\", \"MRVL\", \"REGN\", \"MDLZ\", \"ADSK\", \"ATVI\", \"BIIB\", \"ILMN\",\n",
    "    \"LRCX\", \"ADP\", \"BKNG\", \"MELI\", \"KLAC\", \"NXPI\", \"MNST\", \"WDAY\", \"ROST\",\n",
    "    \"KDP\", \"EA\", \"ALGN\", \"ADI\", \"IDXX\", \"DXCM\", \"XEL\", \"CTAS\", \"EXC\", \"MAR\",\n",
    "    \"SNPS\", \"CDNS\", \"CPRT\", \"SGEN\", \"SPLK\", \"ORLY\", \"DLTR\", \"MTCH\",\n",
    "    \"MCHP\", \"INCY\", \"PCAR\", \"CTSH\", \"FAST\", \"VRSK\", \"CHKP\", \"ANSS\",\n",
    "    \"SWKS\", \"CDW\", \"TEAM\", \"WBA\", \"LULU\", \"PAYX\",\n",
    "    \"VRSN\", \"AEP\", \"ZBRA\", \"TCOM\", \"NTES\", \"BMRN\", \"ULTA\", \"EXPE\",\n",
    "    \"CSGP\", \"SIRI\", \"EBAY\", \"WDC\"\n",
    "    ]\n",
    "\n",
    "end_date = '2021-12-31'\n",
    "start_date = '2020-1-1'\n",
    "\n",
    "nasdaq_20_tickers=nasdaq_100_tickers[:20]"
   ]
  },
  {
   "cell_type": "code",
   "execution_count": 3,
   "id": "53926d30",
   "metadata": {},
   "outputs": [
    {
     "data": {
      "text/plain": [
       "91"
      ]
     },
     "execution_count": 3,
     "metadata": {},
     "output_type": "execute_result"
    }
   ],
   "source": [
    "len([\"AAPL\", \"MSFT\", \"AMZN\", \"GOOGL\", \"GOOG\", \"TSLA\", \"META\", \"NVDA\", \"PYPL\", \"NFLX\",\n",
    "    \"ASML\", \"ADBE\", \"INTC\", \"CMCSA\", \"CSCO\", \"PEP\", \"AVGO\", \"TMUS\", \"COST\",\n",
    "    \"TXN\", \"QCOM\", \"AMAT\", \"MU\", \"AMGN\", \"INTU\", \"ISRG\", \"CSX\", \"VRTX\",\n",
    "    \"JD\", \"GILD\", \"BIDU\", \"MRVL\", \"REGN\", \"MDLZ\", \"ADSK\", \"ATVI\", \"BIIB\", \"ILMN\",\n",
    "    \"LRCX\", \"ADP\", \"BKNG\", \"MELI\", \"KLAC\", \"NXPI\", \"MNST\", \"WDAY\", \"ROST\",\n",
    "    \"KDP\", \"EA\", \"ALGN\", \"ADI\", \"IDXX\", \"DXCM\", \"XEL\", \"CTAS\", \"EXC\", \"MAR\",\n",
    "    \"SNPS\", \"CDNS\", \"CPRT\", \"SGEN\", \"SPLK\", \"ORLY\", \"DLTR\", \"MTCH\",\n",
    "    \"MCHP\", \"INCY\", \"PCAR\", \"CTSH\", \"FAST\", \"VRSK\", \"CHKP\", \"ANSS\",\n",
    "    \"SWKS\", \"CDW\", \"TEAM\", \"WBA\", \"LULU\", \"PAYX\",\n",
    "    \"VRSN\", \"AEP\", \"ZBRA\", \"TCOM\", \"NTES\", \"BMRN\", \"ULTA\", \"EXPE\",\n",
    "    \"CSGP\", \"SIRI\", \"EBAY\", \"WDC\"\n",
    "    ])"
   ]
  },
  {
   "cell_type": "markdown",
   "id": "d862ee7d",
   "metadata": {},
   "source": [
    "## \"AAPL\"\n",
    "ticker = \"AAPL\"\n",
    "AAPL_data = yf.download(ticker, start=start_date, end=end_date, progress=False)\n",
    "AAPL_data.index = AAPL_data.index.strftime('%Y/%m/%d')\n",
    "AAPL_data['returns']=AAPL_data['Close']-AAPL_data['Close'].shift(1)\n",
    "AAPL_data['ret_fwd']=AAPL_data['Close'].pct_change().dropna()\n",
    "#AAPL_data['returns'] = (AAPL_data['Close']-AAPL_data['Close'].shift(1)) / AAPL_data['Close'].shift(1)\n",
    "AAPL_data=AAPL_data.dropna()\n",
    "AAPL_data=pd.concat({'AAPL': AAPL_data}, names=['ticker'])"
   ]
  },
  {
   "cell_type": "markdown",
   "id": "8e179457",
   "metadata": {},
   "source": [
    "data=AAPL_data"
   ]
  },
  {
   "cell_type": "markdown",
   "id": "adba3f59",
   "metadata": {},
   "source": [
    "for ticker in nasdaq_100_tickers[1:]:\n",
    "    df = yf.download(ticker, start=start_date, end=end_date, progress=False)\n",
    "    df.index = df.index.strftime('%Y/%m/%d')\n",
    "    df['ret_fwd'] = df['Close'].pct_change().dropna()\n",
    "    df['returns'] = df['Close']-df['Close'].shift(1)\n",
    "    df=df.dropna()\n",
    "    df=pd.concat({ticker: df}, names=['ticker'])\n",
    "    data=pd.concat([data, df], axis=0)"
   ]
  },
  {
   "cell_type": "markdown",
   "id": "3d38f149",
   "metadata": {},
   "source": [
    "data.to_csv('testing_full2021&2022_data.csv')"
   ]
  },
  {
   "cell_type": "code",
   "execution_count": null,
   "id": "c51f96dd",
   "metadata": {},
   "outputs": [],
   "source": []
  },
  {
   "cell_type": "code",
   "execution_count": null,
   "id": "0aa6dbad",
   "metadata": {},
   "outputs": [],
   "source": []
  },
  {
   "cell_type": "markdown",
   "id": "66d2dfbd",
   "metadata": {},
   "source": [
    "# import data"
   ]
  },
  {
   "cell_type": "code",
   "execution_count": 4,
   "id": "0d2b88ec",
   "metadata": {},
   "outputs": [],
   "source": [
    "data=pd.read_csv('testing_full2021&2022_data.csv', header=0)\n",
    "data=data.set_index(['ticker', 'Date'])"
   ]
  },
  {
   "cell_type": "code",
   "execution_count": 5,
   "id": "e63bec00",
   "metadata": {},
   "outputs": [],
   "source": [
    "o = data.Open.unstack('ticker')\n",
    "h = data.High.unstack('ticker')\n",
    "l = data.Low.unstack('ticker')\n",
    "c = data.Close.unstack('ticker')\n",
    "v = data.Volume.unstack('ticker')\n",
    "vwap = o.add(h).add(l).add(c).div(4)\n",
    "adv20 = v.rolling(20).mean()\n",
    "r = data.returns.unstack('ticker')"
   ]
  },
  {
   "cell_type": "code",
   "execution_count": 6,
   "id": "3a7e49a4",
   "metadata": {},
   "outputs": [
    {
     "data": {
      "text/plain": [
       "ticker  Date      \n",
       "AAPL    2021/01/05    0.012364\n",
       "        2021/01/06   -0.033662\n",
       "        2021/01/07    0.034123\n",
       "        2021/01/08    0.008631\n",
       "        2021/01/11   -0.023249\n",
       "                        ...   \n",
       "WDC     2022/12/23   -0.001632\n",
       "        2022/12/27    0.018960\n",
       "        2022/12/28   -0.030799\n",
       "        2022/12/29    0.045018\n",
       "        2022/12/30   -0.000634\n",
       "Name: ret_fwd, Length: 45682, dtype: float64"
      ]
     },
     "execution_count": 6,
     "metadata": {},
     "output_type": "execute_result"
    }
   ],
   "source": [
    "ret_fwd=data.ret_fwd\n",
    "ret_fwd"
   ]
  },
  {
   "cell_type": "code",
   "execution_count": null,
   "id": "1827cd54",
   "metadata": {},
   "outputs": [],
   "source": []
  },
  {
   "cell_type": "markdown",
   "id": "edafc90c",
   "metadata": {},
   "source": [
    "## cross section"
   ]
  },
  {
   "cell_type": "code",
   "execution_count": 7,
   "id": "1c65f51c",
   "metadata": {},
   "outputs": [],
   "source": [
    "def rank(df):\n",
    "    \"\"\"Return the cross-sectional percentile rank\n",
    "\n",
    "     Args:\n",
    "         :param df: tickers in columns, sorted dates in rows.\n",
    "\n",
    "     Returns:\n",
    "         pd.DataFrame: the ranked values\n",
    "     \"\"\"\n",
    "    return df.rank(axis=1, pct=True)"
   ]
  },
  {
   "cell_type": "code",
   "execution_count": 8,
   "id": "0819ffc0",
   "metadata": {},
   "outputs": [],
   "source": [
    "def scale(df):\n",
    "    \"\"\"\n",
    "    Scaling time serie.\n",
    "    :param df: a pandas DataFrame.\n",
    "    :param k: scaling factor.\n",
    "    :return: a pandas DataFrame rescaled df such that sum(abs(df)) = k\n",
    "    \"\"\"\n",
    "    return df.div(df.abs().sum(axis=1), axis=0)"
   ]
  },
  {
   "cell_type": "markdown",
   "id": "23fee97e",
   "metadata": {},
   "source": [
    "## operators"
   ]
  },
  {
   "cell_type": "code",
   "execution_count": 9,
   "id": "1b79b4f5",
   "metadata": {},
   "outputs": [],
   "source": [
    "def log(df):\n",
    "    return np.log1p(df)"
   ]
  },
  {
   "cell_type": "code",
   "execution_count": 10,
   "id": "374b7501",
   "metadata": {},
   "outputs": [],
   "source": [
    "def sign(df):\n",
    "    return np.sign(df)"
   ]
  },
  {
   "cell_type": "code",
   "execution_count": 11,
   "id": "cfbb9fb4",
   "metadata": {},
   "outputs": [],
   "source": [
    "def power(df, exp):\n",
    "    return df.pow(exp)"
   ]
  },
  {
   "cell_type": "code",
   "execution_count": null,
   "id": "876ae595",
   "metadata": {},
   "outputs": [],
   "source": []
  },
  {
   "cell_type": "code",
   "execution_count": 12,
   "id": "abba4ec2",
   "metadata": {},
   "outputs": [],
   "source": [
    "def WMA(x, timeperiod=7):\n",
    "    weights = np.arange(1, timeperiod + 1)\n",
    "    return np.dot(x, weights) / weights.sum()\n",
    "    \n",
    "    "
   ]
  },
  {
   "cell_type": "markdown",
   "id": "b2e37a58",
   "metadata": {},
   "source": [
    "## pandas implementation"
   ]
  },
  {
   "cell_type": "code",
   "execution_count": 13,
   "id": "c151b5e7",
   "metadata": {},
   "outputs": [],
   "source": [
    "def ts_lag(df: pd.DataFrame, t: int = 1) -> pd.DataFrame:\n",
    "    \"\"\"Return the lagged values t periods ago.\n",
    "\n",
    "    Args:\n",
    "        :param df: tickers in columns, sorted dates in rows.\n",
    "        :param t: lag\n",
    "\n",
    "    Returns:\n",
    "        pd.DataFrame: the lagged values\n",
    "    \"\"\"\n",
    "    return df.shift(t)"
   ]
  },
  {
   "cell_type": "code",
   "execution_count": 14,
   "id": "c7ea1b46",
   "metadata": {},
   "outputs": [],
   "source": [
    "def ts_delta(df, period=1):\n",
    "    \"\"\"\n",
    "    Wrapper function to estimate difference.\n",
    "    :param df: a pandas DataFrame.\n",
    "    :param period: the difference grade.\n",
    "    :return: a pandas DataFrame with today’s value minus the value 'period' days ago.\n",
    "    \"\"\"\n",
    "    return df.diff(period)"
   ]
  },
  {
   "cell_type": "code",
   "execution_count": 15,
   "id": "df00524c",
   "metadata": {},
   "outputs": [],
   "source": [
    "def ts_corr(x, y, window=10):\n",
    "    \"\"\"\n",
    "    Wrapper function to estimate rolling correlations.\n",
    "    :param x, y: pandas DataFrames.\n",
    "    :param window: the rolling window.\n",
    "    :return: a pandas DataFrame with the time-series min over the past 'window' days.\n",
    "    \"\"\"\n",
    "    return x.rolling(window).corr(y)"
   ]
  },
  {
   "cell_type": "code",
   "execution_count": 16,
   "id": "e9e19383",
   "metadata": {},
   "outputs": [],
   "source": [
    "def ts_sum(df: pd.DataFrame, window: int = 10) -> pd.DataFrame:\n",
    "    \"\"\"Computes the rolling ts_sum for the given window size.\n",
    "\n",
    "    Args:\n",
    "        df (pd.DataFrame): tickers in columns, dates in rows.\n",
    "        window      (int): size of rolling window.\n",
    "\n",
    "    Returns:\n",
    "        pd.DataFrame: the ts_sum over the last 'window' days.\n",
    "    \"\"\"\n",
    "    return df.rolling(window).sum()"
   ]
  },
  {
   "cell_type": "code",
   "execution_count": 17,
   "id": "c20ce021",
   "metadata": {},
   "outputs": [],
   "source": [
    "def ts_mean(df, window=10):\n",
    "    \"\"\"Computes the rolling mean for the given window size.\n",
    "\n",
    "    Args:\n",
    "        df (pd.DataFrame): tickers in columns, dates in rows.\n",
    "        window      (int): size of rolling window.\n",
    "\n",
    "    Returns:\n",
    "        pd.DataFrame: the mean over the last 'window' days.\n",
    "    \"\"\"\n",
    "    return df.rolling(window).mean()"
   ]
  },
  {
   "cell_type": "code",
   "execution_count": 18,
   "id": "fdbc5cc6",
   "metadata": {},
   "outputs": [],
   "source": [
    "def ts_weighted_mean(df, period=10):\n",
    "    \"\"\"\n",
    "    Linear weighted moving average implementation.\n",
    "    :param df: a pandas DataFrame.\n",
    "    :param period: the LWMA period\n",
    "    :return: a pandas DataFrame with the LWMA.\n",
    "    \"\"\"\n",
    "    return (df.apply(lambda x: WMA(x, timeperiod=period)))"
   ]
  },
  {
   "cell_type": "code",
   "execution_count": 19,
   "id": "ff3e1585",
   "metadata": {},
   "outputs": [],
   "source": [
    "def ts_std(df, window=10):\n",
    "    \"\"\"\n",
    "    Wrapper function to estimate rolling standard deviation.\n",
    "    :param df: a pandas DataFrame.\n",
    "    :param window: the rolling window.\n",
    "    :return: a pandas DataFrame with the time-series min over the past 'window' days.\n",
    "    \"\"\"\n",
    "    return (df\n",
    "            .rolling(window)\n",
    "            .std())"
   ]
  },
  {
   "cell_type": "code",
   "execution_count": 20,
   "id": "846ba5b8",
   "metadata": {},
   "outputs": [],
   "source": [
    "def ts_rank(df, window=10):\n",
    "    \"\"\"\n",
    "    Wrapper function to estimate rolling rank.\n",
    "    :param df: a pandas DataFrame.\n",
    "    :param window: the rolling window.\n",
    "    :return: a pandas DataFrame with the time-series rank over the past window days.\n",
    "    \"\"\"\n",
    "    return (df\n",
    "            .rolling(window)\n",
    "            .apply(lambda x: x.rank().iloc[-1]))"
   ]
  },
  {
   "cell_type": "code",
   "execution_count": 21,
   "id": "4b4fe82f",
   "metadata": {},
   "outputs": [],
   "source": [
    "def ts_product(df, window=10):\n",
    "    \"\"\"\n",
    "    Wrapper function to estimate rolling ts_product.\n",
    "    :param df: a pandas DataFrame.\n",
    "    :param window: the rolling window.\n",
    "    :return: a pandas DataFrame with the time-series ts_product over the past 'window' days.\n",
    "    \"\"\"\n",
    "    return (df\n",
    "            .rolling(window)\n",
    "            .apply(np.prod))"
   ]
  },
  {
   "cell_type": "code",
   "execution_count": 22,
   "id": "d17fea09",
   "metadata": {},
   "outputs": [],
   "source": [
    "def ts_min(df, window=10):\n",
    "    \"\"\"\n",
    "    Wrapper function to estimate rolling min.\n",
    "    :param df: a pandas DataFrame.\n",
    "    :param window: the rolling window.\n",
    "    :return: a pandas DataFrame with the time-series min over the past 'window' days.\n",
    "    \"\"\"\n",
    "    return df.rolling(window).min()"
   ]
  },
  {
   "cell_type": "code",
   "execution_count": 23,
   "id": "798beaa0",
   "metadata": {},
   "outputs": [],
   "source": [
    "def ts_max(df, window=10):\n",
    "    \"\"\"\n",
    "    Wrapper function to estimate rolling min.\n",
    "    :param df: a pandas DataFrame.\n",
    "    :param window: the rolling window.\n",
    "    :return: a pandas DataFrame with the time-series max over the past 'window' days.\n",
    "    \"\"\"\n",
    "    return df.rolling(window).max()"
   ]
  },
  {
   "cell_type": "code",
   "execution_count": 24,
   "id": "bc9d7450",
   "metadata": {},
   "outputs": [],
   "source": [
    "def ts_argmax(df, window=10):\n",
    "    \"\"\"\n",
    "    Wrapper function to estimate which day ts_max(df, window) occurred on\n",
    "    :param df: a pandas DataFrame.\n",
    "    :param window: the rolling window.\n",
    "    :return: well.. that :)\n",
    "    \"\"\"\n",
    "    return df.rolling(window).apply(np.argmax).add(1)"
   ]
  },
  {
   "cell_type": "code",
   "execution_count": 25,
   "id": "16ab498a",
   "metadata": {},
   "outputs": [],
   "source": [
    "def ts_argmin(df, window=10):\n",
    "    \"\"\"\n",
    "    Wrapper function to estimate which day ts_min(df, window) occurred on\n",
    "    :param df: a pandas DataFrame.\n",
    "    :param window: the rolling window.\n",
    "    :return: well.. that :)\n",
    "    \"\"\"\n",
    "    return (df.rolling(window)\n",
    "            .apply(np.argmin)\n",
    "            .add(1))"
   ]
  },
  {
   "cell_type": "code",
   "execution_count": 26,
   "id": "f66ef8ca",
   "metadata": {},
   "outputs": [],
   "source": [
    "def ts_cov(x, y, window=10):\n",
    "    \"\"\"\n",
    "    Wrapper function to estimate rolling covariance.\n",
    "    :param df: a pandas DataFrame.\n",
    "    :param window: the rolling window.\n",
    "    :return: a pandas DataFrame with the time-series min over the past 'window' days.\n",
    "    \"\"\"\n",
    "    return x.rolling(window).cov(y)"
   ]
  },
  {
   "cell_type": "code",
   "execution_count": null,
   "id": "ea2e7205",
   "metadata": {},
   "outputs": [],
   "source": []
  },
  {
   "cell_type": "markdown",
   "id": "ccefb4f8",
   "metadata": {},
   "source": [
    "# evaluation"
   ]
  },
  {
   "cell_type": "code",
   "execution_count": 27,
   "id": "1cec2acf",
   "metadata": {},
   "outputs": [],
   "source": [
    "mi={}\n",
    "ic={}"
   ]
  },
  {
   "cell_type": "code",
   "execution_count": 28,
   "id": "83a142d2",
   "metadata": {},
   "outputs": [],
   "source": [
    "def get_mutual_info_score(returns, alpha, n=1000):\n",
    "    df = pd.DataFrame({'y': returns, 'alpha': alpha}).dropna().sample(n=n)\n",
    "    return mutual_info_regression(y=df.y, X=df[['alpha']])[0]"
   ]
  },
  {
   "cell_type": "code",
   "execution_count": null,
   "id": "de5b7ee6",
   "metadata": {},
   "outputs": [],
   "source": []
  },
  {
   "cell_type": "code",
   "execution_count": null,
   "id": "56ca0d92",
   "metadata": {},
   "outputs": [],
   "source": []
  },
  {
   "cell_type": "code",
   "execution_count": null,
   "id": "090bcef6",
   "metadata": {},
   "outputs": [],
   "source": []
  },
  {
   "cell_type": "markdown",
   "id": "ba4d1ba4",
   "metadata": {},
   "source": [
    "# alpha calculation"
   ]
  },
  {
   "cell_type": "markdown",
   "id": "ad712cdc",
   "metadata": {},
   "source": [
    "alpha 2"
   ]
  },
  {
   "cell_type": "code",
   "execution_count": 29,
   "id": "58f46921",
   "metadata": {},
   "outputs": [],
   "source": [
    "def alpha002(o, c, v):\n",
    "    \"\"\"(-1 * ts_corr(rank(ts_delta(log(volume), 2)), rank(((close - open) / open)), 6))\"\"\"\n",
    "    s1 = rank(ts_delta(log(v), 2))\n",
    "    s2 = rank((c / o) - 1)\n",
    "    alpha = -ts_corr(s1, s2, 6)\n",
    "    return alpha.stack('ticker').swaplevel().replace([-np.inf, np.inf], np.nan)"
   ]
  },
  {
   "cell_type": "code",
   "execution_count": 30,
   "id": "0c961c87",
   "metadata": {},
   "outputs": [
    {
     "data": {
      "text/plain": [
       "ticker  Date      \n",
       "AAPL    2021/01/14   -0.295560\n",
       "ADBE    2021/01/14    0.243782\n",
       "ADI     2021/01/14    0.323731\n",
       "ADP     2021/01/14   -0.398787\n",
       "ADSK    2021/01/14    0.589413\n",
       "                        ...   \n",
       "WBA     2022/12/30   -0.002621\n",
       "WDAY    2022/12/30   -0.237711\n",
       "WDC     2022/12/30   -0.162712\n",
       "XEL     2022/12/30   -0.400529\n",
       "ZBRA    2022/12/30   -0.035782\n",
       "Length: 45045, dtype: float64"
      ]
     },
     "execution_count": 30,
     "metadata": {},
     "output_type": "execute_result"
    }
   ],
   "source": [
    "a2=alpha002(o, c, v)\n",
    "a2"
   ]
  },
  {
   "cell_type": "code",
   "execution_count": 31,
   "id": "ff5a5d64",
   "metadata": {},
   "outputs": [],
   "source": [
    "## evaluation"
   ]
  },
  {
   "cell_type": "code",
   "execution_count": 32,
   "id": "32ec4757",
   "metadata": {},
   "outputs": [
    {
     "data": {
      "text/plain": [
       "0"
      ]
     },
     "execution_count": 32,
     "metadata": {},
     "output_type": "execute_result"
    }
   ],
   "source": [
    "mi[2] = get_mutual_info_score(ret_fwd, a2)\n",
    "mi[2]"
   ]
  },
  {
   "cell_type": "code",
   "execution_count": null,
   "id": "8ff5b88d",
   "metadata": {},
   "outputs": [],
   "source": []
  },
  {
   "cell_type": "code",
   "execution_count": null,
   "id": "4328c4e4",
   "metadata": {},
   "outputs": [],
   "source": []
  },
  {
   "cell_type": "markdown",
   "id": "4c8eaa9d",
   "metadata": {},
   "source": [
    "alpha 3"
   ]
  },
  {
   "cell_type": "code",
   "execution_count": 33,
   "id": "9250fb99",
   "metadata": {},
   "outputs": [],
   "source": [
    "def alpha003(o, v):\n",
    "    \"\"\"(-1 * ts_corr(rank(open), rank(volume), 10))\"\"\"\n",
    "\n",
    "    return (-ts_corr(rank(o), rank(v), 10)\n",
    "            .stack('ticker')\n",
    "            .swaplevel()\n",
    "            .replace([-np.inf, np.inf], np.nan))"
   ]
  },
  {
   "cell_type": "code",
   "execution_count": 34,
   "id": "74b90d5c",
   "metadata": {},
   "outputs": [
    {
     "data": {
      "text/plain": [
       "ticker  Date      \n",
       "AAPL    2021/01/19   -0.212000\n",
       "ADBE    2021/01/19    0.560268\n",
       "ADI     2021/01/19   -0.282825\n",
       "ADP     2021/01/19    0.720350\n",
       "AEP     2021/01/19    0.720434\n",
       "                        ...   \n",
       "WBA     2022/12/30   -0.663979\n",
       "WDAY    2022/12/30   -0.495935\n",
       "WDC     2022/12/30    0.306186\n",
       "XEL     2022/12/30   -0.546563\n",
       "ZBRA    2022/12/30    0.029348\n",
       "Length: 42562, dtype: float64"
      ]
     },
     "execution_count": 34,
     "metadata": {},
     "output_type": "execute_result"
    }
   ],
   "source": [
    "a3=alpha003(o, v)\n",
    "a3"
   ]
  },
  {
   "cell_type": "code",
   "execution_count": 35,
   "id": "73fd06bf",
   "metadata": {},
   "outputs": [
    {
     "data": {
      "text/plain": [
       "0.046468605535713525"
      ]
     },
     "execution_count": 35,
     "metadata": {},
     "output_type": "execute_result"
    }
   ],
   "source": [
    "mi[3] = get_mutual_info_score(ret_fwd, a3)\n",
    "mi[3]"
   ]
  },
  {
   "cell_type": "markdown",
   "id": "ece4acff",
   "metadata": {},
   "source": [
    "alpha 4"
   ]
  },
  {
   "cell_type": "code",
   "execution_count": 36,
   "id": "fd522795",
   "metadata": {},
   "outputs": [],
   "source": [
    "def alpha004(l):\n",
    "    \"\"\"(-1 * Ts_Rank(rank(low), 9))\"\"\"\n",
    "    return (-ts_rank(rank(l), 9)\n",
    "            .stack('ticker')\n",
    "            .swaplevel())"
   ]
  },
  {
   "cell_type": "code",
   "execution_count": 37,
   "id": "cd1cbe0b",
   "metadata": {},
   "outputs": [
    {
     "data": {
      "text/plain": [
       "ticker  Date      \n",
       "AAPL    2021/01/15   -5.0\n",
       "ADBE    2021/01/15   -3.0\n",
       "ADI     2021/01/15   -6.5\n",
       "ADP     2021/01/15   -2.0\n",
       "ADSK    2021/01/15   -5.0\n",
       "                     ... \n",
       "WBA     2022/12/30   -5.0\n",
       "WDAY    2022/12/30   -5.5\n",
       "WDC     2022/12/30   -7.5\n",
       "XEL     2022/12/30   -6.0\n",
       "ZBRA    2022/12/30   -6.0\n",
       "Length: 44954, dtype: float64"
      ]
     },
     "execution_count": 37,
     "metadata": {},
     "output_type": "execute_result"
    }
   ],
   "source": [
    "a4=alpha004(l)\n",
    "a4"
   ]
  },
  {
   "cell_type": "code",
   "execution_count": 38,
   "id": "3c06eb1c",
   "metadata": {},
   "outputs": [
    {
     "data": {
      "text/plain": [
       "0.025738651206837382"
      ]
     },
     "execution_count": 38,
     "metadata": {},
     "output_type": "execute_result"
    }
   ],
   "source": [
    "mi[4] = get_mutual_info_score(ret_fwd, a4)\n",
    "mi[4]"
   ]
  },
  {
   "cell_type": "code",
   "execution_count": null,
   "id": "22bc658b",
   "metadata": {},
   "outputs": [],
   "source": []
  },
  {
   "cell_type": "markdown",
   "id": "2376fbf7",
   "metadata": {},
   "source": [
    "alpha 5"
   ]
  },
  {
   "cell_type": "code",
   "execution_count": 39,
   "id": "31f06f10",
   "metadata": {},
   "outputs": [],
   "source": [
    "def alpha005(o, vwap, c):\n",
    "    \"\"\"(rank((open - ts_mean(vwap, 10))) * (-1 * abs(rank((close - vwap)))))\"\"\"\n",
    "    return (rank(o.sub(ts_mean(vwap, 10)))\n",
    "            .mul(rank(c.sub(vwap)).mul(-1).abs())\n",
    "            .stack('ticker')\n",
    "            .swaplevel())"
   ]
  },
  {
   "cell_type": "code",
   "execution_count": 40,
   "id": "3da5ee0c",
   "metadata": {},
   "outputs": [
    {
     "data": {
      "text/plain": [
       "ticker  Date      \n",
       "AAPL    2021/01/19    0.103611\n",
       "ADBE    2021/01/19    0.003260\n",
       "ADI     2021/01/19    0.510083\n",
       "ADP     2021/01/19    0.048303\n",
       "ADSK    2021/01/19    0.066659\n",
       "                        ...   \n",
       "WBA     2022/12/30    0.086946\n",
       "WDAY    2022/12/30    0.126796\n",
       "WDC     2022/12/30    0.178964\n",
       "XEL     2022/12/30    0.025722\n",
       "ZBRA    2022/12/30    0.787948\n",
       "Length: 44863, dtype: float64"
      ]
     },
     "execution_count": 40,
     "metadata": {},
     "output_type": "execute_result"
    }
   ],
   "source": [
    "a5=alpha005(o, vwap, c)\n",
    "a5"
   ]
  },
  {
   "cell_type": "code",
   "execution_count": 41,
   "id": "7c2ca212",
   "metadata": {},
   "outputs": [
    {
     "data": {
      "text/plain": [
       "0.06508233107776595"
      ]
     },
     "execution_count": 41,
     "metadata": {},
     "output_type": "execute_result"
    }
   ],
   "source": [
    "mi[5] = get_mutual_info_score(ret_fwd, a5)\n",
    "mi[5]"
   ]
  },
  {
   "cell_type": "code",
   "execution_count": null,
   "id": "21a2711e",
   "metadata": {},
   "outputs": [],
   "source": []
  },
  {
   "cell_type": "code",
   "execution_count": 42,
   "id": "e84eb5bf",
   "metadata": {},
   "outputs": [],
   "source": [
    "def alpha006(o, v):\n",
    "    \"\"\"(-ts_corr(open, volume, 10))\"\"\"\n",
    "    return (-ts_corr(o, v, 10)\n",
    "            .stack('ticker')\n",
    "            .swaplevel())"
   ]
  },
  {
   "cell_type": "code",
   "execution_count": 43,
   "id": "b76c467f",
   "metadata": {},
   "outputs": [
    {
     "data": {
      "text/plain": [
       "ticker  Date      \n",
       "AAPL    2021/01/19    0.256184\n",
       "ADBE    2021/01/19    0.679999\n",
       "ADI     2021/01/19   -0.340578\n",
       "ADP     2021/01/19    0.597361\n",
       "ADSK    2021/01/19    0.840756\n",
       "                        ...   \n",
       "WBA     2022/12/30   -0.338449\n",
       "WDAY    2022/12/30   -0.661442\n",
       "WDC     2022/12/30   -0.468820\n",
       "XEL     2022/12/30    0.159246\n",
       "ZBRA    2022/12/30    0.133963\n",
       "Length: 44863, dtype: float64"
      ]
     },
     "execution_count": 43,
     "metadata": {},
     "output_type": "execute_result"
    }
   ],
   "source": [
    "a6=alpha006(o, v)\n",
    "a6"
   ]
  },
  {
   "cell_type": "code",
   "execution_count": 44,
   "id": "fe219e99",
   "metadata": {},
   "outputs": [
    {
     "data": {
      "text/plain": [
       "0.001694640759883459"
      ]
     },
     "execution_count": 44,
     "metadata": {},
     "output_type": "execute_result"
    }
   ],
   "source": [
    "mi[6] = get_mutual_info_score(ret_fwd, a6)\n",
    "mi[6]"
   ]
  },
  {
   "cell_type": "markdown",
   "id": "3f696e6c",
   "metadata": {},
   "source": [
    "alpha 7"
   ]
  },
  {
   "cell_type": "code",
   "execution_count": 45,
   "id": "0d65d7c2",
   "metadata": {},
   "outputs": [],
   "source": [
    "def alpha007(c, v, adv20):\n",
    "    \"\"\"(adv20 < volume) \n",
    "        ? ((-ts_rank(abs(ts_delta(close, 7)), 60)) * sign(ts_delta(close, 7))) \n",
    "        : -1\n",
    "    \"\"\"\n",
    "    \n",
    "    delta7 = ts_delta(c, 7)\n",
    "    return (-ts_rank(abs(delta7), 60)\n",
    "            .mul(sign(delta7))\n",
    "            .where(adv20<v, -1)\n",
    "            .stack('ticker')\n",
    "            .swaplevel())"
   ]
  },
  {
   "cell_type": "code",
   "execution_count": 46,
   "id": "b2fd2150",
   "metadata": {},
   "outputs": [
    {
     "data": {
      "text/plain": [
       "ticker  Date      \n",
       "AAPL    2021/01/05     1.0\n",
       "ADBE    2021/01/05     1.0\n",
       "ADI     2021/01/05     1.0\n",
       "ADP     2021/01/05     1.0\n",
       "ADSK    2021/01/05     1.0\n",
       "                      ... \n",
       "WBA     2022/12/30    44.0\n",
       "WDAY    2022/12/30     1.0\n",
       "WDC     2022/12/30     1.0\n",
       "XEL     2022/12/30     1.0\n",
       "ZBRA    2022/12/30     1.0\n",
       "Length: 44099, dtype: float64"
      ]
     },
     "execution_count": 46,
     "metadata": {},
     "output_type": "execute_result"
    }
   ],
   "source": [
    "a7=alpha007(c, v, adv20)\n",
    "a7"
   ]
  },
  {
   "cell_type": "code",
   "execution_count": 47,
   "id": "4bff2e75",
   "metadata": {},
   "outputs": [
    {
     "data": {
      "text/plain": [
       "0.061810911059924756"
      ]
     },
     "execution_count": 47,
     "metadata": {},
     "output_type": "execute_result"
    }
   ],
   "source": [
    "mi[7] = get_mutual_info_score(ret_fwd, a7)\n",
    "mi[7]"
   ]
  },
  {
   "cell_type": "markdown",
   "id": "493948a5",
   "metadata": {},
   "source": [
    "alpha 8"
   ]
  },
  {
   "cell_type": "code",
   "execution_count": 48,
   "id": "6f03c17c",
   "metadata": {},
   "outputs": [],
   "source": [
    "def alpha008(o, r):\n",
    "    \"\"\"-rank(((ts_sum(open, 5) * ts_sum(returns, 5)) - \n",
    "        ts_lag((ts_sum(open, 5) * ts_sum(returns, 5)),10)))\n",
    "    \"\"\"\n",
    "    return (-(rank(((ts_sum(o, 5) * ts_sum(r, 5)) -\n",
    "                       ts_lag((ts_sum(o, 5) * ts_sum(r, 5)), 10))))\n",
    "           .stack('ticker')\n",
    "            .swaplevel())"
   ]
  },
  {
   "cell_type": "code",
   "execution_count": 49,
   "id": "15f227d8",
   "metadata": {},
   "outputs": [
    {
     "data": {
      "text/plain": [
       "ticker  Date      \n",
       "AAPL    2021/01/26   -0.901099\n",
       "ADBE    2021/01/26   -0.989011\n",
       "ADI     2021/01/26   -0.241758\n",
       "ADP     2021/01/26   -0.879121\n",
       "ADSK    2021/01/26   -0.076923\n",
       "                        ...   \n",
       "WBA     2022/12/30   -0.175824\n",
       "WDAY    2022/12/30   -0.032967\n",
       "WDC     2022/12/30   -0.351648\n",
       "XEL     2022/12/30   -0.098901\n",
       "ZBRA    2022/12/30   -0.824176\n",
       "Length: 44408, dtype: float64"
      ]
     },
     "execution_count": 49,
     "metadata": {},
     "output_type": "execute_result"
    }
   ],
   "source": [
    "a8=alpha008(o, r)\n",
    "a8"
   ]
  },
  {
   "cell_type": "code",
   "execution_count": 50,
   "id": "8e4f20f7",
   "metadata": {
    "scrolled": true
   },
   "outputs": [
    {
     "data": {
      "text/plain": [
       "0"
      ]
     },
     "execution_count": 50,
     "metadata": {},
     "output_type": "execute_result"
    }
   ],
   "source": [
    "mi[8] = get_mutual_info_score(ret_fwd, a8)\n",
    "mi[8]"
   ]
  },
  {
   "cell_type": "code",
   "execution_count": null,
   "id": "5334045c",
   "metadata": {},
   "outputs": [],
   "source": []
  },
  {
   "cell_type": "markdown",
   "id": "9416819a",
   "metadata": {},
   "source": [
    "alpha 9"
   ]
  },
  {
   "cell_type": "code",
   "execution_count": 51,
   "id": "2ce81dfd",
   "metadata": {},
   "outputs": [],
   "source": [
    "def alpha009(c):\n",
    "    \"\"\"(0 < ts_min(ts_delta(close, 1), 5)) ? ts_delta(close, 1) \n",
    "    : ((ts_max(ts_delta(close, 1), 5) < 0) \n",
    "    ? ts_delta(close, 1) : (-1 * ts_delta(close, 1)))\n",
    "    \"\"\"\n",
    "    close_diff = ts_delta(c, 1)\n",
    "    alpha = close_diff.where(ts_min(close_diff, 5) > 0,\n",
    "                             close_diff.where(ts_max(close_diff, 5) < 0,\n",
    "                                              -close_diff))\n",
    "    return (alpha\n",
    "            .stack('ticker')\n",
    "            .swaplevel())"
   ]
  },
  {
   "cell_type": "code",
   "execution_count": 52,
   "id": "3ae29d76",
   "metadata": {},
   "outputs": [
    {
     "data": {
      "text/plain": [
       "ticker  Date      \n",
       "AAPL    2021/01/06     4.409996\n",
       "ADBE    2021/01/06    19.380005\n",
       "ADI     2021/01/06    -0.669998\n",
       "ADP     2021/01/06     0.590012\n",
       "ADSK    2021/01/06    -1.169983\n",
       "                        ...    \n",
       "WBA     2022/12/30     0.110001\n",
       "WDAY    2022/12/30     0.459991\n",
       "WDC     2022/12/30     0.020000\n",
       "XEL     2022/12/30     0.959999\n",
       "ZBRA    2022/12/30     1.119995\n",
       "Length: 45591, dtype: float64"
      ]
     },
     "execution_count": 52,
     "metadata": {},
     "output_type": "execute_result"
    }
   ],
   "source": [
    "a9=alpha009(c)\n",
    "a9"
   ]
  },
  {
   "cell_type": "code",
   "execution_count": 53,
   "id": "db8833a0",
   "metadata": {},
   "outputs": [
    {
     "data": {
      "text/plain": [
       "0.995142336061722"
      ]
     },
     "execution_count": 53,
     "metadata": {},
     "output_type": "execute_result"
    }
   ],
   "source": [
    "mi[9] = get_mutual_info_score(ret_fwd, a9)\n",
    "mi[9]"
   ]
  },
  {
   "cell_type": "code",
   "execution_count": null,
   "id": "a3a9366f",
   "metadata": {},
   "outputs": [],
   "source": []
  },
  {
   "cell_type": "markdown",
   "id": "b7594315",
   "metadata": {},
   "source": [
    "alpha 10"
   ]
  },
  {
   "cell_type": "code",
   "execution_count": 54,
   "id": "75d7875e",
   "metadata": {},
   "outputs": [],
   "source": [
    "def alpha010(c):\n",
    "    \"\"\"rank(((0 < ts_min(ts_delta(close, 1), 4)) \n",
    "        ? ts_delta(close, 1) \n",
    "        : ((ts_max(ts_delta(close, 1), 4) < 0)\n",
    "            ? ts_delta(close, 1) \n",
    "            : (-1 * ts_delta(close, 1)))))\n",
    "    \"\"\"\n",
    "    close_diff = ts_delta(c, 1)\n",
    "    alpha = close_diff.where(ts_min(close_diff, 4) > 0,\n",
    "                             close_diff.where(ts_min(close_diff, 4) > 0,\n",
    "                                              -close_diff))\n",
    "\n",
    "    return (rank(alpha)\n",
    "            .stack('ticker')\n",
    "            .swaplevel())"
   ]
  },
  {
   "cell_type": "code",
   "execution_count": 55,
   "id": "2fa9f8d5",
   "metadata": {},
   "outputs": [
    {
     "data": {
      "text/plain": [
       "0.2797670495081124"
      ]
     },
     "execution_count": 55,
     "metadata": {},
     "output_type": "execute_result"
    }
   ],
   "source": [
    "a10=alpha010(c)\n",
    "mi[10] = get_mutual_info_score(ret_fwd, a10)\n",
    "mi[10]"
   ]
  },
  {
   "cell_type": "code",
   "execution_count": null,
   "id": "47ad7e19",
   "metadata": {},
   "outputs": [],
   "source": []
  },
  {
   "cell_type": "markdown",
   "id": "5e746441",
   "metadata": {},
   "source": [
    "alpha 11"
   ]
  },
  {
   "cell_type": "code",
   "execution_count": 56,
   "id": "a295195a",
   "metadata": {},
   "outputs": [],
   "source": [
    "def alpha011(c, vwap, v):\n",
    "    \"\"\"(rank(ts_max((vwap - close), 3)) + \n",
    "        rank(ts_min(vwap - close), 3)) * \n",
    "        rank(ts_delta(volume, 3))\n",
    "        \"\"\"\n",
    "    return (rank(ts_max(vwap.sub(c), 3))\n",
    "            .add(rank(ts_min(vwap.sub(c), 3)))\n",
    "            .mul(rank(ts_delta(v, 3)))\n",
    "            .stack('ticker')\n",
    "            .swaplevel())"
   ]
  },
  {
   "cell_type": "code",
   "execution_count": 57,
   "id": "ce5e4fbe",
   "metadata": {},
   "outputs": [
    {
     "data": {
      "text/plain": [
       "0.019106221547958935"
      ]
     },
     "execution_count": 57,
     "metadata": {},
     "output_type": "execute_result"
    }
   ],
   "source": [
    "a11=alpha011(c, vwap, v)\n",
    "mi[11] = get_mutual_info_score(ret_fwd, a11)\n",
    "mi[11]"
   ]
  },
  {
   "cell_type": "code",
   "execution_count": null,
   "id": "d8e49f5d",
   "metadata": {},
   "outputs": [],
   "source": []
  },
  {
   "cell_type": "markdown",
   "id": "bbdc034f",
   "metadata": {},
   "source": [
    "alpha 12"
   ]
  },
  {
   "cell_type": "code",
   "execution_count": 58,
   "id": "f72f5f7b",
   "metadata": {},
   "outputs": [],
   "source": [
    "def alpha012(v, c):\n",
    "    \"\"\"(sign(ts_delta(volume, 1)) * \n",
    "            (-1 * ts_delta(close, 1)))\n",
    "        \"\"\"\n",
    "    return (sign(ts_delta(v, 1)).mul(-ts_delta(c, 1))\n",
    "            .stack('ticker')\n",
    "            .swaplevel())"
   ]
  },
  {
   "cell_type": "code",
   "execution_count": 59,
   "id": "906002f1",
   "metadata": {},
   "outputs": [
    {
     "data": {
      "text/plain": [
       "0.520851082359969"
      ]
     },
     "execution_count": 59,
     "metadata": {},
     "output_type": "execute_result"
    }
   ],
   "source": [
    "a12=alpha012(v, c)\n",
    "mi[12] = get_mutual_info_score(ret_fwd, a12)\n",
    "mi[12]"
   ]
  },
  {
   "cell_type": "code",
   "execution_count": null,
   "id": "87841fe7",
   "metadata": {},
   "outputs": [],
   "source": []
  },
  {
   "cell_type": "markdown",
   "id": "5d35cc93",
   "metadata": {},
   "source": [
    "alpha 13"
   ]
  },
  {
   "cell_type": "code",
   "execution_count": 60,
   "id": "97a6719c",
   "metadata": {},
   "outputs": [],
   "source": [
    "def alpha013(c, v):\n",
    "    \"\"\"-rank(ts_cov(rank(close), rank(volume), 5))\"\"\"\n",
    "    return (-rank(ts_cov(rank(c), rank(v), 5))\n",
    "            .stack('ticker')\n",
    "            .swaplevel())"
   ]
  },
  {
   "cell_type": "code",
   "execution_count": 61,
   "id": "bd0828a7",
   "metadata": {},
   "outputs": [
    {
     "data": {
      "text/plain": [
       "0"
      ]
     },
     "execution_count": 61,
     "metadata": {},
     "output_type": "execute_result"
    }
   ],
   "source": [
    "a13=alpha013(c, v)\n",
    "mi[13] = get_mutual_info_score(ret_fwd, a13)\n",
    "mi[13]"
   ]
  },
  {
   "cell_type": "code",
   "execution_count": null,
   "id": "1413abcc",
   "metadata": {},
   "outputs": [],
   "source": []
  },
  {
   "cell_type": "markdown",
   "id": "9942347e",
   "metadata": {},
   "source": [
    "alpha 14"
   ]
  },
  {
   "cell_type": "code",
   "execution_count": 62,
   "id": "0dcb6e0b",
   "metadata": {},
   "outputs": [],
   "source": [
    "def alpha014(o, v, r):\n",
    "    \"\"\"\n",
    "    (-rank(ts_delta(returns, 3))) * ts_corr(open, volume, 10))\n",
    "    \"\"\"\n",
    "\n",
    "    alpha = -rank(ts_delta(r, 3)).mul(ts_corr(o, v, 10)\n",
    "                                      .replace([-np.inf,\n",
    "                                                np.inf],\n",
    "                                               np.nan))\n",
    "    return (alpha\n",
    "            .stack('ticker')\n",
    "            .swaplevel())"
   ]
  },
  {
   "cell_type": "code",
   "execution_count": 63,
   "id": "14df2115",
   "metadata": {},
   "outputs": [
    {
     "data": {
      "text/plain": [
       "0.027495564524568028"
      ]
     },
     "execution_count": 63,
     "metadata": {},
     "output_type": "execute_result"
    }
   ],
   "source": [
    "a14=alpha014(o, v, r)\n",
    "mi[14] = get_mutual_info_score(ret_fwd, a14)\n",
    "mi[14]"
   ]
  },
  {
   "cell_type": "markdown",
   "id": "da411dc2",
   "metadata": {},
   "source": [
    "alpha 15"
   ]
  },
  {
   "cell_type": "code",
   "execution_count": 64,
   "id": "13aa38c1",
   "metadata": {},
   "outputs": [],
   "source": [
    "def alpha015(h, v):\n",
    "    \"\"\"(-1 * ts_sum(rank(ts_corr(rank(high), rank(volume), 3)), 3))\"\"\"\n",
    "    alpha = (-ts_sum(rank(ts_corr(rank(h), rank(v), 3)\n",
    "                          .replace([-np.inf, np.inf], np.nan)), 3))\n",
    "    return (alpha\n",
    "            .stack('ticker')\n",
    "            .swaplevel())"
   ]
  },
  {
   "cell_type": "code",
   "execution_count": 65,
   "id": "67d01e41",
   "metadata": {},
   "outputs": [
    {
     "data": {
      "text/plain": [
       "0.025063567815596155"
      ]
     },
     "execution_count": 65,
     "metadata": {},
     "output_type": "execute_result"
    }
   ],
   "source": [
    "a15=alpha015(h,v)\n",
    "mi[15] = get_mutual_info_score(ret_fwd, a15)\n",
    "mi[15]"
   ]
  },
  {
   "cell_type": "code",
   "execution_count": 66,
   "id": "f6e0cef3",
   "metadata": {},
   "outputs": [
    {
     "data": {
      "text/plain": [
       "ticker  Date      \n",
       "ADI     2021/01/11   -2.698335\n",
       "ADP     2021/01/11   -0.692145\n",
       "AMAT    2021/01/11   -1.434122\n",
       "AMGN    2021/01/11   -1.597884\n",
       "ANSS    2021/01/11   -1.121554\n",
       "                        ...   \n",
       "VRTX    2022/12/30   -1.616012\n",
       "WBA     2022/12/30   -1.558375\n",
       "WDAY    2022/12/30   -2.574634\n",
       "WDC     2022/12/30   -2.067660\n",
       "ZBRA    2022/12/30   -0.913039\n",
       "Length: 27679, dtype: float64"
      ]
     },
     "execution_count": 66,
     "metadata": {},
     "output_type": "execute_result"
    }
   ],
   "source": [
    "a15"
   ]
  },
  {
   "cell_type": "code",
   "execution_count": null,
   "id": "80011d6f",
   "metadata": {},
   "outputs": [],
   "source": []
  },
  {
   "cell_type": "markdown",
   "id": "d13c2837",
   "metadata": {},
   "source": [
    "alpha 16"
   ]
  },
  {
   "cell_type": "code",
   "execution_count": 67,
   "id": "a680ffc6",
   "metadata": {},
   "outputs": [],
   "source": [
    "def alpha016(h, v):\n",
    "    \"\"\"(-1 * rank(ts_cov(rank(high), rank(volume), 5)))\"\"\"\n",
    "    return (-rank(ts_cov(rank(h), rank(v), 5))\n",
    "            .stack('ticker')\n",
    "            .swaplevel())"
   ]
  },
  {
   "cell_type": "code",
   "execution_count": 68,
   "id": "2ffa0ce2",
   "metadata": {},
   "outputs": [
    {
     "data": {
      "text/plain": [
       "0.01923535175945812"
      ]
     },
     "execution_count": 68,
     "metadata": {},
     "output_type": "execute_result"
    }
   ],
   "source": [
    "a16=alpha016(h,v)\n",
    "mi[16] = get_mutual_info_score(ret_fwd, a16)\n",
    "mi[16]"
   ]
  },
  {
   "cell_type": "code",
   "execution_count": null,
   "id": "8e2472dc",
   "metadata": {},
   "outputs": [],
   "source": []
  },
  {
   "cell_type": "markdown",
   "id": "25416f09",
   "metadata": {},
   "source": [
    "alpha 17"
   ]
  },
  {
   "cell_type": "code",
   "execution_count": 69,
   "id": "f9f548dc",
   "metadata": {},
   "outputs": [],
   "source": [
    "def alpha017(c, v):\n",
    "    \"\"\"(((-1 * rank(ts_rank(close, 10))) * rank(ts_delta(ts_delta(close, 1), 1))) *rank(ts_rank((volume / adv20), 5)))\n",
    "        \"\"\"\n",
    "    adv20 = ts_mean(v, 20)\n",
    "    return (-rank(ts_rank(c, 10))\n",
    "            .mul(rank(ts_delta(ts_delta(c, 1), 1)))\n",
    "            .mul(rank(ts_rank(v.div(adv20), 5)))\n",
    "            .stack('ticker')\n",
    "            .swaplevel())"
   ]
  },
  {
   "cell_type": "code",
   "execution_count": 70,
   "id": "29815db9",
   "metadata": {},
   "outputs": [
    {
     "data": {
      "text/plain": [
       "0.15343291073685705"
      ]
     },
     "execution_count": 70,
     "metadata": {},
     "output_type": "execute_result"
    }
   ],
   "source": [
    "a17=alpha017(c,v)\n",
    "mi[17] = get_mutual_info_score(ret_fwd, a17)\n",
    "mi[17]"
   ]
  },
  {
   "cell_type": "code",
   "execution_count": null,
   "id": "061f7dcd",
   "metadata": {},
   "outputs": [],
   "source": []
  },
  {
   "cell_type": "code",
   "execution_count": null,
   "id": "5cba7962",
   "metadata": {},
   "outputs": [],
   "source": []
  },
  {
   "cell_type": "markdown",
   "id": "bab9f437",
   "metadata": {},
   "source": [
    "alpha 18"
   ]
  },
  {
   "cell_type": "code",
   "execution_count": 71,
   "id": "69d30de7",
   "metadata": {},
   "outputs": [],
   "source": [
    "def alpha018(o, c):\n",
    "    \"\"\"-rank((ts_std(abs((close - open)), 5) + (close - open)) +\n",
    "            ts_corr(close, open,10))\n",
    "    \"\"\"\n",
    "    return (-rank(ts_std(c.sub(o).abs(), 5)\n",
    "                  .add(c.sub(o))\n",
    "                  .add(ts_corr(c, o, 10)\n",
    "                       .replace([-np.inf,\n",
    "                                 np.inf],\n",
    "                                np.nan)))\n",
    "            .stack('ticker')\n",
    "            .swaplevel())"
   ]
  },
  {
   "cell_type": "code",
   "execution_count": 72,
   "id": "c202bc4e",
   "metadata": {},
   "outputs": [
    {
     "data": {
      "text/plain": [
       "0.13260882491603443"
      ]
     },
     "execution_count": 72,
     "metadata": {},
     "output_type": "execute_result"
    }
   ],
   "source": [
    "a18=alpha018(o, c)\n",
    "mi[18] = get_mutual_info_score(ret_fwd, a18)\n",
    "mi[18]"
   ]
  },
  {
   "cell_type": "code",
   "execution_count": null,
   "id": "13c78842",
   "metadata": {},
   "outputs": [],
   "source": []
  },
  {
   "cell_type": "code",
   "execution_count": null,
   "id": "55da2344",
   "metadata": {},
   "outputs": [],
   "source": []
  },
  {
   "cell_type": "markdown",
   "id": "732e5405",
   "metadata": {},
   "source": [
    "alpha 19"
   ]
  },
  {
   "cell_type": "code",
   "execution_count": 73,
   "id": "57e7d09a",
   "metadata": {},
   "outputs": [],
   "source": [
    "def alpha019(c, r):\n",
    "    \"\"\"((-1 * sign(((close - ts_lag(close, 7)) + ts_delta(close, 7)))) * \n",
    "    (1 + rank((1 + ts_sum(returns,250)))))\n",
    "    \"\"\"\n",
    "    return (-sign(ts_delta(c, 7) + ts_delta(c, 7))\n",
    "            .mul(1 + rank(1 + ts_sum(r, 250)))\n",
    "            .stack('ticker')\n",
    "            .swaplevel())"
   ]
  },
  {
   "cell_type": "code",
   "execution_count": 74,
   "id": "8eef42f9",
   "metadata": {},
   "outputs": [
    {
     "data": {
      "text/plain": [
       "0.012193483605624333"
      ]
     },
     "execution_count": 74,
     "metadata": {},
     "output_type": "execute_result"
    }
   ],
   "source": [
    "a19=alpha016(c,r)\n",
    "mi[19] = get_mutual_info_score(ret_fwd, a19)\n",
    "mi[19]"
   ]
  },
  {
   "cell_type": "code",
   "execution_count": null,
   "id": "fe576896",
   "metadata": {},
   "outputs": [],
   "source": []
  },
  {
   "cell_type": "markdown",
   "id": "22a95948",
   "metadata": {},
   "source": [
    "alpha 20"
   ]
  },
  {
   "cell_type": "code",
   "execution_count": 75,
   "id": "a07fcb25",
   "metadata": {},
   "outputs": [],
   "source": [
    "def alpha020(o, h, l, c):\n",
    "    \"\"\"-rank(open - ts_lag(high, 1)) * \n",
    "        rank(open - ts_lag(close, 1)) * \n",
    "        rank(open -ts_lag(low, 1))\"\"\"\n",
    "    return (rank(o - ts_lag(h, 1))\n",
    "            .mul(rank(o - ts_lag(c, 1)))\n",
    "            .mul(rank(o - ts_lag(l, 1)))\n",
    "            .mul(-1)\n",
    "            .stack('ticker')\n",
    "            .swaplevel())"
   ]
  },
  {
   "cell_type": "code",
   "execution_count": 76,
   "id": "dedd7d6d",
   "metadata": {},
   "outputs": [
    {
     "data": {
      "text/plain": [
       "0.09257919784085455"
      ]
     },
     "execution_count": 76,
     "metadata": {},
     "output_type": "execute_result"
    }
   ],
   "source": [
    "a20=alpha020(o, h, l, c)\n",
    "mi[20] = get_mutual_info_score(ret_fwd, a20)\n",
    "mi[20]"
   ]
  },
  {
   "cell_type": "code",
   "execution_count": null,
   "id": "06e15d92",
   "metadata": {},
   "outputs": [],
   "source": []
  },
  {
   "cell_type": "markdown",
   "id": "e267dcb4",
   "metadata": {},
   "source": [
    "alpha 21"
   ]
  },
  {
   "cell_type": "code",
   "execution_count": 77,
   "id": "82219411",
   "metadata": {},
   "outputs": [],
   "source": [
    "def alpha021(c, v):\n",
    "    \"\"\"ts_mean(close, 8) + ts_std(close, 8) < ts_mean(close, 2)\n",
    "        ? -1\n",
    "        : (ts_mean(close,2) < ts_mean(close, 8) - ts_std(close, 8)\n",
    "            ? 1\n",
    "            : (volume / adv20 < 1\n",
    "                ? -1\n",
    "                : 1))\n",
    "    \"\"\"\n",
    "    sma2 = ts_mean(c, 2)\n",
    "    sma8 = ts_mean(c, 8)\n",
    "    std8 = ts_std(c, 8)\n",
    "\n",
    "    cond_1 = sma8.add(std8) < sma2\n",
    "    cond_2 = sma8.add(std8) > sma2\n",
    "    cond_3 = v.div(ts_mean(v, 20)) < 1\n",
    "\n",
    "    val = np.ones_like(c)\n",
    "    alpha = pd.DataFrame(np.select(condlist=[cond_1, cond_2, cond_3],\n",
    "                                   choicelist=[-1, 1, -1], default=1),\n",
    "                         index=c.index,\n",
    "                         columns=c.columns)\n",
    "\n",
    "    return (alpha\n",
    "            .stack('ticker')\n",
    "            .swaplevel())"
   ]
  },
  {
   "cell_type": "code",
   "execution_count": 78,
   "id": "780ec421",
   "metadata": {},
   "outputs": [
    {
     "data": {
      "text/plain": [
       "0.020099693975048183"
      ]
     },
     "execution_count": 78,
     "metadata": {},
     "output_type": "execute_result"
    }
   ],
   "source": [
    "a21=alpha021(c, v)\n",
    "mi[21] = get_mutual_info_score(ret_fwd, a21)\n",
    "mi[21]"
   ]
  },
  {
   "cell_type": "code",
   "execution_count": null,
   "id": "a9580d2b",
   "metadata": {},
   "outputs": [],
   "source": []
  },
  {
   "cell_type": "code",
   "execution_count": null,
   "id": "7dea942b",
   "metadata": {},
   "outputs": [],
   "source": []
  },
  {
   "cell_type": "markdown",
   "id": "ed18df7a",
   "metadata": {},
   "source": [
    "alpha 22"
   ]
  },
  {
   "cell_type": "code",
   "execution_count": 79,
   "id": "a6164baa",
   "metadata": {},
   "outputs": [],
   "source": [
    "def alpha022(h, c, v):\n",
    "    \"\"\"-(ts_delta(ts_corr(high, volume, 5), 5) * \n",
    "        rank(ts_std(close, 20)))\n",
    "    \"\"\"\n",
    "\n",
    "    return (ts_delta(ts_corr(h, v, 5)\n",
    "                     .replace([-np.inf,\n",
    "                               np.inf],\n",
    "                              np.nan), 5)\n",
    "            .mul(rank(ts_std(c, 20)))\n",
    "            .mul(-1)\n",
    "            .stack('ticker')\n",
    "            .swaplevel())"
   ]
  },
  {
   "cell_type": "code",
   "execution_count": 80,
   "id": "f332dfdf",
   "metadata": {},
   "outputs": [
    {
     "data": {
      "text/plain": [
       "0.024882364192480022"
      ]
     },
     "execution_count": 80,
     "metadata": {},
     "output_type": "execute_result"
    }
   ],
   "source": [
    "a22=alpha022(h, c, v)\n",
    "mi[22] = get_mutual_info_score(ret_fwd, a22)\n",
    "mi[22]"
   ]
  },
  {
   "cell_type": "code",
   "execution_count": null,
   "id": "2557a359",
   "metadata": {},
   "outputs": [],
   "source": []
  },
  {
   "cell_type": "markdown",
   "id": "27a2090f",
   "metadata": {},
   "source": [
    "alpha 23"
   ]
  },
  {
   "cell_type": "code",
   "execution_count": 81,
   "id": "d3888167",
   "metadata": {},
   "outputs": [],
   "source": [
    "def alpha023(h, c):\n",
    "    \"\"\"((ts_mean(high, 20) < high)\n",
    "            ? (-1 * ts_delta(high, 2))\n",
    "            : 0\n",
    "        \"\"\"\n",
    "\n",
    "    return (ts_delta(h, 2)\n",
    "            .mul(-1)\n",
    "            .where(ts_mean(h, 20) < h, 0)\n",
    "            .stack('ticker')\n",
    "            .swaplevel())"
   ]
  },
  {
   "cell_type": "code",
   "execution_count": 82,
   "id": "f05119cb",
   "metadata": {},
   "outputs": [
    {
     "data": {
      "text/plain": [
       "0.07325636549818793"
      ]
     },
     "execution_count": 82,
     "metadata": {},
     "output_type": "execute_result"
    }
   ],
   "source": [
    "a23=alpha023(h, c)\n",
    "mi[23] = get_mutual_info_score(ret_fwd, a23)\n",
    "mi[23]"
   ]
  },
  {
   "cell_type": "code",
   "execution_count": null,
   "id": "ea0e2376",
   "metadata": {},
   "outputs": [],
   "source": []
  },
  {
   "cell_type": "raw",
   "id": "ee512963",
   "metadata": {},
   "source": [
    "alpha 24"
   ]
  },
  {
   "cell_type": "code",
   "execution_count": 83,
   "id": "19a786be",
   "metadata": {},
   "outputs": [],
   "source": [
    "def alpha024(c):\n",
    "    \"\"\"((((ts_delta((ts_mean(close, 100)), 100) / ts_lag(close, 100)) <= 0.05)  \n",
    "        ? (-1 * (close - ts_min(close, 100))) \n",
    "        : (-1 * ts_delta(close, 3)))\n",
    "    \"\"\"\n",
    "    cond = ts_delta(ts_mean(c, 100), 100) / ts_lag(c, 100) <= 0.05\n",
    "\n",
    "    return (c.sub(ts_min(c, 100)).mul(-1).where(cond, -ts_delta(c, 3))\n",
    "            .stack('ticker')\n",
    "            .swaplevel())"
   ]
  },
  {
   "cell_type": "code",
   "execution_count": 84,
   "id": "6635d3b8",
   "metadata": {},
   "outputs": [
    {
     "data": {
      "text/plain": [
       "0.05317718342133704"
      ]
     },
     "execution_count": 84,
     "metadata": {},
     "output_type": "execute_result"
    }
   ],
   "source": [
    "a24=alpha024(c)\n",
    "mi[24] = get_mutual_info_score(ret_fwd, a24)\n",
    "mi[24]"
   ]
  },
  {
   "cell_type": "code",
   "execution_count": null,
   "id": "dabafa70",
   "metadata": {},
   "outputs": [],
   "source": []
  },
  {
   "cell_type": "markdown",
   "id": "99faea3e",
   "metadata": {},
   "source": [
    "alpha 25"
   ]
  },
  {
   "cell_type": "code",
   "execution_count": 85,
   "id": "a29b072c",
   "metadata": {},
   "outputs": [],
   "source": [
    "def alpha025(h, c, r, vwap, adv20):\n",
    "    \"\"\"rank((-1 * returns) * adv20 * vwap * (high - close))\"\"\"\n",
    "    return (rank(-r.mul(adv20)\n",
    "                 .mul(vwap)\n",
    "                 .mul(h.sub(c)))\n",
    "            .stack('ticker')\n",
    "            .swaplevel())"
   ]
  },
  {
   "cell_type": "code",
   "execution_count": 86,
   "id": "66a507ee",
   "metadata": {},
   "outputs": [
    {
     "data": {
      "text/plain": [
       "0.21723018284046347"
      ]
     },
     "execution_count": 86,
     "metadata": {},
     "output_type": "execute_result"
    }
   ],
   "source": [
    "a25=alpha025(h, c, r, vwap, adv20)\n",
    "mi[25] = get_mutual_info_score(ret_fwd, a25)\n",
    "mi[25]"
   ]
  },
  {
   "cell_type": "code",
   "execution_count": null,
   "id": "7d21b37d",
   "metadata": {},
   "outputs": [],
   "source": []
  },
  {
   "cell_type": "markdown",
   "id": "210aa34e",
   "metadata": {},
   "source": [
    "alpha 26"
   ]
  },
  {
   "cell_type": "code",
   "execution_count": 87,
   "id": "5b7739a8",
   "metadata": {},
   "outputs": [],
   "source": [
    "def alpha026(h, v):\n",
    "    \"\"\"(-1 * ts_max(ts_corr(ts_rank(volume, 5), ts_rank(high, 5), 5), 3))\"\"\"\n",
    "    return (ts_max(ts_corr(ts_rank(v, 5), \n",
    "                           ts_rank(h, 5), 5)\n",
    "                   .replace([-np.inf, np.inf], np.nan), 3)\n",
    "            .mul(-1)\n",
    "            .stack('ticker')\n",
    "            .swaplevel())"
   ]
  },
  {
   "cell_type": "code",
   "execution_count": 88,
   "id": "47275d5c",
   "metadata": {},
   "outputs": [
    {
     "data": {
      "text/plain": [
       "0"
      ]
     },
     "execution_count": 88,
     "metadata": {},
     "output_type": "execute_result"
    }
   ],
   "source": [
    "a26=alpha026(h,v)\n",
    "mi[26] = get_mutual_info_score(ret_fwd, a26)\n",
    "mi[26]"
   ]
  },
  {
   "cell_type": "code",
   "execution_count": null,
   "id": "308b20e0",
   "metadata": {},
   "outputs": [],
   "source": []
  },
  {
   "cell_type": "markdown",
   "id": "0aedaae9",
   "metadata": {},
   "source": [
    "alpha 27"
   ]
  },
  {
   "cell_type": "code",
   "execution_count": 89,
   "id": "f3b2d3e2",
   "metadata": {},
   "outputs": [],
   "source": [
    "def alpha027(v, vwap):\n",
    "    \"\"\"((0.5 < rank(ts_mean(ts_corr(rank(volume), rank(vwap), 6), 2))) \n",
    "            ? -1\n",
    "            : 1)\"\"\"\n",
    "    cond = rank(ts_mean(ts_corr(rank(v),\n",
    "                                rank(vwap), 6), 2))\n",
    "    alpha = cond.notnull().astype(float)\n",
    "    return (alpha.where(cond <= 0.5, -alpha)\n",
    "            .stack('ticker')\n",
    "            .swaplevel())"
   ]
  },
  {
   "cell_type": "code",
   "execution_count": 90,
   "id": "a18e0667",
   "metadata": {},
   "outputs": [
    {
     "data": {
      "text/plain": [
       "0.019711574101139773"
      ]
     },
     "execution_count": 90,
     "metadata": {},
     "output_type": "execute_result"
    }
   ],
   "source": [
    "a27=alpha027(h,v)\n",
    "mi[27] = get_mutual_info_score(ret_fwd, a27)\n",
    "mi[27]"
   ]
  },
  {
   "cell_type": "code",
   "execution_count": null,
   "id": "57b375ef",
   "metadata": {},
   "outputs": [],
   "source": []
  },
  {
   "cell_type": "code",
   "execution_count": null,
   "id": "01933c1f",
   "metadata": {},
   "outputs": [],
   "source": []
  },
  {
   "cell_type": "markdown",
   "id": "b4e3b138",
   "metadata": {},
   "source": [
    "alpha 28"
   ]
  },
  {
   "cell_type": "code",
   "execution_count": 91,
   "id": "88da3b71",
   "metadata": {},
   "outputs": [],
   "source": [
    "def alpha028(h, l, c, v, adv20):\n",
    "    \"\"\"scale(((ts_corr(adv20, low, 5) + (high + low) / 2) - close))\"\"\"\n",
    "    return (scale(ts_corr(adv20, l, 5)\n",
    "                  .replace([-np.inf, np.inf], 0)\n",
    "                  .add(h.add(l).div(2).sub(c)))\n",
    "            .stack('ticker')\n",
    "            .swaplevel())"
   ]
  },
  {
   "cell_type": "code",
   "execution_count": 92,
   "id": "bfec2c96",
   "metadata": {},
   "outputs": [
    {
     "data": {
      "text/plain": [
       "0.1857044548926261"
      ]
     },
     "execution_count": 92,
     "metadata": {},
     "output_type": "execute_result"
    }
   ],
   "source": [
    "a28=alpha028(h, l, c, v, adv20)\n",
    "mi[28] = get_mutual_info_score(ret_fwd, a28)\n",
    "mi[28]"
   ]
  },
  {
   "cell_type": "code",
   "execution_count": null,
   "id": "19476e0c",
   "metadata": {},
   "outputs": [],
   "source": []
  },
  {
   "cell_type": "markdown",
   "id": "9e54f141",
   "metadata": {},
   "source": [
    "alpha 29"
   ]
  },
  {
   "cell_type": "code",
   "execution_count": 93,
   "id": "c0b9fdfb",
   "metadata": {},
   "outputs": [],
   "source": [
    "def alpha029(c, r):\n",
    "    \"\"\"(ts_min(ts_product(rank(rank(scale(log(ts_sum(ts_min(rank(rank((-1 * \n",
    "            rank(ts_delta((close - 1),5))))), 2), 1))))), 1), 5)\n",
    "        + ts_rank(ts_lag((-1 * returns), 6), 5))\n",
    "    \"\"\"\n",
    "    return (ts_min(rank(rank(scale(log(ts_sum(rank(rank(-rank(ts_delta((c - 1), 5)))), 2))))), 5)\n",
    "            .add(ts_rank(ts_lag((-1 * r), 6), 5))\n",
    "            .stack('ticker')\n",
    "            .swaplevel())"
   ]
  },
  {
   "cell_type": "code",
   "execution_count": 94,
   "id": "c9ec850d",
   "metadata": {},
   "outputs": [
    {
     "data": {
      "text/plain": [
       "0"
      ]
     },
     "execution_count": 94,
     "metadata": {},
     "output_type": "execute_result"
    }
   ],
   "source": [
    "a29=alpha029(c, r)\n",
    "mi[29] = get_mutual_info_score(ret_fwd, a29)\n",
    "mi[29]"
   ]
  },
  {
   "cell_type": "code",
   "execution_count": null,
   "id": "86d83de1",
   "metadata": {},
   "outputs": [],
   "source": []
  },
  {
   "cell_type": "markdown",
   "id": "7599744a",
   "metadata": {},
   "source": [
    "alpha 30"
   ]
  },
  {
   "cell_type": "code",
   "execution_count": 95,
   "id": "f34984b1",
   "metadata": {},
   "outputs": [],
   "source": [
    "def alpha030(c, v):\n",
    "    \"\"\"(((1.0 - rank(((sign((close - ts_lag(close, 1))) +\n",
    "            sign((ts_lag(close, 1) - ts_lag(close, 2)))) +\n",
    "            sign((ts_lag(close, 2) - ts_lag(close, 3)))))) *\n",
    "            ts_sum(volume, 5)) / ts_sum(volume, 20))\"\"\"\n",
    "    close_diff = ts_delta(c, 1)\n",
    "    return (rank(sign(close_diff)\n",
    "                 .add(sign(ts_lag(close_diff, 1)))\n",
    "                 .add(sign(ts_lag(close_diff, 2))))\n",
    "            .mul(-1).add(1)\n",
    "            .mul(ts_sum(v, 5))\n",
    "            .div(ts_sum(v, 20))\n",
    "            .stack('ticker')\n",
    "            .swaplevel())"
   ]
  },
  {
   "cell_type": "code",
   "execution_count": 96,
   "id": "c857415f",
   "metadata": {},
   "outputs": [
    {
     "data": {
      "text/plain": [
       "0"
      ]
     },
     "execution_count": 96,
     "metadata": {},
     "output_type": "execute_result"
    }
   ],
   "source": [
    "a30=alpha030(c, r)\n",
    "a30.to_frame().replace([np.inf, -np.inf], np.nan, inplace=True)\n",
    "mi[30] = get_mutual_info_score(ret_fwd, a30)\n",
    "mi[30]"
   ]
  },
  {
   "cell_type": "markdown",
   "id": "504e8381",
   "metadata": {},
   "source": [
    "alpha 31"
   ]
  },
  {
   "cell_type": "code",
   "execution_count": 97,
   "id": "1f3f7e24",
   "metadata": {},
   "outputs": [],
   "source": [
    "def alpha031(l, c, adv20):\n",
    "    \"\"\"((rank(rank(rank(ts_weighted_mean((-1 * rank(rank(ts_delta(close, 10)))), 10)))) +\n",
    "        rank((-1 * ts_delta(close, 3)))) + sign(scale(ts_corr(adv20, low, 12))))\n",
    "    \"\"\"\n",
    "    return (rank(rank(rank(ts_weighted_mean(rank(rank(ts_delta(c, 10))).mul(-1), 10))))\n",
    "            .add(rank(ts_delta(c, 3).mul(-1)))\n",
    "            .add(sign(scale(ts_corr(adv20, l, 12)\n",
    "                            .replace([-np.inf, np.inf],\n",
    "                                     np.nan))))\n",
    "            .stack('ticker')\n",
    "            .swaplevel())"
   ]
  },
  {
   "cell_type": "markdown",
   "id": "8575ec7d",
   "metadata": {},
   "source": [
    "a31=alpha031(l, c, adv20)\n",
    "mi[31] = get_mutual_info_score(ret_fwd, a31)\n",
    "mi[31]"
   ]
  },
  {
   "cell_type": "markdown",
   "id": "363256c6",
   "metadata": {},
   "source": [
    "alpha 32"
   ]
  },
  {
   "cell_type": "code",
   "execution_count": 98,
   "id": "facf24fe",
   "metadata": {},
   "outputs": [],
   "source": [
    "def alpha032(c, vwap):\n",
    "    \"\"\"scale(ts_mean(close, 7) - close) + \n",
    "        (20 * scale(ts_corr(vwap, ts_lag(close, 5),230)))\"\"\"\n",
    "    return (scale(ts_mean(c, 7).sub(c))\n",
    "            .add(20 * scale(ts_corr(vwap,\n",
    "                                    ts_lag(c, 5), 230)))\n",
    "            .stack('ticker')\n",
    "            .swaplevel())"
   ]
  },
  {
   "cell_type": "code",
   "execution_count": 99,
   "id": "362df59d",
   "metadata": {},
   "outputs": [
    {
     "data": {
      "text/plain": [
       "0.010943127626373617"
      ]
     },
     "execution_count": 99,
     "metadata": {},
     "output_type": "execute_result"
    }
   ],
   "source": [
    "a32=alpha032(c, vwap)\n",
    "mi[32] = get_mutual_info_score(ret_fwd, a32)\n",
    "mi[32]"
   ]
  },
  {
   "cell_type": "code",
   "execution_count": null,
   "id": "644345d8",
   "metadata": {},
   "outputs": [],
   "source": []
  },
  {
   "cell_type": "markdown",
   "id": "08734dbb",
   "metadata": {},
   "source": [
    "alpha 33"
   ]
  },
  {
   "cell_type": "code",
   "execution_count": 100,
   "id": "08049aaf",
   "metadata": {},
   "outputs": [],
   "source": [
    "def alpha033(o, c):\n",
    "    \"\"\"rank(-(1 - (open / close)))\"\"\"\n",
    "    return (rank(o.div(c).mul(-1).add(1).mul(-1))\n",
    "            .stack('ticker')\n",
    "            .swaplevel())"
   ]
  },
  {
   "cell_type": "code",
   "execution_count": 101,
   "id": "1532a4c2",
   "metadata": {},
   "outputs": [
    {
     "data": {
      "text/plain": [
       "0.0059193018477587955"
      ]
     },
     "execution_count": 101,
     "metadata": {},
     "output_type": "execute_result"
    }
   ],
   "source": [
    "a33=alpha032(o, c)\n",
    "mi[33] = get_mutual_info_score(ret_fwd, a33)\n",
    "mi[33]"
   ]
  },
  {
   "cell_type": "code",
   "execution_count": null,
   "id": "9ed30fcf",
   "metadata": {},
   "outputs": [],
   "source": []
  },
  {
   "cell_type": "markdown",
   "id": "643c9cc0",
   "metadata": {},
   "source": [
    "alpha 34"
   ]
  },
  {
   "cell_type": "code",
   "execution_count": 102,
   "id": "13a3cd7c",
   "metadata": {},
   "outputs": [],
   "source": [
    "def alpha034(c, r):\n",
    "    \"\"\"rank(((1 - rank((ts_std(returns, 2) / ts_std(returns, 5)))) + (1 - rank(ts_delta(close, 1)))))\"\"\"\n",
    "\n",
    "    return (rank(rank(ts_std(r, 2).div(ts_std(r, 5))\n",
    "                      .replace([-np.inf, np.inf],\n",
    "                               np.nan))\n",
    "                 .mul(-1)\n",
    "                 .sub(rank(ts_delta(c, 1)))\n",
    "                 .add(2))\n",
    "            .stack('ticker')\n",
    "            .swaplevel())"
   ]
  },
  {
   "cell_type": "code",
   "execution_count": 103,
   "id": "e95801dc",
   "metadata": {},
   "outputs": [
    {
     "data": {
      "text/plain": [
       "0.093183327782274"
      ]
     },
     "execution_count": 103,
     "metadata": {},
     "output_type": "execute_result"
    }
   ],
   "source": [
    "a34=alpha034(c, r)\n",
    "mi[34] = get_mutual_info_score(ret_fwd, a34)\n",
    "mi[34]"
   ]
  },
  {
   "cell_type": "code",
   "execution_count": null,
   "id": "4f0a79aa",
   "metadata": {},
   "outputs": [],
   "source": []
  },
  {
   "cell_type": "code",
   "execution_count": null,
   "id": "89d8d893",
   "metadata": {},
   "outputs": [],
   "source": []
  },
  {
   "cell_type": "markdown",
   "id": "6ff68fbc",
   "metadata": {},
   "source": [
    "alpha 35"
   ]
  },
  {
   "cell_type": "code",
   "execution_count": 104,
   "id": "28ce3001",
   "metadata": {},
   "outputs": [],
   "source": [
    "def alpha035(h, l, c, v, r):\n",
    "    \"\"\"((ts_Rank(volume, 32) *\n",
    "        (1 - ts_Rank(((close + high) - low), 16))) *\n",
    "        (1 -ts_Rank(returns, 32)))\n",
    "    \"\"\"\n",
    "    return (ts_rank(v, 32)\n",
    "            .mul(1 - ts_rank(c.add(h).sub(l), 16))\n",
    "            .mul(1 - ts_rank(r, 32))\n",
    "            .stack('ticker')\n",
    "            .swaplevel())"
   ]
  },
  {
   "cell_type": "code",
   "execution_count": 105,
   "id": "d2cb7dd5",
   "metadata": {},
   "outputs": [
    {
     "data": {
      "text/plain": [
       "0.35171001667682056"
      ]
     },
     "execution_count": 105,
     "metadata": {},
     "output_type": "execute_result"
    }
   ],
   "source": [
    "a35=alpha035(h, l, c, v, r)\n",
    "mi[35] = get_mutual_info_score(ret_fwd, a35)\n",
    "mi[35]"
   ]
  },
  {
   "cell_type": "code",
   "execution_count": null,
   "id": "ac4fc4ce",
   "metadata": {},
   "outputs": [],
   "source": []
  },
  {
   "cell_type": "code",
   "execution_count": null,
   "id": "58b60b82",
   "metadata": {},
   "outputs": [],
   "source": []
  },
  {
   "cell_type": "markdown",
   "id": "c836b4a0",
   "metadata": {},
   "source": [
    "alpha 36"
   ]
  },
  {
   "cell_type": "code",
   "execution_count": 106,
   "id": "f04389ed",
   "metadata": {},
   "outputs": [],
   "source": [
    "def alpha036(o, c, v, r, adv20):\n",
    "    \"\"\"2.21 * rank(ts_corr((close - open), ts_lag(volume, 1), 15)) +\n",
    "        0.7 * rank((open- close)) +\n",
    "        0.73 * rank(ts_Rank(ts_lag(-1 * returns, 6), 5)) +\n",
    "        rank(abs(ts_corr(vwap,adv20, 6))) +\n",
    "        0.6 * rank(((ts_mean(close, 200) - open) * (close - open)))\n",
    "    \"\"\"\n",
    "\n",
    "    return (rank(ts_corr(c.sub(o), ts_lag(v, 1), 15)).mul(2.21)\n",
    "            .add(rank(o.sub(c)).mul(.7))\n",
    "            .add(rank(ts_rank(ts_lag(-r, 6), 5)).mul(0.73))\n",
    "            .add(rank(abs(ts_corr(vwap, adv20, 6))))\n",
    "            .add(rank(ts_mean(c, 200).sub(o).mul(c.sub(o))).mul(0.6))\n",
    "            .stack('ticker')\n",
    "            .swaplevel())"
   ]
  },
  {
   "cell_type": "code",
   "execution_count": 107,
   "id": "e9b29618",
   "metadata": {},
   "outputs": [
    {
     "data": {
      "text/plain": [
       "0.054660986128654"
      ]
     },
     "execution_count": 107,
     "metadata": {},
     "output_type": "execute_result"
    }
   ],
   "source": [
    "a36=alpha036(o, c, v, r, adv20)\n",
    "mi[36] = get_mutual_info_score(ret_fwd, a36)\n",
    "mi[36]"
   ]
  },
  {
   "cell_type": "code",
   "execution_count": null,
   "id": "a99385e0",
   "metadata": {},
   "outputs": [],
   "source": []
  },
  {
   "cell_type": "markdown",
   "id": "774768ec",
   "metadata": {},
   "source": [
    "alpha 37"
   ]
  },
  {
   "cell_type": "code",
   "execution_count": 108,
   "id": "6a1d7fc3",
   "metadata": {},
   "outputs": [],
   "source": [
    "def alpha037(o, c):\n",
    "    \"\"\"(rank(ts_corr(ts_lag((open - close), 1), close, 200)) + rank((open - close)))\"\"\"\n",
    "    return (rank(ts_corr(ts_lag(o.sub(c), 1), c, 200))\n",
    "            .add(rank(o.sub(c)))\n",
    "            .stack('ticker')\n",
    "            .swaplevel())"
   ]
  },
  {
   "cell_type": "code",
   "execution_count": 109,
   "id": "8cc003f7",
   "metadata": {},
   "outputs": [
    {
     "data": {
      "text/plain": [
       "0.09668951724357555"
      ]
     },
     "execution_count": 109,
     "metadata": {},
     "output_type": "execute_result"
    }
   ],
   "source": [
    "a37=alpha037(o, c)\n",
    "mi[37] = get_mutual_info_score(ret_fwd, a37)\n",
    "mi[37]"
   ]
  },
  {
   "cell_type": "code",
   "execution_count": null,
   "id": "63b4bd9b",
   "metadata": {},
   "outputs": [],
   "source": []
  },
  {
   "cell_type": "markdown",
   "id": "ee7e6dde",
   "metadata": {},
   "source": [
    "alpha 38"
   ]
  },
  {
   "cell_type": "code",
   "execution_count": 110,
   "id": "29f364aa",
   "metadata": {},
   "outputs": [],
   "source": [
    "def alpha038(o, c):\n",
    "    \"\"\"\"-1 * rank(ts_rank(close, 10)) * rank(close / open)\"\"\"\n",
    "    return (rank(ts_rank(o, 10))\n",
    "            .mul(rank(c.div(o).replace([-np.inf, np.inf], np.nan)))\n",
    "            .mul(-1)\n",
    "            .stack('ticker')\n",
    "            .swaplevel())"
   ]
  },
  {
   "cell_type": "code",
   "execution_count": 111,
   "id": "9fa30f13",
   "metadata": {},
   "outputs": [
    {
     "data": {
      "text/plain": [
       "0.1618698652140278"
      ]
     },
     "execution_count": 111,
     "metadata": {},
     "output_type": "execute_result"
    }
   ],
   "source": [
    "a38=alpha038(o, c)\n",
    "mi[38] = get_mutual_info_score(ret_fwd, a38)\n",
    "mi[38]"
   ]
  },
  {
   "cell_type": "code",
   "execution_count": null,
   "id": "8d350da9",
   "metadata": {},
   "outputs": [],
   "source": []
  },
  {
   "cell_type": "markdown",
   "id": "0c1478e5",
   "metadata": {},
   "source": [
    "alpha 39"
   ]
  },
  {
   "cell_type": "code",
   "execution_count": 112,
   "id": "e9eec526",
   "metadata": {},
   "outputs": [],
   "source": [
    "def alpha039(c, v, r, adv20):\n",
    "    \"\"\"-rank(ts_delta(close, 7) * (1 - rank(ts_weighted_mean(volume / adv20, 9)))) * \n",
    "            (1 + rank(ts_sum(returns, 250)))\"\"\"\n",
    "    return (rank(ts_delta(c, 7).mul(rank(ts_weighted_mean(v.div(adv20), 9)).mul(-1).add(1))).mul(-1)\n",
    "            .mul(rank(ts_mean(r, 250).add(1)))\n",
    "            .stack('ticker')\n",
    "            .swaplevel())"
   ]
  },
  {
   "cell_type": "markdown",
   "id": "224e7457",
   "metadata": {},
   "source": [
    "a39=alpha039(c, v, r, adv20)\n",
    "mi[39] = get_mutual_info_score(ret_fwd, a39)\n",
    "mi[39]"
   ]
  },
  {
   "cell_type": "code",
   "execution_count": null,
   "id": "83834bc5",
   "metadata": {},
   "outputs": [],
   "source": []
  },
  {
   "cell_type": "markdown",
   "id": "a408c152",
   "metadata": {},
   "source": [
    "alpha 40"
   ]
  },
  {
   "cell_type": "code",
   "execution_count": 113,
   "id": "2a32fe06",
   "metadata": {},
   "outputs": [],
   "source": [
    "def alpha040(h, v):\n",
    "    \"\"\"((-1 * rank(ts_std(high, 10))) * ts_corr(high, volume, 10))\n",
    "    \"\"\"\n",
    "    return (rank(ts_std(h, 10))\n",
    "            .mul(ts_corr(h, v, 10))\n",
    "            .mul(-1)\n",
    "            .stack('ticker')\n",
    "            .swaplevel())"
   ]
  },
  {
   "cell_type": "code",
   "execution_count": 114,
   "id": "ea196d02",
   "metadata": {},
   "outputs": [
    {
     "data": {
      "text/plain": [
       "0.01302829883452894"
      ]
     },
     "execution_count": 114,
     "metadata": {},
     "output_type": "execute_result"
    }
   ],
   "source": [
    "a40=alpha040(h, v)\n",
    "mi[40] = get_mutual_info_score(ret_fwd, a40)\n",
    "mi[40]"
   ]
  },
  {
   "cell_type": "code",
   "execution_count": null,
   "id": "386d131f",
   "metadata": {},
   "outputs": [],
   "source": []
  },
  {
   "cell_type": "markdown",
   "id": "d43d338d",
   "metadata": {},
   "source": [
    "alpha 41"
   ]
  },
  {
   "cell_type": "code",
   "execution_count": 115,
   "id": "fef42063",
   "metadata": {},
   "outputs": [],
   "source": [
    "def alpha041(h, l, vwap):\n",
    "    \"\"\"power(high * low, 0.5 - vwap\"\"\"\n",
    "    return (power(h.mul(l), 0.5)\n",
    "            .sub(vwap)\n",
    "            .stack('ticker')\n",
    "            .swaplevel())"
   ]
  },
  {
   "cell_type": "code",
   "execution_count": 116,
   "id": "516014fc",
   "metadata": {},
   "outputs": [
    {
     "data": {
      "text/plain": [
       "0.02420714128245738"
      ]
     },
     "execution_count": 116,
     "metadata": {},
     "output_type": "execute_result"
    }
   ],
   "source": [
    "a41=alpha041(h, l, vwap)\n",
    "mi[41] = get_mutual_info_score(ret_fwd, a41)\n",
    "mi[41]"
   ]
  },
  {
   "cell_type": "code",
   "execution_count": null,
   "id": "bce2c580",
   "metadata": {},
   "outputs": [],
   "source": []
  },
  {
   "cell_type": "markdown",
   "id": "e04ac46e",
   "metadata": {},
   "source": [
    "alpha 42"
   ]
  },
  {
   "cell_type": "code",
   "execution_count": 117,
   "id": "3a9d5914",
   "metadata": {},
   "outputs": [],
   "source": [
    "def alpha042(c, vwap):\n",
    "    \"\"\"rank(vwap - close) / rank(vwap + close)\"\"\"\n",
    "    return (rank(vwap.sub(c))\n",
    "            .div(rank(vwap.add(c)))\n",
    "            .stack('ticker')\n",
    "            .swaplevel())"
   ]
  },
  {
   "cell_type": "code",
   "execution_count": 118,
   "id": "2ad678dc",
   "metadata": {},
   "outputs": [
    {
     "data": {
      "text/plain": [
       "0.12553001557078858"
      ]
     },
     "execution_count": 118,
     "metadata": {},
     "output_type": "execute_result"
    }
   ],
   "source": [
    "a42=alpha042(c, vwap)\n",
    "mi[42] = get_mutual_info_score(ret_fwd, a42)\n",
    "mi[42]"
   ]
  },
  {
   "cell_type": "code",
   "execution_count": null,
   "id": "24f01bef",
   "metadata": {},
   "outputs": [],
   "source": []
  },
  {
   "cell_type": "markdown",
   "id": "069d2962",
   "metadata": {},
   "source": [
    "alpha 43"
   ]
  },
  {
   "cell_type": "code",
   "execution_count": 119,
   "id": "795b397a",
   "metadata": {},
   "outputs": [],
   "source": [
    "def alpha043(c, adv20):\n",
    "    \"\"\"(ts_rank((volume / adv20), 20) * ts_rank((-1 * ts_delta(close, 7)), 8))\"\"\"\n",
    "\n",
    "    return (ts_rank(v.div(adv20), 20)\n",
    "            .mul(ts_rank(ts_delta(c, 7).mul(-1), 8))\n",
    "            .stack('ticker')\n",
    "            .swaplevel())"
   ]
  },
  {
   "cell_type": "code",
   "execution_count": 120,
   "id": "1f345607",
   "metadata": {},
   "outputs": [
    {
     "data": {
      "text/plain": [
       "0.06143636534565422"
      ]
     },
     "execution_count": 120,
     "metadata": {},
     "output_type": "execute_result"
    }
   ],
   "source": [
    "a43=alpha043(c, adv20)\n",
    "mi[43] = get_mutual_info_score(ret_fwd, a43)\n",
    "mi[43]"
   ]
  },
  {
   "cell_type": "code",
   "execution_count": null,
   "id": "eb912759",
   "metadata": {},
   "outputs": [],
   "source": []
  },
  {
   "cell_type": "markdown",
   "id": "ff52b50a",
   "metadata": {},
   "source": [
    "alpha 44"
   ]
  },
  {
   "cell_type": "code",
   "execution_count": 121,
   "id": "5e4fbdcf",
   "metadata": {},
   "outputs": [],
   "source": [
    "def alpha044(h, v):\n",
    "    \"\"\"-ts_corr(high, rank(volume), 5)\"\"\"\n",
    "\n",
    "    return (ts_corr(h, rank(v), 5)\n",
    "            .replace([-np.inf, np.inf], np.nan)\n",
    "            .mul(-1)\n",
    "            .stack('ticker')\n",
    "            .swaplevel())"
   ]
  },
  {
   "cell_type": "code",
   "execution_count": 122,
   "id": "726c496b",
   "metadata": {},
   "outputs": [
    {
     "data": {
      "text/plain": [
       "0.029083478288827624"
      ]
     },
     "execution_count": 122,
     "metadata": {},
     "output_type": "execute_result"
    }
   ],
   "source": [
    "a44=alpha044(h, v)\n",
    "mi[44] = get_mutual_info_score(ret_fwd, a44)\n",
    "mi[44]"
   ]
  },
  {
   "cell_type": "code",
   "execution_count": null,
   "id": "b9fd3089",
   "metadata": {},
   "outputs": [],
   "source": []
  },
  {
   "cell_type": "markdown",
   "id": "20dc479e",
   "metadata": {},
   "source": [
    "alpha 45"
   ]
  },
  {
   "cell_type": "code",
   "execution_count": 123,
   "id": "a9d94af3",
   "metadata": {},
   "outputs": [],
   "source": [
    "def alpha045(c, v):\n",
    "    \"\"\"-(rank((ts_mean(ts_lag(close, 5), 20)) * \n",
    "        ts_corr(close, volume, 2)) *\n",
    "        rank(ts_corr(ts_sum(close, 5), ts_sum(close, 20), 2)))\"\"\"\n",
    "\n",
    "    return (rank(ts_mean(ts_lag(c, 5), 20))\n",
    "            .mul(ts_corr(c, v, 2)\n",
    "                 .replace([-np.inf, np.inf], np.nan))\n",
    "            .mul(rank(ts_corr(ts_sum(c, 5),\n",
    "                              ts_sum(c, 20), 2)))\n",
    "            .mul(-1)\n",
    "            .stack('ticker')\n",
    "            .swaplevel())"
   ]
  },
  {
   "cell_type": "code",
   "execution_count": 124,
   "id": "c0b46c6a",
   "metadata": {},
   "outputs": [
    {
     "data": {
      "text/plain": [
       "0.020104357142113116"
      ]
     },
     "execution_count": 124,
     "metadata": {},
     "output_type": "execute_result"
    }
   ],
   "source": [
    "a45=alpha045(c, v)\n",
    "mi[45] = get_mutual_info_score(ret_fwd, a45)\n",
    "mi[45]"
   ]
  },
  {
   "cell_type": "code",
   "execution_count": null,
   "id": "fc40d839",
   "metadata": {},
   "outputs": [],
   "source": []
  },
  {
   "cell_type": "markdown",
   "id": "244ea32d",
   "metadata": {},
   "source": [
    "alpha 46"
   ]
  },
  {
   "cell_type": "code",
   "execution_count": 125,
   "id": "f4c94598",
   "metadata": {},
   "outputs": [],
   "source": [
    "def alpha046(c):\n",
    "    \"\"\"0.25 < ts_lag(ts_delta(close, 10), 10) / 10 - ts_delta(close, 10) / 10\n",
    "            ? -1\n",
    "            : ((ts_lag(ts_delta(close, 10), 10) / 10 - ts_delta(close, 10) / 10 < 0) \n",
    "                ? 1 \n",
    "                : -ts_delta(close, 1))\n",
    "    \"\"\"\n",
    "\n",
    "    cond = ts_lag(ts_delta(c, 10), 10).div(10).sub(ts_delta(c, 10).div(10))\n",
    "    alpha = pd.DataFrame(-np.ones_like(cond),\n",
    "                         index=c.index,\n",
    "                         columns=c.columns)\n",
    "    alpha[cond.isnull()] = np.nan\n",
    "    return (cond.where(cond > 0.25,\n",
    "                       -alpha.where(cond < 0,\n",
    "                       -ts_delta(c, 1)))\n",
    "            .stack('ticker')\n",
    "            .swaplevel())"
   ]
  },
  {
   "cell_type": "code",
   "execution_count": 126,
   "id": "384f1b31",
   "metadata": {},
   "outputs": [
    {
     "data": {
      "text/plain": [
       "0.12513387933983866"
      ]
     },
     "execution_count": 126,
     "metadata": {},
     "output_type": "execute_result"
    }
   ],
   "source": [
    "a46=alpha046(c)\n",
    "mi[46] = get_mutual_info_score(ret_fwd, a46)\n",
    "mi[46]"
   ]
  },
  {
   "cell_type": "code",
   "execution_count": null,
   "id": "d49eccaa",
   "metadata": {},
   "outputs": [],
   "source": []
  },
  {
   "cell_type": "markdown",
   "id": "14b1e420",
   "metadata": {},
   "source": [
    "alpha 47"
   ]
  },
  {
   "cell_type": "code",
   "execution_count": 127,
   "id": "c75bee26",
   "metadata": {},
   "outputs": [],
   "source": [
    "def alpha047(h, c, v, vwap, adv20):\n",
    "    \"\"\"((((rank((1 / close)) * volume) / adv20) * ((high * rank((high - close))) / \n",
    "        (ts_sum(high, 5) /5))) - rank((vwap - ts_lag(vwap, 5))))\"\"\"\n",
    "\n",
    "    return (rank(c.pow(-1)).mul(v).div(adv20)\n",
    "            .mul(h.mul(rank(h.sub(c))\n",
    "                       .div(ts_mean(h, 5)))\n",
    "                 .sub(rank(ts_delta(vwap, 5))))\n",
    "            .stack('ticker')\n",
    "            .swaplevel())"
   ]
  },
  {
   "cell_type": "code",
   "execution_count": 128,
   "id": "e14eeed9",
   "metadata": {},
   "outputs": [
    {
     "data": {
      "text/plain": [
       "0.02873413353838039"
      ]
     },
     "execution_count": 128,
     "metadata": {},
     "output_type": "execute_result"
    }
   ],
   "source": [
    "a47=alpha047(h, c, v, vwap, adv20)\n",
    "mi[47] = get_mutual_info_score(ret_fwd, a47)\n",
    "mi[47]"
   ]
  },
  {
   "cell_type": "code",
   "execution_count": null,
   "id": "b19a1d2b",
   "metadata": {},
   "outputs": [],
   "source": []
  },
  {
   "cell_type": "markdown",
   "id": "83521afc",
   "metadata": {},
   "source": [
    "alpha 49"
   ]
  },
  {
   "cell_type": "code",
   "execution_count": 129,
   "id": "f129e036",
   "metadata": {},
   "outputs": [],
   "source": [
    "def alpha049(c):\n",
    "    \"\"\"ts_delta(ts_lag(close, 10), 10).div(10).sub(ts_delta(close, 10).div(10)) < -0.1 * c\n",
    "        ? 1 \n",
    "        : -ts_delta(close, 1)\"\"\"\n",
    "    cond = (ts_delta(ts_lag(c, 10), 10).div(10)\n",
    "            .sub(ts_delta(c, 10).div(10)) >= -0.1 * c)\n",
    "    return (-ts_delta(c, 1)\n",
    "            .where(cond, 1)\n",
    "            .stack('ticker')\n",
    "            .swaplevel())"
   ]
  },
  {
   "cell_type": "code",
   "execution_count": 130,
   "id": "5dfe46ed",
   "metadata": {},
   "outputs": [
    {
     "data": {
      "text/plain": [
       "1.150217545548712"
      ]
     },
     "execution_count": 130,
     "metadata": {},
     "output_type": "execute_result"
    }
   ],
   "source": [
    "a49=alpha049(c)\n",
    "mi[49] = get_mutual_info_score(ret_fwd, a49)\n",
    "mi[49]"
   ]
  },
  {
   "cell_type": "code",
   "execution_count": null,
   "id": "3f55b6fa",
   "metadata": {},
   "outputs": [],
   "source": []
  },
  {
   "cell_type": "markdown",
   "id": "6c181186",
   "metadata": {},
   "source": [
    "alpha 50"
   ]
  },
  {
   "cell_type": "code",
   "execution_count": 131,
   "id": "19fa2be3",
   "metadata": {},
   "outputs": [],
   "source": [
    "def alpha050(v, vwap):\n",
    "    \"\"\"-ts_max(rank(ts_corr(rank(volume), rank(vwap), 5)), 5)\"\"\"\n",
    "    return (ts_max(rank(ts_corr(rank(v),\n",
    "                                rank(vwap), 5)), 5)\n",
    "            .mul(-1)\n",
    "            .stack('ticker')\n",
    "            .swaplevel())"
   ]
  },
  {
   "cell_type": "code",
   "execution_count": 132,
   "id": "822ea9bb",
   "metadata": {},
   "outputs": [
    {
     "data": {
      "text/plain": [
       "0.015081233095003643"
      ]
     },
     "execution_count": 132,
     "metadata": {},
     "output_type": "execute_result"
    }
   ],
   "source": [
    "a50=alpha050(v, vwap)\n",
    "mi[50] = get_mutual_info_score(ret_fwd, a50)\n",
    "mi[50]"
   ]
  },
  {
   "cell_type": "code",
   "execution_count": null,
   "id": "23ab494c",
   "metadata": {},
   "outputs": [],
   "source": []
  },
  {
   "cell_type": "markdown",
   "id": "7ff19815",
   "metadata": {},
   "source": [
    "alpha 51"
   ]
  },
  {
   "cell_type": "code",
   "execution_count": 133,
   "id": "bc3ff3c0",
   "metadata": {},
   "outputs": [],
   "source": [
    "def alpha051(c):\n",
    "    \"\"\"ts_delta(ts_lag(close, 10), 10).div(10).sub(ts_delta(close, 10).div(10)) < -0.05 * c\n",
    "        ? 1 \n",
    "        : -ts_delta(close, 1)\"\"\"\n",
    "    cond = (ts_delta(ts_lag(c, 10), 10).div(10)\n",
    "            .sub(ts_delta(c, 10).div(10)) >= -0.05 * c)\n",
    "    return (-ts_delta(c, 1)\n",
    "            .where(cond, 1)\n",
    "            .stack('ticker')\n",
    "            .swaplevel())"
   ]
  },
  {
   "cell_type": "code",
   "execution_count": 134,
   "id": "e57e3f5c",
   "metadata": {},
   "outputs": [
    {
     "data": {
      "text/plain": [
       "1.1297740862057313"
      ]
     },
     "execution_count": 134,
     "metadata": {},
     "output_type": "execute_result"
    }
   ],
   "source": [
    "a51=alpha051(c)\n",
    "mi[51] = get_mutual_info_score(ret_fwd, a51)\n",
    "mi[51]"
   ]
  },
  {
   "cell_type": "code",
   "execution_count": null,
   "id": "a5a6e10f",
   "metadata": {},
   "outputs": [],
   "source": []
  },
  {
   "cell_type": "markdown",
   "id": "dfedbb33",
   "metadata": {},
   "source": [
    "alpha 52"
   ]
  },
  {
   "cell_type": "code",
   "execution_count": 135,
   "id": "d82691d8",
   "metadata": {},
   "outputs": [],
   "source": [
    "def alpha052(l, v, r):\n",
    "    \"\"\"(ts_lag(ts_min(low, 5), 5) - ts_min(low, 5)) * \n",
    "        rank((ts_sum(returns, 240) - ts_sum(returns, 20)) / 220) * \n",
    "        ts_rank(volume, 5)\n",
    "    \"\"\"\n",
    "    return (ts_delta(ts_min(l, 5), 5)\n",
    "            .mul(rank(ts_sum(r, 240)\n",
    "                      .sub(ts_sum(r, 20))\n",
    "                      .div(220)))\n",
    "            .mul(ts_rank(v, 5))\n",
    "            .stack('ticker')\n",
    "            .swaplevel())"
   ]
  },
  {
   "cell_type": "code",
   "execution_count": 136,
   "id": "9951d84e",
   "metadata": {},
   "outputs": [
    {
     "data": {
      "text/plain": [
       "0.03553218456178886"
      ]
     },
     "execution_count": 136,
     "metadata": {},
     "output_type": "execute_result"
    }
   ],
   "source": [
    "a52=alpha052(l, v, r)\n",
    "mi[52] = get_mutual_info_score(ret_fwd, a52)\n",
    "mi[52]"
   ]
  },
  {
   "cell_type": "code",
   "execution_count": null,
   "id": "fe2896a3",
   "metadata": {},
   "outputs": [],
   "source": []
  },
  {
   "cell_type": "markdown",
   "id": "37a8e52b",
   "metadata": {},
   "source": [
    "alpha 53"
   ]
  },
  {
   "cell_type": "code",
   "execution_count": 137,
   "id": "35010c47",
   "metadata": {},
   "outputs": [],
   "source": [
    "def alpha053(h, l, c):\n",
    "    \"\"\"-1 * ts_delta(1 - (high - close) / (close - low), 9)\"\"\"\n",
    "    inner = (c.sub(l)).add(1e-6)\n",
    "    return (ts_delta(h.sub(c)\n",
    "                     .mul(-1).add(1)\n",
    "                     .div(c.sub(l)\n",
    "                          .add(1e-6)), 9)\n",
    "            .mul(-1)\n",
    "            .stack('ticker')\n",
    "            .swaplevel())"
   ]
  },
  {
   "cell_type": "code",
   "execution_count": 138,
   "id": "6ef01fa9",
   "metadata": {},
   "outputs": [
    {
     "data": {
      "text/plain": [
       "0.0009090283217397799"
      ]
     },
     "execution_count": 138,
     "metadata": {},
     "output_type": "execute_result"
    }
   ],
   "source": [
    "a53=alpha053(h, l, c)\n",
    "mi[53] = get_mutual_info_score(ret_fwd, a53)\n",
    "mi[53]"
   ]
  },
  {
   "cell_type": "code",
   "execution_count": null,
   "id": "0f9e0019",
   "metadata": {},
   "outputs": [],
   "source": []
  },
  {
   "cell_type": "markdown",
   "id": "b07355f3",
   "metadata": {},
   "source": [
    "alpha 54"
   ]
  },
  {
   "cell_type": "code",
   "execution_count": 139,
   "id": "1c3a2adf",
   "metadata": {},
   "outputs": [],
   "source": [
    "def alpha054(o, h, l, c):\n",
    "    \"\"\"-(low - close) * power(open, 5) / ((low - high) * power(close, 5))\"\"\"\n",
    "    return (l.sub(c).mul(o.pow(5)).mul(-1)\n",
    "            .div(l.sub(h).replace(0, -0.0001).mul(c ** 5))\n",
    "            .stack('ticker')\n",
    "            .swaplevel())"
   ]
  },
  {
   "cell_type": "code",
   "execution_count": 140,
   "id": "331a3bd4",
   "metadata": {},
   "outputs": [
    {
     "data": {
      "text/plain": [
       "0.35520365474668036"
      ]
     },
     "execution_count": 140,
     "metadata": {},
     "output_type": "execute_result"
    }
   ],
   "source": [
    "a54=alpha054(o, h, l, c)\n",
    "mi[54] = get_mutual_info_score(ret_fwd, a54)\n",
    "mi[54]"
   ]
  },
  {
   "cell_type": "code",
   "execution_count": null,
   "id": "3e2030b9",
   "metadata": {},
   "outputs": [],
   "source": []
  },
  {
   "cell_type": "markdown",
   "id": "f2d025d9",
   "metadata": {},
   "source": [
    "alpha 55"
   ]
  },
  {
   "cell_type": "code",
   "execution_count": 141,
   "id": "1e51e4ac",
   "metadata": {},
   "outputs": [],
   "source": [
    "def alpha055(h, l, c):\n",
    "    \"\"\"(-1 * ts_corr(rank(((close - ts_min(low, 12)) / \n",
    "                            (ts_max(high, 12) - ts_min(low,12)))), \n",
    "                    rank(volume), 6))\"\"\"\n",
    "\n",
    "    return (ts_corr(rank(c.sub(ts_min(l, 12))\n",
    "                         .div(ts_max(h, 12).sub(ts_min(l, 12))\n",
    "                              .replace(0, 1e-6))),\n",
    "                    rank(v), 6)\n",
    "            .replace([-np.inf, np.inf], np.nan)\n",
    "            .mul(-1)\n",
    "            .stack('ticker')\n",
    "            .swaplevel())"
   ]
  },
  {
   "cell_type": "code",
   "execution_count": 142,
   "id": "cea00c56",
   "metadata": {},
   "outputs": [
    {
     "data": {
      "text/plain": [
       "0"
      ]
     },
     "execution_count": 142,
     "metadata": {},
     "output_type": "execute_result"
    }
   ],
   "source": [
    "a55=alpha055(h, l, c)\n",
    "mi[55] = get_mutual_info_score(ret_fwd, a55)\n",
    "mi[55]"
   ]
  },
  {
   "cell_type": "code",
   "execution_count": null,
   "id": "a12e6dcc",
   "metadata": {},
   "outputs": [],
   "source": []
  },
  {
   "cell_type": "markdown",
   "id": "c8ca5f32",
   "metadata": {},
   "source": [
    "alpha 57"
   ]
  },
  {
   "cell_type": "code",
   "execution_count": 143,
   "id": "0d0c31a9",
   "metadata": {},
   "outputs": [],
   "source": [
    "def alpha057(c, vwap):\n",
    "    \"\"\"-(close - vwap) / ts_weighted_mean(rank(ts_argmax(close, 30)), 2)\"\"\"\n",
    "    return (c.sub(vwap.add(1e-5))\n",
    "            .div(ts_weighted_mean(rank(ts_argmax(c, 30)))).mul(-1)\n",
    "            .stack('ticker')\n",
    "            .swaplevel())"
   ]
  },
  {
   "cell_type": "markdown",
   "id": "38440f17",
   "metadata": {},
   "source": [
    "a57=alpha057(c, vwap)\n",
    "mi[57] = get_mutual_info_score(ret_fwd, a57)\n",
    "mi[57]"
   ]
  },
  {
   "cell_type": "code",
   "execution_count": null,
   "id": "070e05f8",
   "metadata": {},
   "outputs": [],
   "source": []
  },
  {
   "cell_type": "markdown",
   "id": "dbba9189",
   "metadata": {},
   "source": [
    "alpha 60"
   ]
  },
  {
   "cell_type": "code",
   "execution_count": 144,
   "id": "505e6173",
   "metadata": {},
   "outputs": [],
   "source": [
    "def alpha060(l, h, c, v):\n",
    "    \"\"\"-((2 * scale(rank(((((close - low) - (high - close)) / (high - low)) * volume)))) -scale(rank(ts_argmax(close, 10))))\"\"\"\n",
    "    return (scale(rank(c.mul(2).sub(l).sub(h)\n",
    "                       .div(h.sub(l).replace(0, 1e-5))\n",
    "                       .mul(v))).mul(2)\n",
    "            .sub(scale(rank(ts_argmax(c, 10)))).mul(-1)\n",
    "            .stack('ticker')\n",
    "            .swaplevel())"
   ]
  },
  {
   "cell_type": "code",
   "execution_count": 145,
   "id": "8c6a989e",
   "metadata": {},
   "outputs": [
    {
     "data": {
      "text/plain": [
       "0.09179382697826899"
      ]
     },
     "execution_count": 145,
     "metadata": {},
     "output_type": "execute_result"
    }
   ],
   "source": [
    "a60=alpha060(l, h, c, v)\n",
    "mi[60] = get_mutual_info_score(ret_fwd, a60)\n",
    "mi[60]"
   ]
  },
  {
   "cell_type": "code",
   "execution_count": null,
   "id": "d12536fb",
   "metadata": {},
   "outputs": [],
   "source": []
  },
  {
   "cell_type": "code",
   "execution_count": null,
   "id": "47b95a62",
   "metadata": {},
   "outputs": [],
   "source": []
  },
  {
   "cell_type": "markdown",
   "id": "63a1ec9c",
   "metadata": {},
   "source": [
    "alpha 61"
   ]
  },
  {
   "cell_type": "code",
   "execution_count": 146,
   "id": "277b0443",
   "metadata": {},
   "outputs": [],
   "source": [
    "def alpha061(v, vwap):\n",
    "    \"\"\"rank((vwap - ts_min(vwap, 16))) < rank(ts_corr(vwap, adv180, 17))\"\"\"\n",
    "\n",
    "    return (rank(vwap.sub(ts_min(vwap, 16)))\n",
    "            .lt(rank(ts_corr(vwap, ts_mean(v, 180), 18)))\n",
    "            .astype(int)\n",
    "            .stack('ticker')\n",
    "            .swaplevel())"
   ]
  },
  {
   "cell_type": "code",
   "execution_count": 147,
   "id": "a40a1c4c",
   "metadata": {},
   "outputs": [
    {
     "data": {
      "text/plain": [
       "0.013030728289803006"
      ]
     },
     "execution_count": 147,
     "metadata": {},
     "output_type": "execute_result"
    }
   ],
   "source": [
    "a61=alpha061(v, vwap)\n",
    "mi[61] = get_mutual_info_score(ret_fwd, a61)\n",
    "mi[61]"
   ]
  },
  {
   "cell_type": "code",
   "execution_count": null,
   "id": "57ad3fbd",
   "metadata": {},
   "outputs": [],
   "source": []
  },
  {
   "cell_type": "markdown",
   "id": "f37ab033",
   "metadata": {},
   "source": [
    "alpha 62"
   ]
  },
  {
   "cell_type": "code",
   "execution_count": 148,
   "id": "b45ee6ce",
   "metadata": {},
   "outputs": [],
   "source": [
    "def alpha062(o, h, l, vwap, adv20):\n",
    "    \"\"\"((rank(ts_corr(vwap, ts_sum(adv20, 22.4101), 9.91009)) < \n",
    "    rank(((rank(open) + rank(open)) < (rank(((high + low) / 2)) + rank(high))))) * -1)\"\"\"\n",
    "    return (rank(ts_corr(vwap, ts_sum(adv20, 22), 9))\n",
    "            .lt(rank(\n",
    "                rank(o).mul(2))\n",
    "                .lt(rank(h.add(l).div(2))\n",
    "                    .add(rank(h))))\n",
    "            .mul(-1)\n",
    "            .stack('ticker')\n",
    "            .swaplevel())"
   ]
  },
  {
   "cell_type": "code",
   "execution_count": 149,
   "id": "2684c355",
   "metadata": {},
   "outputs": [
    {
     "data": {
      "text/plain": [
       "0"
      ]
     },
     "execution_count": 149,
     "metadata": {},
     "output_type": "execute_result"
    }
   ],
   "source": [
    "a62=alpha062(o, h, l, vwap, adv20)\n",
    "mi[62] = get_mutual_info_score(ret_fwd, a62)\n",
    "mi[62]"
   ]
  },
  {
   "cell_type": "code",
   "execution_count": null,
   "id": "e890ce36",
   "metadata": {},
   "outputs": [],
   "source": []
  },
  {
   "cell_type": "markdown",
   "id": "876422d1",
   "metadata": {},
   "source": [
    "alpha 64"
   ]
  },
  {
   "cell_type": "code",
   "execution_count": 150,
   "id": "03fbaf62",
   "metadata": {},
   "outputs": [],
   "source": [
    "def alpha064(o, h, l, v, vwap):\n",
    "    \"\"\"((rank(ts_corr(ts_sum(((open * 0.178404) + (low * (1 - 0.178404))), 12.7054),ts_sum(adv120, 12.7054), 16.6208)) <\n",
    "        rank(ts_delta(((((high + low) / 2) * 0.178404) + (vwap * (1 -0.178404))), 3.69741))) * -1)\"\"\"\n",
    "    w = 0.178404\n",
    "    return (rank(ts_corr(ts_sum(o.mul(w).add(l.mul(1 - w)), 12),\n",
    "                         ts_sum(ts_mean(v, 120), 12), 16))\n",
    "            .lt(rank(ts_delta(h.add(l).div(2).mul(w)\n",
    "                               .add(vwap.mul(1 - w)), 3)))\n",
    "            .mul(-1)\n",
    "            .stack('ticker')\n",
    "            .swaplevel())"
   ]
  },
  {
   "cell_type": "code",
   "execution_count": 151,
   "id": "89d1329f",
   "metadata": {},
   "outputs": [
    {
     "data": {
      "text/plain": [
       "0"
      ]
     },
     "execution_count": 151,
     "metadata": {},
     "output_type": "execute_result"
    }
   ],
   "source": [
    "a64=alpha062(o, h, l, v, vwap)\n",
    "mi[64] = get_mutual_info_score(ret_fwd, a64)\n",
    "mi[64]"
   ]
  },
  {
   "cell_type": "code",
   "execution_count": null,
   "id": "2e231e97",
   "metadata": {},
   "outputs": [],
   "source": []
  },
  {
   "cell_type": "markdown",
   "id": "501fa53b",
   "metadata": {},
   "source": [
    "alpha 65"
   ]
  },
  {
   "cell_type": "code",
   "execution_count": 152,
   "id": "d77dd65d",
   "metadata": {},
   "outputs": [],
   "source": [
    "def alpha065(o, v, vwap):\n",
    "    \"\"\"((rank(ts_corr(((open * 0.00817205) + (vwap * (1 - 0.00817205))), \n",
    "                        ts_sum(adv60,8.6911), 6.40374)) < \n",
    "        rank((open - ts_min(open, 13.635)))) * -1)\n",
    "    \"\"\"\n",
    "    w = 0.00817205\n",
    "    return (rank(ts_corr(o.mul(w).add(vwap.mul(1 - w)),\n",
    "                         ts_mean(ts_mean(v, 60), 9), 6))\n",
    "            .lt(rank(o.sub(ts_min(o, 13))))\n",
    "            .mul(-1)\n",
    "            .stack('ticker')\n",
    "            .swaplevel())"
   ]
  },
  {
   "cell_type": "code",
   "execution_count": 153,
   "id": "c20cf659",
   "metadata": {},
   "outputs": [
    {
     "data": {
      "text/plain": [
       "0.048665178779961016"
      ]
     },
     "execution_count": 153,
     "metadata": {},
     "output_type": "execute_result"
    }
   ],
   "source": [
    "a65=alpha065(o, v, vwap)\n",
    "mi[65] = get_mutual_info_score(ret_fwd, a65)\n",
    "mi[65]"
   ]
  },
  {
   "cell_type": "code",
   "execution_count": null,
   "id": "b65a85ca",
   "metadata": {},
   "outputs": [],
   "source": []
  },
  {
   "cell_type": "markdown",
   "id": "de96942a",
   "metadata": {},
   "source": [
    "alpha 66"
   ]
  },
  {
   "cell_type": "markdown",
   "id": "f08f06aa",
   "metadata": {},
   "source": [
    "def alpha066(l, h, vwap):\n",
    "    \"\"\"((rank(ts_weighted_mean(ts_delta(vwap, 3.51013), 7.23052)) +\n",
    "        ts_rank(ts_weighted_mean(((((low* 0.96633) + (low *\n",
    "                                    (1 - 0.96633))) - vwap) /\n",
    "                                    (open - ((high + low) / 2))), 11.4157), 6.72611)) * -1)\n",
    "    \"\"\"\n",
    "    w = 0.96633\n",
    "    return (rank(ts_weighted_mean(ts_delta(vwap, 4), 7))\n",
    "            .add(ts_rank(ts_weighted_mean(l.mul(w).add(l.mul(1 - w))\n",
    "                                           .sub(vwap)\n",
    "                                           .div(o.sub(h.add(l).div(2)).add(1e-3)), 11), 7))\n",
    "            .mul(-1)\n",
    "            .stack('ticker')\n",
    "            .swaplevel())\n"
   ]
  },
  {
   "cell_type": "markdown",
   "id": "4b0aa17e",
   "metadata": {},
   "source": [
    "\n",
    "a66=alpha066(l, h, vwap)\n",
    "mi[66] = get_mutual_info_score(ret_fwd, a66)\n",
    "mi[66]\n"
   ]
  },
  {
   "cell_type": "code",
   "execution_count": null,
   "id": "b8a60666",
   "metadata": {},
   "outputs": [],
   "source": []
  },
  {
   "cell_type": "markdown",
   "id": "159408cb",
   "metadata": {},
   "source": [
    "alpha 68"
   ]
  },
  {
   "cell_type": "code",
   "execution_count": 154,
   "id": "c553588f",
   "metadata": {},
   "outputs": [],
   "source": [
    "def alpha068(h, c, v):\n",
    "    \"\"\"((ts_rank(ts_corr(rank(high), rank(adv15), 8.91644), 13.9333) <\n",
    "        rank(ts_delta(((close * 0.518371) + (low * (1 - 0.518371))), 1.06157))) * -1)\n",
    "    \"\"\"\n",
    "    w = 0.518371\n",
    "    return (ts_rank(ts_corr(rank(h), rank(ts_mean(v, 15)), 9), 14)\n",
    "            .lt(rank(ts_delta(c.mul(w).add(l.mul(1 - w)), 1)))\n",
    "            .mul(-1)\n",
    "            .stack('ticker')\n",
    "            .swaplevel())"
   ]
  },
  {
   "cell_type": "code",
   "execution_count": 155,
   "id": "048d67fe",
   "metadata": {},
   "outputs": [
    {
     "data": {
      "text/plain": [
       "0"
      ]
     },
     "execution_count": 155,
     "metadata": {},
     "output_type": "execute_result"
    }
   ],
   "source": [
    "a68=alpha068(h, c, v)\n",
    "mi[68] = get_mutual_info_score(ret_fwd, a68)\n",
    "mi[68]"
   ]
  },
  {
   "cell_type": "code",
   "execution_count": null,
   "id": "93f02d81",
   "metadata": {},
   "outputs": [],
   "source": []
  },
  {
   "cell_type": "markdown",
   "id": "e58a4a0e",
   "metadata": {},
   "source": [
    "alpha 71"
   ]
  },
  {
   "cell_type": "markdown",
   "id": "c4694433",
   "metadata": {},
   "source": [
    "def alpha071(o, c, v, vwap):\n",
    "    \"\"\"max(ts_rank(ts_weighted_mean(ts_corr(ts_rank(close, 3.43976), ts_rank(adv180,12.0647), 18.0175), 4.20501), 15.6948), \n",
    "            ts_rank(ts_weighted_mean((rank(((low + open) - (vwap +vwap)))^2), 16.4662), 4.4388))\"\"\"\n",
    "\n",
    "    s1 = (ts_rank(ts_weighted_mean(ts_corr(ts_rank(c, 3),\n",
    "                                           ts_rank(ts_mean(v, 180), 12), 18), 4), 16))\n",
    "    s2 = (ts_rank(ts_weighted_mean(rank(l.add(o).\n",
    "                                        sub(vwap.mul(2)))\n",
    "                                   .pow(2), 16), 4))\n",
    "    return (s1.where(s1 > s2, s2)\n",
    "            .stack('ticker')\n",
    "            .swaplevel())"
   ]
  },
  {
   "cell_type": "markdown",
   "id": "67bb84e0",
   "metadata": {},
   "source": [
    "a71=alpha071(o, c, v, vwap)\n",
    "mi[71] = get_mutual_info_score(ret_fwd, a71)\n",
    "mi[71]"
   ]
  },
  {
   "cell_type": "code",
   "execution_count": null,
   "id": "4a41d2f9",
   "metadata": {},
   "outputs": [],
   "source": []
  },
  {
   "cell_type": "markdown",
   "id": "ca69a1eb",
   "metadata": {},
   "source": [
    "alpha 72"
   ]
  },
  {
   "cell_type": "markdown",
   "id": "6dd1ca24",
   "metadata": {},
   "source": [
    "def alpha072(h, l, v, vwap):\n",
    "    \"\"\"(rank(ts_weighted_mean(ts_corr(((high + low) / 2), adv40, 8.93345), 10.1519)) /\n",
    "        rank(ts_weighted_mean(ts_corr(ts_rank(vwap, 3.72469), ts_rank(volume, 18.5188), 6.86671), 2.95011)))\n",
    "    \"\"\"\n",
    "    return (rank(ts_weighted_mean(ts_corr(h.add(l).div(2), ts_mean(v, 40), 9), 10))\n",
    "            .div(rank(ts_weighted_mean(ts_corr(ts_rank(vwap, 3), ts_rank(v, 18), 6), 2)))\n",
    "            .stack('ticker')\n",
    "            .swaplevel())"
   ]
  },
  {
   "cell_type": "markdown",
   "id": "dc47386a",
   "metadata": {},
   "source": [
    "a72=alpha072(h, l, v, vwap)\n",
    "mi[72] = get_mutual_info_score(ret_fwd, a72)\n",
    "mi[72]"
   ]
  },
  {
   "cell_type": "code",
   "execution_count": null,
   "id": "b6fb5868",
   "metadata": {},
   "outputs": [],
   "source": []
  },
  {
   "cell_type": "markdown",
   "id": "e2dac21b",
   "metadata": {},
   "source": [
    "alpha 73"
   ]
  },
  {
   "cell_type": "markdown",
   "id": "83415cf2",
   "metadata": {},
   "source": [
    "def alpha073(l, vwap):\n",
    "    \"\"\"(max(rank(ts_weighted_mean(ts_delta(vwap, 4.72775), 2.91864)),\n",
    "        ts_rank(ts_weighted_mean(((ts_delta(((open * 0.147155) + \n",
    "            (low * (1 - 0.147155))), 2.03608) / \n",
    "            ((open *0.147155) + (low * (1 - 0.147155)))) * -1), 3.33829), 16.7411)) * -1)\n",
    "        \"\"\"\n",
    "    w = 0.147155\n",
    "    s1 = rank(ts_weighted_mean(ts_delta(vwap, 5), 3))\n",
    "    s2 = (ts_rank(ts_weighted_mean(ts_delta(o.mul(w).add(l.mul(1 - w)), 2)\n",
    "                                   .div(o.mul(w).add(l.mul(1 - w)).mul(-1)), 3), 16))\n",
    "\n",
    "    print(s2)\n",
    "    return (s1.where(s1 > s2, s2)\n",
    "            .mul(-1)\n",
    "            .stack('ticker')\n",
    "            .swaplevel())"
   ]
  },
  {
   "cell_type": "markdown",
   "id": "5b330df1",
   "metadata": {},
   "source": [
    "a73=alpha073(l,vwap)\n",
    "mi[73] = get_mutual_info_score(ret_fwd, a73)\n",
    "mi[73]"
   ]
  },
  {
   "cell_type": "code",
   "execution_count": null,
   "id": "0064652d",
   "metadata": {},
   "outputs": [],
   "source": []
  },
  {
   "cell_type": "markdown",
   "id": "14872b59",
   "metadata": {},
   "source": [
    "alpha 74"
   ]
  },
  {
   "cell_type": "code",
   "execution_count": 156,
   "id": "4d38b1f0",
   "metadata": {},
   "outputs": [],
   "source": [
    "def alpha074(v, vwap):\n",
    "    \"\"\"((rank(ts_corr(close, ts_sum(adv30, 37.4843), 15.1365)) <\n",
    "        rank(ts_corr(rank(((high * 0.0261661) + (vwap * (1 - 0.0261661)))), rank(volume), 11.4791)))* -1)\"\"\"\n",
    "\n",
    "    w = 0.0261661\n",
    "    return (rank(ts_corr(c, ts_mean(ts_mean(v, 30), 37), 15))\n",
    "            .lt(rank(ts_corr(rank(h.mul(w).add(vwap.mul(1 - w))), rank(v), 11)))\n",
    "            .mul(-1)\n",
    "            .stack('ticker')\n",
    "            .swaplevel())"
   ]
  },
  {
   "cell_type": "code",
   "execution_count": 157,
   "id": "afe4aee2",
   "metadata": {},
   "outputs": [
    {
     "data": {
      "text/plain": [
       "0.009177017091910766"
      ]
     },
     "execution_count": 157,
     "metadata": {},
     "output_type": "execute_result"
    }
   ],
   "source": [
    "a74=alpha074(v,vwap)\n",
    "mi[74] = get_mutual_info_score(ret_fwd, a74)\n",
    "mi[74]"
   ]
  },
  {
   "cell_type": "code",
   "execution_count": null,
   "id": "f8444171",
   "metadata": {},
   "outputs": [],
   "source": []
  },
  {
   "cell_type": "markdown",
   "id": "683d247f",
   "metadata": {},
   "source": [
    "alpha 75"
   ]
  },
  {
   "cell_type": "code",
   "execution_count": 158,
   "id": "912e27b0",
   "metadata": {},
   "outputs": [],
   "source": [
    "def alpha075(l, v, vwap):\n",
    "    \"\"\"(rank(ts_corr(vwap, volume, 4.24304)) < \n",
    "        rank(ts_corr(rank(low), rank(adv50),12.4413)))\n",
    "    \"\"\"\n",
    "\n",
    "    return (rank(ts_corr(vwap, v, 4))\n",
    "            .lt(rank(ts_corr(rank(l), rank(ts_mean(v, 50)), 12)))\n",
    "            .astype(int)\n",
    "            .stack('ticker')\n",
    "            .swaplevel())"
   ]
  },
  {
   "cell_type": "code",
   "execution_count": 159,
   "id": "d7c7b07c",
   "metadata": {},
   "outputs": [
    {
     "data": {
      "text/plain": [
       "0.0024680414315867427"
      ]
     },
     "execution_count": 159,
     "metadata": {},
     "output_type": "execute_result"
    }
   ],
   "source": [
    "a75=alpha075(l, v,vwap)\n",
    "mi[75] = get_mutual_info_score(ret_fwd, a75)\n",
    "mi[75]"
   ]
  },
  {
   "cell_type": "code",
   "execution_count": null,
   "id": "9cd13453",
   "metadata": {},
   "outputs": [],
   "source": []
  },
  {
   "cell_type": "markdown",
   "id": "1ac3318f",
   "metadata": {},
   "source": [
    "alpha 77"
   ]
  },
  {
   "cell_type": "markdown",
   "id": "645ced84",
   "metadata": {},
   "source": [
    "def alpha077(l, h, vwap):\n",
    "    \"\"\"min(rank(ts_weighted_mean(((((high + low) / 2) + high) - (vwap + high)), 20.0451)),\n",
    "            rank(ts_weighted_mean(ts_corr(((high + low) / 2), adv40, 3.1614), 5.64125)))\n",
    "    \"\"\"\n",
    "\n",
    "    s1 = rank(ts_weighted_mean(h.add(l).div(2).sub(vwap), 20))\n",
    "    s2 = rank(ts_weighted_mean(ts_corr(h.add(l).div(2), ts_mean(v, 40), 3), 5))\n",
    "    return (s1.where(s1 < s2, s2)\n",
    "            .stack('ticker')\n",
    "            .swaplevel())"
   ]
  },
  {
   "cell_type": "markdown",
   "id": "a0901475",
   "metadata": {},
   "source": [
    "a77=alpha077(l, h, vwap)\n",
    "mi[77] = get_mutual_info_score(ret_fwd, a77)\n",
    "mi[77]"
   ]
  },
  {
   "cell_type": "code",
   "execution_count": null,
   "id": "737fe8fe",
   "metadata": {},
   "outputs": [],
   "source": []
  },
  {
   "cell_type": "markdown",
   "id": "a8d84b0a",
   "metadata": {},
   "source": [
    "alpha 78"
   ]
  },
  {
   "cell_type": "code",
   "execution_count": 160,
   "id": "8dc1cf1a",
   "metadata": {},
   "outputs": [],
   "source": [
    "def alpha078(l, v, vwap):\n",
    "    \"\"\"(rank(ts_corr(ts_sum(((low * 0.352233) + (vwap * (1 - 0.352233))), 19.7428),\n",
    "        ts_sum(adv40, 19.7428), 6.83313))^rank(ts_corr(rank(vwap), rank(volume), 5.77492)))\"\"\"\n",
    "\n",
    "    w = 0.352233\n",
    "    return (rank(ts_corr(ts_sum((l.mul(w).add(vwap.mul(1 - w))), 19),\n",
    "                         ts_sum(ts_mean(v, 40), 19), 6))\n",
    "            .pow(rank(ts_corr(rank(vwap), rank(v), 5)))\n",
    "            .stack('ticker')\n",
    "            .swaplevel())"
   ]
  },
  {
   "cell_type": "code",
   "execution_count": 161,
   "id": "a4cd0ee4",
   "metadata": {},
   "outputs": [
    {
     "data": {
      "text/plain": [
       "0.05772212611796146"
      ]
     },
     "execution_count": 161,
     "metadata": {},
     "output_type": "execute_result"
    }
   ],
   "source": [
    "a78=alpha078(l, v, vwap)\n",
    "mi[78] = get_mutual_info_score(ret_fwd, a78)\n",
    "mi[78]"
   ]
  },
  {
   "cell_type": "code",
   "execution_count": null,
   "id": "51911f60",
   "metadata": {},
   "outputs": [],
   "source": []
  },
  {
   "cell_type": "markdown",
   "id": "9695b4d5",
   "metadata": {},
   "source": [
    "alpha 81"
   ]
  },
  {
   "cell_type": "code",
   "execution_count": 162,
   "id": "3e1acc44",
   "metadata": {},
   "outputs": [],
   "source": [
    "def alpha081(v, vwap):\n",
    "    \"\"\"-(rank(log(ts_product(rank((rank(ts_corr(vwap, ts_sum(adv10, 49.6054),8.47743))^4)), 14.9655))) <\n",
    "        rank(ts_corr(rank(vwap), rank(volume), 5.07914)))\"\"\"\n",
    "\n",
    "    return (rank(log(ts_product(rank(rank(ts_corr(vwap,\n",
    "                                                  ts_sum(ts_mean(v, 10), 50), 8))\n",
    "                                     .pow(4)), 15)))\n",
    "            .lt(rank(ts_corr(rank(vwap), rank(v), 5)))\n",
    "            .mul(-1)\n",
    "            .stack('ticker')\n",
    "            .swaplevel())"
   ]
  },
  {
   "cell_type": "code",
   "execution_count": 163,
   "id": "815603c6",
   "metadata": {},
   "outputs": [
    {
     "data": {
      "text/plain": [
       "0"
      ]
     },
     "execution_count": 163,
     "metadata": {},
     "output_type": "execute_result"
    }
   ],
   "source": [
    "a81=alpha081(v, vwap)\n",
    "mi[81] = get_mutual_info_score(ret_fwd, a81)\n",
    "mi[81]"
   ]
  },
  {
   "cell_type": "code",
   "execution_count": null,
   "id": "0b622323",
   "metadata": {},
   "outputs": [],
   "source": []
  },
  {
   "cell_type": "markdown",
   "id": "f71c999b",
   "metadata": {},
   "source": [
    "alpha 83"
   ]
  },
  {
   "cell_type": "code",
   "execution_count": 164,
   "id": "7ad5fca5",
   "metadata": {},
   "outputs": [],
   "source": [
    "def alpha083(h, l, c):\n",
    "    \"\"\"(rank(ts_lag((high - low) / ts_mean(close, 5), 2)) * rank(rank(volume)) / \n",
    "            (((high - low) / ts_mean(close, 5) / (vwap - close)))\n",
    "    \"\"\"\n",
    "    s = h.sub(l).div(ts_mean(c, 5))\n",
    "\n",
    "    return (rank(rank(ts_lag(s, 2))\n",
    "                 .mul(rank(rank(v)))\n",
    "                 .div(s).div(vwap.sub(c).add(1e-3)))\n",
    "            .stack('ticker')\n",
    "            .swaplevel()\n",
    "            .replace((np.inf, -np.inf), np.nan))"
   ]
  },
  {
   "cell_type": "code",
   "execution_count": 165,
   "id": "d06c9c08",
   "metadata": {},
   "outputs": [
    {
     "data": {
      "text/plain": [
       "0.10376351600062783"
      ]
     },
     "execution_count": 165,
     "metadata": {},
     "output_type": "execute_result"
    }
   ],
   "source": [
    "a83=alpha083(h, l, c)\n",
    "mi[83] = get_mutual_info_score(ret_fwd, a83)\n",
    "mi[83]"
   ]
  },
  {
   "cell_type": "code",
   "execution_count": null,
   "id": "e90c51c9",
   "metadata": {},
   "outputs": [],
   "source": []
  },
  {
   "cell_type": "markdown",
   "id": "f3ef6d50",
   "metadata": {},
   "source": [
    "alpha 84"
   ]
  },
  {
   "cell_type": "code",
   "execution_count": 166,
   "id": "08f82b7a",
   "metadata": {},
   "outputs": [],
   "source": [
    "def alpha084(c, vwap):\n",
    "    \"\"\"power(ts_rank((vwap - ts_max(vwap, 15.3217)), 20.7127), \n",
    "        ts_delta(close,4.96796))\"\"\"\n",
    "    return (rank(power(ts_rank(vwap.sub(ts_max(vwap, 15)), 20),\n",
    "                       ts_delta(c, 6)))\n",
    "            .stack('ticker')\n",
    "            .swaplevel())"
   ]
  },
  {
   "cell_type": "code",
   "execution_count": 167,
   "id": "cb3f7c1f",
   "metadata": {},
   "outputs": [
    {
     "data": {
      "text/plain": [
       "0"
      ]
     },
     "execution_count": 167,
     "metadata": {},
     "output_type": "execute_result"
    }
   ],
   "source": [
    "a84=alpha084(c, vwap)\n",
    "mi[84] = get_mutual_info_score(ret_fwd, a84)\n",
    "mi[84]"
   ]
  },
  {
   "cell_type": "code",
   "execution_count": null,
   "id": "25e3ef0b",
   "metadata": {},
   "outputs": [],
   "source": []
  },
  {
   "cell_type": "markdown",
   "id": "ab30b656",
   "metadata": {},
   "source": [
    "alpha 85"
   ]
  },
  {
   "cell_type": "code",
   "execution_count": 168,
   "id": "058ca097",
   "metadata": {},
   "outputs": [],
   "source": [
    "def alpha085(l, v):\n",
    "    \"\"\"power(rank(ts_corr(((high * 0.876703) + (close * (1 - 0.876703))), adv30,9.61331)),\n",
    "        rank(ts_corr(ts_rank(((high + low) / 2), 3.70596), \n",
    "                     ts_rank(volume, 10.1595),7.11408)))\n",
    "                     \"\"\"\n",
    "    w = 0.876703\n",
    "    return (rank(ts_corr(h.mul(w).add(c.mul(1 - w)), ts_mean(v, 30), 10))\n",
    "            .pow(rank(ts_corr(ts_rank(h.add(l).div(2), 4),\n",
    "                              ts_rank(v, 10), 7)))\n",
    "            .stack('ticker')\n",
    "            .swaplevel())"
   ]
  },
  {
   "cell_type": "code",
   "execution_count": 169,
   "id": "4c94b8a2",
   "metadata": {},
   "outputs": [
    {
     "data": {
      "text/plain": [
       "0"
      ]
     },
     "execution_count": 169,
     "metadata": {},
     "output_type": "execute_result"
    }
   ],
   "source": [
    "a85=alpha085(l, v)\n",
    "mi[85] = get_mutual_info_score(ret_fwd, a85)\n",
    "mi[85]"
   ]
  },
  {
   "cell_type": "code",
   "execution_count": null,
   "id": "bfcc9fac",
   "metadata": {},
   "outputs": [],
   "source": []
  },
  {
   "cell_type": "markdown",
   "id": "f4646f17",
   "metadata": {},
   "source": [
    "alpha 86"
   ]
  },
  {
   "cell_type": "code",
   "execution_count": 170,
   "id": "561113a5",
   "metadata": {},
   "outputs": [],
   "source": [
    "def alpha086(c, v, vwap):\n",
    "    \"\"\"((ts_rank(ts_corr(close, ts_sum(adv20, 14.7444), 6.00049), 20.4195) < \n",
    "        rank(((open + close) - (vwap + open)))) * -1)\n",
    "    \"\"\"\n",
    "    return (ts_rank(ts_corr(c, ts_mean(ts_mean(v, 20), 15), 6), 20)\n",
    "            .lt(rank(c.sub(vwap)))\n",
    "            .mul(-1)\n",
    "            .stack('ticker')\n",
    "            .swaplevel())"
   ]
  },
  {
   "cell_type": "code",
   "execution_count": 171,
   "id": "9b132b84",
   "metadata": {},
   "outputs": [
    {
     "data": {
      "text/plain": [
       "0"
      ]
     },
     "execution_count": 171,
     "metadata": {},
     "output_type": "execute_result"
    }
   ],
   "source": [
    "a86=alpha086(c, v, vwap)\n",
    "mi[86] = get_mutual_info_score(ret_fwd, a86)\n",
    "mi[86]"
   ]
  },
  {
   "cell_type": "code",
   "execution_count": null,
   "id": "089e7d2f",
   "metadata": {},
   "outputs": [],
   "source": []
  },
  {
   "cell_type": "markdown",
   "id": "e14273a0",
   "metadata": {},
   "source": [
    "alpha 88"
   ]
  },
  {
   "cell_type": "markdown",
   "id": "250ad8d5",
   "metadata": {},
   "source": [
    "def alpha088(o, h, l, c, v):\n",
    "    \"\"\"min(rank(ts_weighted_mean(((rank(open) + rank(low)) - (rank(high) + rank(close))),8.06882)), \n",
    "        ts_rank(ts_weighted_mean(ts_corr(ts_rank(close, 8.44728), \n",
    "                ts_rank(adv60,20.6966), 8.01266), 6.65053), 2.61957))\"\"\"\n",
    "\n",
    "    s1 = (rank(ts_weighted_mean(rank(o)\n",
    "                                .add(rank(l))\n",
    "                                .sub(rank(h))\n",
    "                                .add(rank(c)), 8)))\n",
    "    s2 = ts_rank(ts_weighted_mean(ts_corr(ts_rank(c, 8),\n",
    "                                          ts_rank(ts_mean(v, 60), 20), 8), 6), 2)\n",
    "\n",
    "    return (s1.where(s1 < s2, s2)\n",
    "            .stack('ticker')\n",
    "            .swaplevel())"
   ]
  },
  {
   "cell_type": "markdown",
   "id": "7b3332d8",
   "metadata": {},
   "source": [
    "a88=alpha088(o, h, l, c, v)\n",
    "mi[88] = get_mutual_info_score(ret_fwd, a88)\n",
    "mi[88]"
   ]
  },
  {
   "cell_type": "markdown",
   "id": "d83ca372",
   "metadata": {},
   "source": [
    "alpha  92"
   ]
  },
  {
   "cell_type": "code",
   "execution_count": 172,
   "id": "e30343d4",
   "metadata": {},
   "outputs": [],
   "source": [
    "def alpha092(o, l, c, v):\n",
    "    \"\"\"min(ts_rank(ts_weighted_mean(((((high + low) / 2) + close) < (low + open)), 14.7221),18.8683), \n",
    "            ts_rank(ts_weighted_mean(ts_corr(rank(low), rank(adv30), 7.58555), 6.94024),6.80584))\n",
    "    \"\"\"\n",
    "    p1 = ts_rank(ts_weighted_mean(h.add(l).div(2).add(c).lt(l.add(o)), 15), 18)\n",
    "    p2 = ts_rank(ts_weighted_mean(ts_corr(rank(l), rank(ts_mean(v, 30)), 7), 6), 6)\n",
    "\n",
    "    return (p1.where(p1<p2, p2)\n",
    "            .stack('ticker')\n",
    "            .swaplevel())"
   ]
  },
  {
   "cell_type": "markdown",
   "id": "0e5d9692",
   "metadata": {},
   "source": [
    "a92=alpha092(o, l, c, v)\n",
    "mi[92] = get_mutual_info_score(ret_fwd, a92)\n",
    "mi[92]"
   ]
  },
  {
   "cell_type": "code",
   "execution_count": null,
   "id": "8d01b6b5",
   "metadata": {},
   "outputs": [],
   "source": []
  },
  {
   "cell_type": "markdown",
   "id": "5b05020d",
   "metadata": {},
   "source": [
    "alpha 94"
   ]
  },
  {
   "cell_type": "code",
   "execution_count": 173,
   "id": "ea76df80",
   "metadata": {},
   "outputs": [],
   "source": [
    "def alpha094(v, vwap):\n",
    "    \"\"\"((rank((vwap - ts_min(vwap, 11.5783)))^ts_rank(ts_corr(ts_rank(vwap,19.6462), \n",
    "        ts_rank(adv60, 4.02992), 18.0926), 2.70756)) * -1)\n",
    "    \"\"\"\n",
    "\n",
    "    return (rank(vwap.sub(ts_min(vwap, 11)))\n",
    "            .pow(ts_rank(ts_corr(ts_rank(vwap, 20),\n",
    "                                 ts_rank(ts_mean(v, 60), 4), 18), 2))\n",
    "            .mul(-1)\n",
    "            .stack('ticker')\n",
    "            .swaplevel())"
   ]
  },
  {
   "cell_type": "code",
   "execution_count": 174,
   "id": "3b9f239d",
   "metadata": {},
   "outputs": [
    {
     "data": {
      "text/plain": [
       "0.010154997321268233"
      ]
     },
     "execution_count": 174,
     "metadata": {},
     "output_type": "execute_result"
    }
   ],
   "source": [
    "a94=alpha094(v, vwap)\n",
    "mi[94] = get_mutual_info_score(ret_fwd, a94)\n",
    "mi[94]"
   ]
  },
  {
   "cell_type": "code",
   "execution_count": null,
   "id": "3431aca6",
   "metadata": {},
   "outputs": [],
   "source": []
  },
  {
   "cell_type": "markdown",
   "id": "1960fe65",
   "metadata": {},
   "source": [
    "alpha 95"
   ]
  },
  {
   "cell_type": "code",
   "execution_count": 175,
   "id": "fb2e7646",
   "metadata": {},
   "outputs": [],
   "source": [
    "def alpha095(o, l, v):\n",
    "    \"\"\"(rank((open - ts_min(open, 12.4105))) < \n",
    "        ts_rank((rank(ts_corr(ts_sum(((high + low)/ 2), 19.1351), ts_sum(adv40, 19.1351), 12.8742))^5), 11.7584))\n",
    "    \"\"\"\n",
    "    \n",
    "    return (rank(o.sub(ts_min(o, 12)))\n",
    "            .lt(ts_rank(rank(ts_corr(ts_mean(h.add(l).div(2), 19),\n",
    "                                     ts_sum(ts_mean(v, 40), 19), 13).pow(5)), 12))\n",
    "            .astype(int)\n",
    "            .stack('ticker')\n",
    "            .swaplevel())"
   ]
  },
  {
   "cell_type": "code",
   "execution_count": 176,
   "id": "926d66a2",
   "metadata": {},
   "outputs": [
    {
     "data": {
      "text/plain": [
       "0"
      ]
     },
     "execution_count": 176,
     "metadata": {},
     "output_type": "execute_result"
    }
   ],
   "source": [
    "a95=alpha095(o, l, v)\n",
    "mi[95] = get_mutual_info_score(ret_fwd, a95)\n",
    "mi[95]"
   ]
  },
  {
   "cell_type": "code",
   "execution_count": null,
   "id": "19151a4b",
   "metadata": {},
   "outputs": [],
   "source": []
  },
  {
   "cell_type": "markdown",
   "id": "2605b182",
   "metadata": {},
   "source": [
    "alpha 96"
   ]
  },
  {
   "cell_type": "code",
   "execution_count": 177,
   "id": "2b197517",
   "metadata": {},
   "outputs": [],
   "source": [
    "def alpha096(c, v, vwap):\n",
    "    \"\"\"(max(ts_rank(ts_weighted_mean(ts_corr(rank(vwap), rank(volume), 5.83878),4.16783), 8.38151), \n",
    "        ts_rank(ts_weighted_mean(ts_argmax(ts_corr(ts_rank(close, 7.45404), ts_rank(adv60, 4.13242), 3.65459), 12.6556), 14.0365), 13.4143)) * -1)\"\"\"\n",
    "    \n",
    "    s1 = ts_rank(ts_weighted_mean(ts_corr(rank(vwap), rank(v), 10), 4), 8)\n",
    "    s2 = ts_rank(ts_weighted_mean(ts_argmax(ts_corr(ts_rank(c, 7),\n",
    "                                                    ts_rank(ts_mean(v, 60), 10), 10), 12), 14), 13)\n",
    "    return (s1.where(s1 > s2, s2)\n",
    "            .mul(-1)\n",
    "            .stack('ticker')\n",
    "            .swaplevel())"
   ]
  },
  {
   "cell_type": "markdown",
   "id": "9966b44c",
   "metadata": {},
   "source": [
    "a96=alpha096(c, v, vwap)\n",
    "mi[96] = get_mutual_info_score(ret_fwd, a96)\n",
    "mi[96]"
   ]
  },
  {
   "cell_type": "markdown",
   "id": "fc8a41a9",
   "metadata": {},
   "source": [
    "alpha 98"
   ]
  },
  {
   "cell_type": "code",
   "execution_count": 178,
   "id": "ad08e859",
   "metadata": {},
   "outputs": [],
   "source": [
    "def alpha098(o, v, vwap):\n",
    "    \"\"\"(rank(ts_weighted_mean(ts_corr(vwap, ts_sum(adv5, 26.4719), 4.58418), 7.18088)) -\n",
    "        rank(ts_weighted_mean(ts_tank(ts_argmin(ts_corr(rank(open), \n",
    "        rank(adv15), 20.8187), 8.62571),6.95668), 8.07206)))\n",
    "    \"\"\"\n",
    "    adv5 = ts_mean(v, 5)\n",
    "    adv15 = ts_mean(v, 15)\n",
    "    return (rank(ts_weighted_mean(ts_corr(vwap, ts_mean(adv5, 26), 4), 7))\n",
    "            .sub(rank(ts_weighted_mean(ts_rank(ts_argmin(ts_corr(rank(o),\n",
    "                                                                 rank(adv15), 20), 8), 6))))\n",
    "            .stack('ticker')\n",
    "            .swaplevel())"
   ]
  },
  {
   "cell_type": "markdown",
   "id": "3bf02922",
   "metadata": {},
   "source": [
    "a98=alpha098(o, v, vwap)\n",
    "mi[98] = get_mutual_info_score(ret_fwd, a98)\n",
    "mi[98]"
   ]
  },
  {
   "cell_type": "markdown",
   "id": "ce93bcd9",
   "metadata": {},
   "source": [
    "alpha 99"
   ]
  },
  {
   "cell_type": "code",
   "execution_count": 179,
   "id": "69419b0d",
   "metadata": {},
   "outputs": [],
   "source": [
    "def alpha099(l, v):\n",
    "    \"\"\"((rank(ts_corr(ts_sum(((high + low) / 2), 19.8975), \n",
    "                    ts_sum(adv60, 19.8975), 8.8136)) <\n",
    "                    rank(ts_corr(low, volume, 6.28259))) * -1)\"\"\"\n",
    "\n",
    "    return ((rank(ts_corr(ts_sum((h.add(l).div(2)), 19),\n",
    "                          ts_sum(ts_mean(v, 60), 19), 8))\n",
    "             .lt(rank(ts_corr(l, v, 6)))\n",
    "             .mul(-1))\n",
    "            .stack('ticker')\n",
    "            .swaplevel())"
   ]
  },
  {
   "cell_type": "code",
   "execution_count": 180,
   "id": "9cdc9acc",
   "metadata": {},
   "outputs": [
    {
     "data": {
      "text/plain": [
       "0.02276968700855808"
      ]
     },
     "execution_count": 180,
     "metadata": {},
     "output_type": "execute_result"
    }
   ],
   "source": [
    "a99=alpha099(l, v)\n",
    "mi[99] = get_mutual_info_score(ret_fwd, a99)\n",
    "mi[99]"
   ]
  },
  {
   "cell_type": "code",
   "execution_count": null,
   "id": "99ef4cdf",
   "metadata": {},
   "outputs": [],
   "source": []
  },
  {
   "cell_type": "markdown",
   "id": "7e42d69f",
   "metadata": {},
   "source": [
    "alpha 101"
   ]
  },
  {
   "cell_type": "code",
   "execution_count": 181,
   "id": "0cc059fe",
   "metadata": {},
   "outputs": [],
   "source": [
    "def alpha101(o, h, l, c):\n",
    "    \"\"\"((close - open) / ((high - low) + .001))\"\"\"\n",
    "    return (c.sub(o).div(h.sub(l).add(1e-3))\n",
    "            .stack('ticker')\n",
    "            .swaplevel())"
   ]
  },
  {
   "cell_type": "code",
   "execution_count": 182,
   "id": "effa3449",
   "metadata": {},
   "outputs": [
    {
     "data": {
      "text/plain": [
       "0.5830938857494967"
      ]
     },
     "execution_count": 182,
     "metadata": {},
     "output_type": "execute_result"
    }
   ],
   "source": [
    "a101=alpha101(o, h, l, c)\n",
    "mi[101] = get_mutual_info_score(ret_fwd, a101)\n",
    "mi[101]"
   ]
  },
  {
   "cell_type": "code",
   "execution_count": null,
   "id": "9e6a03a8",
   "metadata": {},
   "outputs": [],
   "source": []
  },
  {
   "cell_type": "code",
   "execution_count": null,
   "id": "737db1ff",
   "metadata": {},
   "outputs": [],
   "source": []
  },
  {
   "cell_type": "markdown",
   "id": "a961c7da",
   "metadata": {},
   "source": [
    "# alpha selection"
   ]
  },
  {
   "cell_type": "code",
   "execution_count": 183,
   "id": "ce7d28c3",
   "metadata": {},
   "outputs": [],
   "source": [
    "sorted_mi = dict(sorted(mi.items(), reverse=True, key=lambda item: item[1]))"
   ]
  },
  {
   "cell_type": "code",
   "execution_count": 184,
   "id": "aae10b71",
   "metadata": {},
   "outputs": [],
   "source": [
    "lst=[]\n",
    "df_lst=[]\n",
    "for i in sorted_mi.keys():\n",
    "    lst.append('a'+str(i))\n",
    "    df_lst.append(locals()['a'+str(i)])"
   ]
  },
  {
   "cell_type": "code",
   "execution_count": 185,
   "id": "55a3c7e1",
   "metadata": {},
   "outputs": [],
   "source": [
    "result = pd.concat(df_lst, axis=1, keys = lst)"
   ]
  },
  {
   "cell_type": "code",
   "execution_count": 186,
   "id": "ab8d20a7",
   "metadata": {},
   "outputs": [],
   "source": [
    "result = result[result.index.get_level_values('Date') >='2020/02/01']"
   ]
  },
  {
   "cell_type": "code",
   "execution_count": 187,
   "id": "c5a54a1f",
   "metadata": {},
   "outputs": [
    {
     "data": {
      "text/html": [
       "<div>\n",
       "<style scoped>\n",
       "    .dataframe tbody tr th:only-of-type {\n",
       "        vertical-align: middle;\n",
       "    }\n",
       "\n",
       "    .dataframe tbody tr th {\n",
       "        vertical-align: top;\n",
       "    }\n",
       "\n",
       "    .dataframe thead th {\n",
       "        text-align: right;\n",
       "    }\n",
       "</style>\n",
       "<table border=\"1\" class=\"dataframe\">\n",
       "  <thead>\n",
       "    <tr style=\"text-align: right;\">\n",
       "      <th></th>\n",
       "      <th></th>\n",
       "      <th>a49</th>\n",
       "      <th>a51</th>\n",
       "      <th>a9</th>\n",
       "      <th>a101</th>\n",
       "      <th>a12</th>\n",
       "      <th>a54</th>\n",
       "      <th>a35</th>\n",
       "      <th>a10</th>\n",
       "      <th>a25</th>\n",
       "      <th>a28</th>\n",
       "      <th>...</th>\n",
       "      <th>a30</th>\n",
       "      <th>a55</th>\n",
       "      <th>a62</th>\n",
       "      <th>a64</th>\n",
       "      <th>a68</th>\n",
       "      <th>a81</th>\n",
       "      <th>a84</th>\n",
       "      <th>a85</th>\n",
       "      <th>a86</th>\n",
       "      <th>a95</th>\n",
       "    </tr>\n",
       "    <tr>\n",
       "      <th>ticker</th>\n",
       "      <th>Date</th>\n",
       "      <th></th>\n",
       "      <th></th>\n",
       "      <th></th>\n",
       "      <th></th>\n",
       "      <th></th>\n",
       "      <th></th>\n",
       "      <th></th>\n",
       "      <th></th>\n",
       "      <th></th>\n",
       "      <th></th>\n",
       "      <th></th>\n",
       "      <th></th>\n",
       "      <th></th>\n",
       "      <th></th>\n",
       "      <th></th>\n",
       "      <th></th>\n",
       "      <th></th>\n",
       "      <th></th>\n",
       "      <th></th>\n",
       "      <th></th>\n",
       "      <th></th>\n",
       "    </tr>\n",
       "  </thead>\n",
       "  <tbody>\n",
       "    <tr>\n",
       "      <th rowspan=\"5\" valign=\"top\">AAPL</th>\n",
       "      <th>2021/01/05</th>\n",
       "      <td>-1.000000</td>\n",
       "      <td>-1.000000</td>\n",
       "      <td>NaN</td>\n",
       "      <td>0.640286</td>\n",
       "      <td>NaN</td>\n",
       "      <td>-0.718397</td>\n",
       "      <td>NaN</td>\n",
       "      <td>NaN</td>\n",
       "      <td>NaN</td>\n",
       "      <td>NaN</td>\n",
       "      <td>...</td>\n",
       "      <td>NaN</td>\n",
       "      <td>NaN</td>\n",
       "      <td>0</td>\n",
       "      <td>0</td>\n",
       "      <td>0</td>\n",
       "      <td>0</td>\n",
       "      <td>NaN</td>\n",
       "      <td>NaN</td>\n",
       "      <td>0</td>\n",
       "      <td>0</td>\n",
       "    </tr>\n",
       "    <tr>\n",
       "      <th>2021/01/06</th>\n",
       "      <td>-1.000000</td>\n",
       "      <td>-1.000000</td>\n",
       "      <td>4.409996</td>\n",
       "      <td>-0.239778</td>\n",
       "      <td>4.409996</td>\n",
       "      <td>-0.049230</td>\n",
       "      <td>NaN</td>\n",
       "      <td>0.758242</td>\n",
       "      <td>NaN</td>\n",
       "      <td>NaN</td>\n",
       "      <td>...</td>\n",
       "      <td>NaN</td>\n",
       "      <td>NaN</td>\n",
       "      <td>0</td>\n",
       "      <td>0</td>\n",
       "      <td>0</td>\n",
       "      <td>0</td>\n",
       "      <td>NaN</td>\n",
       "      <td>NaN</td>\n",
       "      <td>0</td>\n",
       "      <td>0</td>\n",
       "    </tr>\n",
       "    <tr>\n",
       "      <th>2021/01/07</th>\n",
       "      <td>-1.000000</td>\n",
       "      <td>-1.000000</td>\n",
       "      <td>-4.320000</td>\n",
       "      <td>0.678864</td>\n",
       "      <td>4.320000</td>\n",
       "      <td>-0.735356</td>\n",
       "      <td>NaN</td>\n",
       "      <td>0.373626</td>\n",
       "      <td>NaN</td>\n",
       "      <td>NaN</td>\n",
       "      <td>...</td>\n",
       "      <td>NaN</td>\n",
       "      <td>NaN</td>\n",
       "      <td>0</td>\n",
       "      <td>0</td>\n",
       "      <td>0</td>\n",
       "      <td>0</td>\n",
       "      <td>NaN</td>\n",
       "      <td>NaN</td>\n",
       "      <td>0</td>\n",
       "      <td>0</td>\n",
       "    </tr>\n",
       "    <tr>\n",
       "      <th>2021/01/08</th>\n",
       "      <td>-1.000000</td>\n",
       "      <td>-1.000000</td>\n",
       "      <td>-1.130005</td>\n",
       "      <td>-0.158262</td>\n",
       "      <td>1.130005</td>\n",
       "      <td>-0.769307</td>\n",
       "      <td>NaN</td>\n",
       "      <td>0.500000</td>\n",
       "      <td>NaN</td>\n",
       "      <td>NaN</td>\n",
       "      <td>...</td>\n",
       "      <td>NaN</td>\n",
       "      <td>NaN</td>\n",
       "      <td>0</td>\n",
       "      <td>0</td>\n",
       "      <td>0</td>\n",
       "      <td>0</td>\n",
       "      <td>NaN</td>\n",
       "      <td>NaN</td>\n",
       "      <td>0</td>\n",
       "      <td>0</td>\n",
       "    </tr>\n",
       "    <tr>\n",
       "      <th>2021/01/11</th>\n",
       "      <td>-1.000000</td>\n",
       "      <td>-1.000000</td>\n",
       "      <td>3.070007</td>\n",
       "      <td>-0.125677</td>\n",
       "      <td>-3.070007</td>\n",
       "      <td>-0.289770</td>\n",
       "      <td>NaN</td>\n",
       "      <td>0.758242</td>\n",
       "      <td>NaN</td>\n",
       "      <td>NaN</td>\n",
       "      <td>...</td>\n",
       "      <td>NaN</td>\n",
       "      <td>NaN</td>\n",
       "      <td>0</td>\n",
       "      <td>0</td>\n",
       "      <td>0</td>\n",
       "      <td>0</td>\n",
       "      <td>NaN</td>\n",
       "      <td>NaN</td>\n",
       "      <td>0</td>\n",
       "      <td>0</td>\n",
       "    </tr>\n",
       "    <tr>\n",
       "      <th>...</th>\n",
       "      <th>...</th>\n",
       "      <td>...</td>\n",
       "      <td>...</td>\n",
       "      <td>...</td>\n",
       "      <td>...</td>\n",
       "      <td>...</td>\n",
       "      <td>...</td>\n",
       "      <td>...</td>\n",
       "      <td>...</td>\n",
       "      <td>...</td>\n",
       "      <td>...</td>\n",
       "      <td>...</td>\n",
       "      <td>...</td>\n",
       "      <td>...</td>\n",
       "      <td>...</td>\n",
       "      <td>...</td>\n",
       "      <td>...</td>\n",
       "      <td>...</td>\n",
       "      <td>...</td>\n",
       "      <td>...</td>\n",
       "      <td>...</td>\n",
       "      <td>...</td>\n",
       "    </tr>\n",
       "    <tr>\n",
       "      <th rowspan=\"5\" valign=\"top\">ZBRA</th>\n",
       "      <th>2022/12/23</th>\n",
       "      <td>-0.710007</td>\n",
       "      <td>-0.710007</td>\n",
       "      <td>-0.710007</td>\n",
       "      <td>0.310431</td>\n",
       "      <td>0.710007</td>\n",
       "      <td>-0.768550</td>\n",
       "      <td>17.0</td>\n",
       "      <td>0.263736</td>\n",
       "      <td>0.252747</td>\n",
       "      <td>-0.006871</td>\n",
       "      <td>...</td>\n",
       "      <td>0.009258</td>\n",
       "      <td>-0.402229</td>\n",
       "      <td>-1</td>\n",
       "      <td>-1</td>\n",
       "      <td>0</td>\n",
       "      <td>-1</td>\n",
       "      <td>0.186813</td>\n",
       "      <td>0.891633</td>\n",
       "      <td>0</td>\n",
       "      <td>1</td>\n",
       "    </tr>\n",
       "    <tr>\n",
       "      <th>2022/12/27</th>\n",
       "      <td>-2.779999</td>\n",
       "      <td>-2.779999</td>\n",
       "      <td>-2.779999</td>\n",
       "      <td>0.245864</td>\n",
       "      <td>-2.779999</td>\n",
       "      <td>-0.553716</td>\n",
       "      <td>480.0</td>\n",
       "      <td>0.065934</td>\n",
       "      <td>0.109890</td>\n",
       "      <td>-0.007423</td>\n",
       "      <td>...</td>\n",
       "      <td>-0.046731</td>\n",
       "      <td>-0.396350</td>\n",
       "      <td>-1</td>\n",
       "      <td>-1</td>\n",
       "      <td>0</td>\n",
       "      <td>-1</td>\n",
       "      <td>0.890110</td>\n",
       "      <td>0.917294</td>\n",
       "      <td>0</td>\n",
       "      <td>1</td>\n",
       "    </tr>\n",
       "    <tr>\n",
       "      <th>2022/12/28</th>\n",
       "      <td>4.160004</td>\n",
       "      <td>4.160004</td>\n",
       "      <td>4.160004</td>\n",
       "      <td>-0.471441</td>\n",
       "      <td>-4.160004</td>\n",
       "      <td>-0.098952</td>\n",
       "      <td>45.0</td>\n",
       "      <td>0.857143</td>\n",
       "      <td>0.681319</td>\n",
       "      <td>0.017860</td>\n",
       "      <td>...</td>\n",
       "      <td>0.001790</td>\n",
       "      <td>0.324595</td>\n",
       "      <td>-1</td>\n",
       "      <td>-1</td>\n",
       "      <td>0</td>\n",
       "      <td>-1</td>\n",
       "      <td>0.945055</td>\n",
       "      <td>0.573654</td>\n",
       "      <td>0</td>\n",
       "      <td>1</td>\n",
       "    </tr>\n",
       "    <tr>\n",
       "      <th>2022/12/29</th>\n",
       "      <td>-10.690002</td>\n",
       "      <td>-10.690002</td>\n",
       "      <td>-10.690002</td>\n",
       "      <td>0.881671</td>\n",
       "      <td>-10.690002</td>\n",
       "      <td>-0.805285</td>\n",
       "      <td>1860.0</td>\n",
       "      <td>0.109890</td>\n",
       "      <td>0.494505</td>\n",
       "      <td>-0.034240</td>\n",
       "      <td>...</td>\n",
       "      <td>-0.098022</td>\n",
       "      <td>-0.274630</td>\n",
       "      <td>-1</td>\n",
       "      <td>-1</td>\n",
       "      <td>0</td>\n",
       "      <td>-1</td>\n",
       "      <td>0.934066</td>\n",
       "      <td>0.224633</td>\n",
       "      <td>0</td>\n",
       "      <td>1</td>\n",
       "    </tr>\n",
       "    <tr>\n",
       "      <th>2022/12/30</th>\n",
       "      <td>1.119995</td>\n",
       "      <td>1.119995</td>\n",
       "      <td>1.119995</td>\n",
       "      <td>0.440152</td>\n",
       "      <td>-1.119995</td>\n",
       "      <td>-0.932841</td>\n",
       "      <td>495.0</td>\n",
       "      <td>0.802198</td>\n",
       "      <td>0.604396</td>\n",
       "      <td>-0.020725</td>\n",
       "      <td>...</td>\n",
       "      <td>-0.500439</td>\n",
       "      <td>-0.338290</td>\n",
       "      <td>-1</td>\n",
       "      <td>-1</td>\n",
       "      <td>0</td>\n",
       "      <td>-1</td>\n",
       "      <td>0.956044</td>\n",
       "      <td>0.083165</td>\n",
       "      <td>0</td>\n",
       "      <td>1</td>\n",
       "    </tr>\n",
       "  </tbody>\n",
       "</table>\n",
       "<p>45682 rows × 69 columns</p>\n",
       "</div>"
      ],
      "text/plain": [
       "                         a49        a51         a9      a101        a12  \\\n",
       "ticker Date                                                               \n",
       "AAPL   2021/01/05  -1.000000  -1.000000        NaN  0.640286        NaN   \n",
       "       2021/01/06  -1.000000  -1.000000   4.409996 -0.239778   4.409996   \n",
       "       2021/01/07  -1.000000  -1.000000  -4.320000  0.678864   4.320000   \n",
       "       2021/01/08  -1.000000  -1.000000  -1.130005 -0.158262   1.130005   \n",
       "       2021/01/11  -1.000000  -1.000000   3.070007 -0.125677  -3.070007   \n",
       "...                      ...        ...        ...       ...        ...   \n",
       "ZBRA   2022/12/23  -0.710007  -0.710007  -0.710007  0.310431   0.710007   \n",
       "       2022/12/27  -2.779999  -2.779999  -2.779999  0.245864  -2.779999   \n",
       "       2022/12/28   4.160004   4.160004   4.160004 -0.471441  -4.160004   \n",
       "       2022/12/29 -10.690002 -10.690002 -10.690002  0.881671 -10.690002   \n",
       "       2022/12/30   1.119995   1.119995   1.119995  0.440152  -1.119995   \n",
       "\n",
       "                        a54     a35       a10       a25       a28  ...  \\\n",
       "ticker Date                                                        ...   \n",
       "AAPL   2021/01/05 -0.718397     NaN       NaN       NaN       NaN  ...   \n",
       "       2021/01/06 -0.049230     NaN  0.758242       NaN       NaN  ...   \n",
       "       2021/01/07 -0.735356     NaN  0.373626       NaN       NaN  ...   \n",
       "       2021/01/08 -0.769307     NaN  0.500000       NaN       NaN  ...   \n",
       "       2021/01/11 -0.289770     NaN  0.758242       NaN       NaN  ...   \n",
       "...                     ...     ...       ...       ...       ...  ...   \n",
       "ZBRA   2022/12/23 -0.768550    17.0  0.263736  0.252747 -0.006871  ...   \n",
       "       2022/12/27 -0.553716   480.0  0.065934  0.109890 -0.007423  ...   \n",
       "       2022/12/28 -0.098952    45.0  0.857143  0.681319  0.017860  ...   \n",
       "       2022/12/29 -0.805285  1860.0  0.109890  0.494505 -0.034240  ...   \n",
       "       2022/12/30 -0.932841   495.0  0.802198  0.604396 -0.020725  ...   \n",
       "\n",
       "                        a30       a55  a62  a64  a68  a81       a84       a85  \\\n",
       "ticker Date                                                                     \n",
       "AAPL   2021/01/05       NaN       NaN    0    0    0    0       NaN       NaN   \n",
       "       2021/01/06       NaN       NaN    0    0    0    0       NaN       NaN   \n",
       "       2021/01/07       NaN       NaN    0    0    0    0       NaN       NaN   \n",
       "       2021/01/08       NaN       NaN    0    0    0    0       NaN       NaN   \n",
       "       2021/01/11       NaN       NaN    0    0    0    0       NaN       NaN   \n",
       "...                     ...       ...  ...  ...  ...  ...       ...       ...   \n",
       "ZBRA   2022/12/23  0.009258 -0.402229   -1   -1    0   -1  0.186813  0.891633   \n",
       "       2022/12/27 -0.046731 -0.396350   -1   -1    0   -1  0.890110  0.917294   \n",
       "       2022/12/28  0.001790  0.324595   -1   -1    0   -1  0.945055  0.573654   \n",
       "       2022/12/29 -0.098022 -0.274630   -1   -1    0   -1  0.934066  0.224633   \n",
       "       2022/12/30 -0.500439 -0.338290   -1   -1    0   -1  0.956044  0.083165   \n",
       "\n",
       "                   a86  a95  \n",
       "ticker Date                  \n",
       "AAPL   2021/01/05    0    0  \n",
       "       2021/01/06    0    0  \n",
       "       2021/01/07    0    0  \n",
       "       2021/01/08    0    0  \n",
       "       2021/01/11    0    0  \n",
       "...                ...  ...  \n",
       "ZBRA   2022/12/23    0    1  \n",
       "       2022/12/27    0    1  \n",
       "       2022/12/28    0    1  \n",
       "       2022/12/29    0    1  \n",
       "       2022/12/30    0    1  \n",
       "\n",
       "[45682 rows x 69 columns]"
      ]
     },
     "execution_count": 187,
     "metadata": {},
     "output_type": "execute_result"
    }
   ],
   "source": [
    "result"
   ]
  },
  {
   "cell_type": "code",
   "execution_count": 188,
   "id": "26a9a6dc",
   "metadata": {},
   "outputs": [],
   "source": [
    "#selected_result.columns"
   ]
  },
  {
   "cell_type": "code",
   "execution_count": 189,
   "id": "f341b53d",
   "metadata": {},
   "outputs": [],
   "source": [
    "alpha=result[['a51', 'a49', 'a12', 'a35', 'a54', 'a25', 'a17', 'a38', 'a18', 'a34',\n",
    "       'a46', 'a42', 'a28', 'a83', 'a60', 'a7', 'a47', 'a43', 'a20', 'a24',\n",
    "       'a5', 'a45', 'a23', 'a74', 'a13', 'a84', 'a81', 'a11', 'a21', 'a14']]"
   ]
  },
  {
   "cell_type": "code",
   "execution_count": 190,
   "id": "4d823a54",
   "metadata": {},
   "outputs": [
    {
     "data": {
      "text/html": [
       "<div>\n",
       "<style scoped>\n",
       "    .dataframe tbody tr th:only-of-type {\n",
       "        vertical-align: middle;\n",
       "    }\n",
       "\n",
       "    .dataframe tbody tr th {\n",
       "        vertical-align: top;\n",
       "    }\n",
       "\n",
       "    .dataframe thead th {\n",
       "        text-align: right;\n",
       "    }\n",
       "</style>\n",
       "<table border=\"1\" class=\"dataframe\">\n",
       "  <thead>\n",
       "    <tr style=\"text-align: right;\">\n",
       "      <th></th>\n",
       "      <th></th>\n",
       "      <th>a51</th>\n",
       "      <th>a49</th>\n",
       "      <th>a12</th>\n",
       "      <th>a35</th>\n",
       "      <th>a54</th>\n",
       "      <th>a25</th>\n",
       "      <th>a17</th>\n",
       "      <th>a38</th>\n",
       "      <th>a18</th>\n",
       "      <th>a34</th>\n",
       "      <th>...</th>\n",
       "      <th>a5</th>\n",
       "      <th>a45</th>\n",
       "      <th>a23</th>\n",
       "      <th>a74</th>\n",
       "      <th>a13</th>\n",
       "      <th>a84</th>\n",
       "      <th>a81</th>\n",
       "      <th>a11</th>\n",
       "      <th>a21</th>\n",
       "      <th>a14</th>\n",
       "    </tr>\n",
       "    <tr>\n",
       "      <th>ticker</th>\n",
       "      <th>Date</th>\n",
       "      <th></th>\n",
       "      <th></th>\n",
       "      <th></th>\n",
       "      <th></th>\n",
       "      <th></th>\n",
       "      <th></th>\n",
       "      <th></th>\n",
       "      <th></th>\n",
       "      <th></th>\n",
       "      <th></th>\n",
       "      <th></th>\n",
       "      <th></th>\n",
       "      <th></th>\n",
       "      <th></th>\n",
       "      <th></th>\n",
       "      <th></th>\n",
       "      <th></th>\n",
       "      <th></th>\n",
       "      <th></th>\n",
       "      <th></th>\n",
       "      <th></th>\n",
       "    </tr>\n",
       "  </thead>\n",
       "  <tbody>\n",
       "    <tr>\n",
       "      <th rowspan=\"5\" valign=\"top\">AAPL</th>\n",
       "      <th>2021/01/05</th>\n",
       "      <td>-1.000000</td>\n",
       "      <td>-1.000000</td>\n",
       "      <td>NaN</td>\n",
       "      <td>NaN</td>\n",
       "      <td>-0.718397</td>\n",
       "      <td>NaN</td>\n",
       "      <td>NaN</td>\n",
       "      <td>NaN</td>\n",
       "      <td>NaN</td>\n",
       "      <td>NaN</td>\n",
       "      <td>...</td>\n",
       "      <td>NaN</td>\n",
       "      <td>NaN</td>\n",
       "      <td>0.0</td>\n",
       "      <td>0</td>\n",
       "      <td>NaN</td>\n",
       "      <td>NaN</td>\n",
       "      <td>0</td>\n",
       "      <td>NaN</td>\n",
       "      <td>1</td>\n",
       "      <td>NaN</td>\n",
       "    </tr>\n",
       "    <tr>\n",
       "      <th>2021/01/06</th>\n",
       "      <td>-1.000000</td>\n",
       "      <td>-1.000000</td>\n",
       "      <td>4.409996</td>\n",
       "      <td>NaN</td>\n",
       "      <td>-0.049230</td>\n",
       "      <td>NaN</td>\n",
       "      <td>NaN</td>\n",
       "      <td>NaN</td>\n",
       "      <td>NaN</td>\n",
       "      <td>NaN</td>\n",
       "      <td>...</td>\n",
       "      <td>NaN</td>\n",
       "      <td>NaN</td>\n",
       "      <td>0.0</td>\n",
       "      <td>0</td>\n",
       "      <td>NaN</td>\n",
       "      <td>NaN</td>\n",
       "      <td>0</td>\n",
       "      <td>NaN</td>\n",
       "      <td>1</td>\n",
       "      <td>NaN</td>\n",
       "    </tr>\n",
       "    <tr>\n",
       "      <th>2021/01/07</th>\n",
       "      <td>-1.000000</td>\n",
       "      <td>-1.000000</td>\n",
       "      <td>4.320000</td>\n",
       "      <td>NaN</td>\n",
       "      <td>-0.735356</td>\n",
       "      <td>NaN</td>\n",
       "      <td>NaN</td>\n",
       "      <td>NaN</td>\n",
       "      <td>NaN</td>\n",
       "      <td>NaN</td>\n",
       "      <td>...</td>\n",
       "      <td>NaN</td>\n",
       "      <td>NaN</td>\n",
       "      <td>0.0</td>\n",
       "      <td>0</td>\n",
       "      <td>NaN</td>\n",
       "      <td>NaN</td>\n",
       "      <td>0</td>\n",
       "      <td>NaN</td>\n",
       "      <td>1</td>\n",
       "      <td>NaN</td>\n",
       "    </tr>\n",
       "    <tr>\n",
       "      <th>2021/01/08</th>\n",
       "      <td>-1.000000</td>\n",
       "      <td>-1.000000</td>\n",
       "      <td>1.130005</td>\n",
       "      <td>NaN</td>\n",
       "      <td>-0.769307</td>\n",
       "      <td>NaN</td>\n",
       "      <td>NaN</td>\n",
       "      <td>NaN</td>\n",
       "      <td>NaN</td>\n",
       "      <td>NaN</td>\n",
       "      <td>...</td>\n",
       "      <td>NaN</td>\n",
       "      <td>NaN</td>\n",
       "      <td>0.0</td>\n",
       "      <td>0</td>\n",
       "      <td>NaN</td>\n",
       "      <td>NaN</td>\n",
       "      <td>0</td>\n",
       "      <td>1.188262</td>\n",
       "      <td>1</td>\n",
       "      <td>NaN</td>\n",
       "    </tr>\n",
       "    <tr>\n",
       "      <th>2021/01/11</th>\n",
       "      <td>-1.000000</td>\n",
       "      <td>-1.000000</td>\n",
       "      <td>-3.070007</td>\n",
       "      <td>NaN</td>\n",
       "      <td>-0.289770</td>\n",
       "      <td>NaN</td>\n",
       "      <td>NaN</td>\n",
       "      <td>NaN</td>\n",
       "      <td>NaN</td>\n",
       "      <td>0.846154</td>\n",
       "      <td>...</td>\n",
       "      <td>NaN</td>\n",
       "      <td>NaN</td>\n",
       "      <td>0.0</td>\n",
       "      <td>0</td>\n",
       "      <td>-0.631868</td>\n",
       "      <td>NaN</td>\n",
       "      <td>0</td>\n",
       "      <td>0.009419</td>\n",
       "      <td>1</td>\n",
       "      <td>NaN</td>\n",
       "    </tr>\n",
       "    <tr>\n",
       "      <th>...</th>\n",
       "      <th>...</th>\n",
       "      <td>...</td>\n",
       "      <td>...</td>\n",
       "      <td>...</td>\n",
       "      <td>...</td>\n",
       "      <td>...</td>\n",
       "      <td>...</td>\n",
       "      <td>...</td>\n",
       "      <td>...</td>\n",
       "      <td>...</td>\n",
       "      <td>...</td>\n",
       "      <td>...</td>\n",
       "      <td>...</td>\n",
       "      <td>...</td>\n",
       "      <td>...</td>\n",
       "      <td>...</td>\n",
       "      <td>...</td>\n",
       "      <td>...</td>\n",
       "      <td>...</td>\n",
       "      <td>...</td>\n",
       "      <td>...</td>\n",
       "      <td>...</td>\n",
       "    </tr>\n",
       "    <tr>\n",
       "      <th rowspan=\"5\" valign=\"top\">ZBRA</th>\n",
       "      <th>2022/12/23</th>\n",
       "      <td>-0.710007</td>\n",
       "      <td>-0.710007</td>\n",
       "      <td>0.710007</td>\n",
       "      <td>17.0</td>\n",
       "      <td>-0.768550</td>\n",
       "      <td>0.252747</td>\n",
       "      <td>-0.196186</td>\n",
       "      <td>-0.289639</td>\n",
       "      <td>-0.780220</td>\n",
       "      <td>0.505495</td>\n",
       "      <td>...</td>\n",
       "      <td>0.220626</td>\n",
       "      <td>0.633981</td>\n",
       "      <td>0.0</td>\n",
       "      <td>0</td>\n",
       "      <td>-0.824176</td>\n",
       "      <td>0.186813</td>\n",
       "      <td>-1</td>\n",
       "      <td>0.262046</td>\n",
       "      <td>1</td>\n",
       "      <td>-0.045591</td>\n",
       "    </tr>\n",
       "    <tr>\n",
       "      <th>2022/12/27</th>\n",
       "      <td>-2.779999</td>\n",
       "      <td>-2.779999</td>\n",
       "      <td>-2.779999</td>\n",
       "      <td>480.0</td>\n",
       "      <td>-0.553716</td>\n",
       "      <td>0.109890</td>\n",
       "      <td>-0.361244</td>\n",
       "      <td>-0.701727</td>\n",
       "      <td>-0.901099</td>\n",
       "      <td>0.120879</td>\n",
       "      <td>...</td>\n",
       "      <td>0.386185</td>\n",
       "      <td>-0.118343</td>\n",
       "      <td>0.0</td>\n",
       "      <td>0</td>\n",
       "      <td>-0.494505</td>\n",
       "      <td>0.890110</td>\n",
       "      <td>-1</td>\n",
       "      <td>0.113996</td>\n",
       "      <td>1</td>\n",
       "      <td>-0.242510</td>\n",
       "    </tr>\n",
       "    <tr>\n",
       "      <th>2022/12/28</th>\n",
       "      <td>4.160004</td>\n",
       "      <td>4.160004</td>\n",
       "      <td>-4.160004</td>\n",
       "      <td>45.0</td>\n",
       "      <td>-0.098952</td>\n",
       "      <td>0.681319</td>\n",
       "      <td>-0.022559</td>\n",
       "      <td>-0.218814</td>\n",
       "      <td>-0.076923</td>\n",
       "      <td>0.417582</td>\n",
       "      <td>...</td>\n",
       "      <td>0.099626</td>\n",
       "      <td>-0.701606</td>\n",
       "      <td>0.0</td>\n",
       "      <td>0</td>\n",
       "      <td>-0.428571</td>\n",
       "      <td>0.945055</td>\n",
       "      <td>-1</td>\n",
       "      <td>0.912933</td>\n",
       "      <td>1</td>\n",
       "      <td>-0.020024</td>\n",
       "    </tr>\n",
       "    <tr>\n",
       "      <th>2022/12/29</th>\n",
       "      <td>-10.690002</td>\n",
       "      <td>-10.690002</td>\n",
       "      <td>-10.690002</td>\n",
       "      <td>1860.0</td>\n",
       "      <td>-0.805285</td>\n",
       "      <td>0.494505</td>\n",
       "      <td>-0.776495</td>\n",
       "      <td>-0.851950</td>\n",
       "      <td>-0.901099</td>\n",
       "      <td>0.021978</td>\n",
       "      <td>...</td>\n",
       "      <td>0.831421</td>\n",
       "      <td>-0.050719</td>\n",
       "      <td>0.0</td>\n",
       "      <td>-1</td>\n",
       "      <td>-0.340659</td>\n",
       "      <td>0.934066</td>\n",
       "      <td>-1</td>\n",
       "      <td>0.375317</td>\n",
       "      <td>1</td>\n",
       "      <td>-0.085588</td>\n",
       "    </tr>\n",
       "    <tr>\n",
       "      <th>2022/12/30</th>\n",
       "      <td>1.119995</td>\n",
       "      <td>1.119995</td>\n",
       "      <td>-1.119995</td>\n",
       "      <td>495.0</td>\n",
       "      <td>-0.932841</td>\n",
       "      <td>0.604396</td>\n",
       "      <td>-0.040726</td>\n",
       "      <td>-0.499457</td>\n",
       "      <td>-0.813187</td>\n",
       "      <td>0.483516</td>\n",
       "      <td>...</td>\n",
       "      <td>0.787948</td>\n",
       "      <td>-0.329670</td>\n",
       "      <td>0.0</td>\n",
       "      <td>-1</td>\n",
       "      <td>-0.318681</td>\n",
       "      <td>0.956044</td>\n",
       "      <td>-1</td>\n",
       "      <td>0.461538</td>\n",
       "      <td>-1</td>\n",
       "      <td>0.007361</td>\n",
       "    </tr>\n",
       "  </tbody>\n",
       "</table>\n",
       "<p>45682 rows × 30 columns</p>\n",
       "</div>"
      ],
      "text/plain": [
       "                         a51        a49        a12     a35       a54  \\\n",
       "ticker Date                                                            \n",
       "AAPL   2021/01/05  -1.000000  -1.000000        NaN     NaN -0.718397   \n",
       "       2021/01/06  -1.000000  -1.000000   4.409996     NaN -0.049230   \n",
       "       2021/01/07  -1.000000  -1.000000   4.320000     NaN -0.735356   \n",
       "       2021/01/08  -1.000000  -1.000000   1.130005     NaN -0.769307   \n",
       "       2021/01/11  -1.000000  -1.000000  -3.070007     NaN -0.289770   \n",
       "...                      ...        ...        ...     ...       ...   \n",
       "ZBRA   2022/12/23  -0.710007  -0.710007   0.710007    17.0 -0.768550   \n",
       "       2022/12/27  -2.779999  -2.779999  -2.779999   480.0 -0.553716   \n",
       "       2022/12/28   4.160004   4.160004  -4.160004    45.0 -0.098952   \n",
       "       2022/12/29 -10.690002 -10.690002 -10.690002  1860.0 -0.805285   \n",
       "       2022/12/30   1.119995   1.119995  -1.119995   495.0 -0.932841   \n",
       "\n",
       "                        a25       a17       a38       a18       a34  ...  \\\n",
       "ticker Date                                                          ...   \n",
       "AAPL   2021/01/05       NaN       NaN       NaN       NaN       NaN  ...   \n",
       "       2021/01/06       NaN       NaN       NaN       NaN       NaN  ...   \n",
       "       2021/01/07       NaN       NaN       NaN       NaN       NaN  ...   \n",
       "       2021/01/08       NaN       NaN       NaN       NaN       NaN  ...   \n",
       "       2021/01/11       NaN       NaN       NaN       NaN  0.846154  ...   \n",
       "...                     ...       ...       ...       ...       ...  ...   \n",
       "ZBRA   2022/12/23  0.252747 -0.196186 -0.289639 -0.780220  0.505495  ...   \n",
       "       2022/12/27  0.109890 -0.361244 -0.701727 -0.901099  0.120879  ...   \n",
       "       2022/12/28  0.681319 -0.022559 -0.218814 -0.076923  0.417582  ...   \n",
       "       2022/12/29  0.494505 -0.776495 -0.851950 -0.901099  0.021978  ...   \n",
       "       2022/12/30  0.604396 -0.040726 -0.499457 -0.813187  0.483516  ...   \n",
       "\n",
       "                         a5       a45  a23  a74       a13       a84  a81  \\\n",
       "ticker Date                                                                \n",
       "AAPL   2021/01/05       NaN       NaN  0.0    0       NaN       NaN    0   \n",
       "       2021/01/06       NaN       NaN  0.0    0       NaN       NaN    0   \n",
       "       2021/01/07       NaN       NaN  0.0    0       NaN       NaN    0   \n",
       "       2021/01/08       NaN       NaN  0.0    0       NaN       NaN    0   \n",
       "       2021/01/11       NaN       NaN  0.0    0 -0.631868       NaN    0   \n",
       "...                     ...       ...  ...  ...       ...       ...  ...   \n",
       "ZBRA   2022/12/23  0.220626  0.633981  0.0    0 -0.824176  0.186813   -1   \n",
       "       2022/12/27  0.386185 -0.118343  0.0    0 -0.494505  0.890110   -1   \n",
       "       2022/12/28  0.099626 -0.701606  0.0    0 -0.428571  0.945055   -1   \n",
       "       2022/12/29  0.831421 -0.050719  0.0   -1 -0.340659  0.934066   -1   \n",
       "       2022/12/30  0.787948 -0.329670  0.0   -1 -0.318681  0.956044   -1   \n",
       "\n",
       "                        a11  a21       a14  \n",
       "ticker Date                                 \n",
       "AAPL   2021/01/05       NaN    1       NaN  \n",
       "       2021/01/06       NaN    1       NaN  \n",
       "       2021/01/07       NaN    1       NaN  \n",
       "       2021/01/08  1.188262    1       NaN  \n",
       "       2021/01/11  0.009419    1       NaN  \n",
       "...                     ...  ...       ...  \n",
       "ZBRA   2022/12/23  0.262046    1 -0.045591  \n",
       "       2022/12/27  0.113996    1 -0.242510  \n",
       "       2022/12/28  0.912933    1 -0.020024  \n",
       "       2022/12/29  0.375317    1 -0.085588  \n",
       "       2022/12/30  0.461538   -1  0.007361  \n",
       "\n",
       "[45682 rows x 30 columns]"
      ]
     },
     "execution_count": 190,
     "metadata": {},
     "output_type": "execute_result"
    }
   ],
   "source": [
    "alpha"
   ]
  },
  {
   "cell_type": "code",
   "execution_count": 191,
   "id": "603a31fd",
   "metadata": {},
   "outputs": [],
   "source": [
    "alpha.to_csv('backtesting alpha 2021&2022.csv')"
   ]
  },
  {
   "cell_type": "code",
   "execution_count": null,
   "id": "7114b7f3",
   "metadata": {},
   "outputs": [],
   "source": []
  },
  {
   "cell_type": "code",
   "execution_count": null,
   "id": "013db040",
   "metadata": {},
   "outputs": [],
   "source": []
  },
  {
   "cell_type": "code",
   "execution_count": null,
   "id": "283a1ae4",
   "metadata": {},
   "outputs": [],
   "source": []
  }
 ],
 "metadata": {
  "kernelspec": {
   "display_name": "Python 3 (ipykernel)",
   "language": "python",
   "name": "python3"
  },
  "language_info": {
   "codemirror_mode": {
    "name": "ipython",
    "version": 3
   },
   "file_extension": ".py",
   "mimetype": "text/x-python",
   "name": "python",
   "nbconvert_exporter": "python",
   "pygments_lexer": "ipython3",
   "version": "3.9.7"
  }
 },
 "nbformat": 4,
 "nbformat_minor": 5
}
